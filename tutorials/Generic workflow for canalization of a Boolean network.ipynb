{
 "cells": [
  {
   "cell_type": "markdown",
   "metadata": {},
   "source": [
    "# Generic cancer network analysis effective graph\n",
    "\n",
    "> Based on **PNAS ER+ Breast Cancer notebook** from A.J. Gates, R.B. Correia, X. Wang, & L.M. Rocha [2021]. \"The effective graph reveals redundancy, canalization, and control pathways in biochemical regulation and signaling\". Proceedings of the National Academy of Sciences (PNAS), 118 (12)."
   ]
  },
  {
   "cell_type": "code",
   "execution_count": 4,
   "metadata": {
    "scrolled": false
   },
   "outputs": [],
   "source": [
    "import numpy as np\n",
    "import pandas as pd\n",
    "from collections import Counter\n",
    "import graphviz\n",
    "from copy import copy\n",
    "import os\n",
    "# Cana\n",
    "import cana\n",
    "from cana.boolean_network import BooleanNetwork\n",
    "from cana.datasets.bio import BREAST_CANCER, LEUKEMIA\n",
    "from cana.datasets.regan_networks import pi3kcellcycleapoptosis\n",
    "from cana.drawing.canalizing_map import draw_canalizing_map_graphviz\n",
    "from cana.custom_modules import visualize_schemata\n",
    "# Matplotlib\n",
    "import matplotlib as mpl\n",
    "import matplotlib.pyplot as plt\n",
    "from matplotlib.colors import LinearSegmentedColormap\n",
    "from matplotlib.text import Text\n",
    "from matplotlib.patches import Circle, Rectangle, RegularPolygon\n",
    "from matplotlib.collections import PatchCollection\n",
    "# Networkx\n",
    "import networkx as nx\n",
    "\n"
   ]
  },
  {
   "cell_type": "code",
   "execution_count": 5,
   "metadata": {},
   "outputs": [],
   "source": [
    "def calculates_path_length(G, path, weight='weight'):\n",
    "    path_weight_sum = 0.0\n",
    "    weakest_link = np.inf\n",
    "    for source, target in zip(path[:-1], path[1:]):\n",
    "        edge_weight = G.edges[(source, target)][weight]\n",
    "        path_weight_sum += edge_weight\n",
    "        if edge_weight < weakest_link:\n",
    "            weakest_link = edge_weight\n",
    "    return path_weight_sum, weakest_link"
   ]
  },
  {
   "cell_type": "markdown",
   "metadata": {},
   "source": [
    "# Load network of interest and calculate reduncy measures"
   ]
  },
  {
   "cell_type": "code",
   "execution_count": 9,
   "metadata": {
    "scrolled": false
   },
   "outputs": [],
   "source": [
    "# C = BREAST_CANCER()\n",
    "# C = LEUKEMIA()\n",
    "# regan_models = []\n",
    "# regan_models = load_all_regan_pi3k_models()\n",
    "# for N in regan_models:\n",
    "#     print(N.name)\n",
    "\n",
    "PI3K_full = pi3kcellcycleapoptosis()\n",
    "# print(PI3K_full.name)\n",
    "C = PI3K_full"
   ]
  },
  {
   "cell_type": "markdown",
   "metadata": {},
   "source": [
    "**Calculate redundancy measures at the node level - input redundancy, effective connectivity, and input symmetry**"
   ]
  },
  {
   "cell_type": "code",
   "execution_count": 7,
   "metadata": {},
   "outputs": [
    {
     "data": {
      "text/plain": "              node   k  k_r  k_e  k_r*  k_e*  k_s*\n63            BCL2  10  8.6  1.4  0.86  0.14  0.33\n12           AKT_H   7    6    1  0.85  0.15     1\n31         CyclinE   7    6    1  0.85  0.15  0.49\n34            Cdt1  10  8.3  1.7  0.83  0.17  0.51\n66             BIM   6  4.9  1.1  0.82  0.18  0.55\n56  A_Kinetochores   9  7.3  1.7  0.81  0.19   0.7\n52     Replication   8  6.4  1.6   0.8   0.2  0.59\n33            Cdc6   9  7.2  1.8   0.8   0.2   0.7\n61           MCL_1   9  7.1  1.9  0.79  0.21  0.32\n50           Cdc20   7  5.5  1.5  0.79  0.21  0.53\n58            Ect2   5  3.9  1.1  0.78  0.23  0.52\n14        PLCgamma   5  3.9  1.1  0.78  0.23     1\n27         p27Kip1   8  6.2  1.8  0.77  0.23  0.37\n54  U_Kinetochores   6  4.5  1.5  0.76  0.24  0.46\n46            Plk1   8    6    2  0.74  0.26  0.62\n41         CyclinA   7  5.2  1.8  0.74  0.26  0.72\n40          Cdc25A  10  7.2  2.8  0.72  0.28  0.44\n26             pRB   5  3.6  1.4  0.72  0.28  0.52\n35          Pre_RC   5  3.6  1.4  0.72  0.28   0.4\n30            E2F1   5  3.6  1.4  0.72  0.28  0.43\n47          Cdc25C   6  4.3  1.7  0.72  0.28  0.26\n42            Wee1   7    5    2  0.71  0.29  0.59\n62           BCLXL   8  5.7  2.3  0.71  0.29   0.6\n21          mTORC1   7  4.9  2.1  0.71  0.29  0.58\n11          PI3K_H   4  2.8  1.2   0.7   0.3     1\n38            Emi1   8  5.6  2.4   0.7   0.3  0.42\n57          Plk1_H   5  3.4  1.6  0.68  0.32  0.27\n48            Cdk1   5  3.4  1.6  0.68  0.32  0.35\n67             BID   5  3.4  1.6  0.68  0.32  0.57\n53         f4N_DNA   6  4.1  1.9  0.68  0.32  0.55\n44         CyclinB   6    4    2  0.67  0.33  0.48\n29        CyclinD1   7  4.7  2.3  0.67  0.33  0.59\n43          UbcH10   5  3.3  1.7  0.65  0.35  0.52\n39           FoxM1   8  5.2  2.8  0.65  0.35  0.67\n60           Casp2   5  3.2  1.8  0.65  0.35  0.47\n64             BAD   6  3.8  2.2  0.63  0.37  0.55\n69             BAX   6  3.8  2.2  0.63  0.37  0.27\n68             BAK   6  3.8  2.2  0.63  0.37  0.27\n9            AKT_B   4  2.5  1.5  0.62  0.38  0.56\n36         geminin   4  2.5  1.5  0.62  0.38  0.56\n32             ORC   4  2.4  1.6  0.59  0.41  0.56\n65             BIK   3  1.8  1.2  0.58  0.42     1\n25             p21   3  1.8  1.2  0.58  0.42  0.44\n37    CyclinA_mRNA   4  2.3  1.7  0.58  0.42  0.47\n51            Cdh1   5  2.9  2.1  0.57  0.43  0.57\n13           FoxO3   5  2.8  2.2  0.57  0.43  0.62\n49            pAPC   5  2.8  2.2  0.57  0.43  0.65\n28             Myc   5  2.6  2.4  0.53  0.47  0.43\n19          PRAS40   3  1.4  1.6  0.48  0.52  0.44\n73           Casp9   3  1.4  1.6  0.48  0.52  0.33\n24            GSK3   3  1.4  1.6  0.48  0.52  0.53\n18            TSC2   3  1.4  1.6  0.48  0.52  0.44\n1              RTK   3  1.4  1.6  0.48  0.52  0.44\n74           Casp3   4  1.7  2.3  0.42  0.58  0.56\n71            SMAC   2 0.75  1.2  0.38  0.62     1\n72            IAPs   2 0.75  1.2  0.38  0.62     0\n75             CAD   2 0.75  1.2  0.38  0.62     1\n81             ERK   2 0.75  1.2  0.38  0.62     0\n70          Cyto_C   2 0.75  1.2  0.38  0.62     1\n0               GF   2 0.75  1.2  0.38  0.62     1\n59           Casp8   2 0.75  1.2  0.38  0.62     1\n8             PDK1   2 0.75  1.2  0.38  0.62     1\n2             Grb2   2 0.75  1.2  0.38  0.62     1\n3              Ras   2 0.75  1.2  0.38  0.62     1\n4              RAF   2 0.75  1.2  0.38  0.62     0\n55            Mad2   2 0.75  1.2  0.38  0.62     0\n6             PI3K   2 0.75  1.2  0.38  0.62     1\n7             PIP3   2 0.75  1.2  0.38  0.62     1\n5           mTORC2   2 0.75  1.2  0.38  0.62     0\n45          Cdc25B   2 0.75  1.2  0.38  0.62     1\n16           FoxO1   2 0.75  1.2  0.38  0.62     1\n20            Rheb   2 0.75  1.2  0.38  0.62     0\n22             S6K   2 0.75  1.2  0.38  0.62     0\n23           eIF4E   2 0.75  1.2  0.38  0.62     0\n15          NeddL4   2 0.75  1.2  0.38  0.62     1\n10          p110_H   3    1    2  0.33  0.67  0.44\n17        p21_mRNA   3    1    2  0.33  0.67  0.44\n85             SOS   1    0    0     0     0     0\n84             MEK   1    0    0     0     0     0\n83             IP3   1    0    0     0     0     0\n82         GF_High   1    0    0     0     0     0\n78             Ca2   1    0    0     0     0     0\n80           DR4_5   1    0    0     0     0     0\n79             DAG   1    0    0     0     0     0\n77            CHK1   1    0    0     0     0     0\n76             ATR   1    0    0     0     0     0\n86           Trail   1    0    0     0     0     0",
      "text/html": "<div>\n<style scoped>\n    .dataframe tbody tr th:only-of-type {\n        vertical-align: middle;\n    }\n\n    .dataframe tbody tr th {\n        vertical-align: top;\n    }\n\n    .dataframe thead th {\n        text-align: right;\n    }\n</style>\n<table border=\"1\" class=\"dataframe\">\n  <thead>\n    <tr style=\"text-align: right;\">\n      <th></th>\n      <th>node</th>\n      <th>k</th>\n      <th>k_r</th>\n      <th>k_e</th>\n      <th>k_r*</th>\n      <th>k_e*</th>\n      <th>k_s*</th>\n    </tr>\n  </thead>\n  <tbody>\n    <tr>\n      <th>63</th>\n      <td>BCL2</td>\n      <td>10</td>\n      <td>8.6</td>\n      <td>1.4</td>\n      <td>0.86</td>\n      <td>0.14</td>\n      <td>0.33</td>\n    </tr>\n    <tr>\n      <th>12</th>\n      <td>AKT_H</td>\n      <td>7</td>\n      <td>6</td>\n      <td>1</td>\n      <td>0.85</td>\n      <td>0.15</td>\n      <td>1</td>\n    </tr>\n    <tr>\n      <th>31</th>\n      <td>CyclinE</td>\n      <td>7</td>\n      <td>6</td>\n      <td>1</td>\n      <td>0.85</td>\n      <td>0.15</td>\n      <td>0.49</td>\n    </tr>\n    <tr>\n      <th>34</th>\n      <td>Cdt1</td>\n      <td>10</td>\n      <td>8.3</td>\n      <td>1.7</td>\n      <td>0.83</td>\n      <td>0.17</td>\n      <td>0.51</td>\n    </tr>\n    <tr>\n      <th>66</th>\n      <td>BIM</td>\n      <td>6</td>\n      <td>4.9</td>\n      <td>1.1</td>\n      <td>0.82</td>\n      <td>0.18</td>\n      <td>0.55</td>\n    </tr>\n    <tr>\n      <th>56</th>\n      <td>A_Kinetochores</td>\n      <td>9</td>\n      <td>7.3</td>\n      <td>1.7</td>\n      <td>0.81</td>\n      <td>0.19</td>\n      <td>0.7</td>\n    </tr>\n    <tr>\n      <th>52</th>\n      <td>Replication</td>\n      <td>8</td>\n      <td>6.4</td>\n      <td>1.6</td>\n      <td>0.8</td>\n      <td>0.2</td>\n      <td>0.59</td>\n    </tr>\n    <tr>\n      <th>33</th>\n      <td>Cdc6</td>\n      <td>9</td>\n      <td>7.2</td>\n      <td>1.8</td>\n      <td>0.8</td>\n      <td>0.2</td>\n      <td>0.7</td>\n    </tr>\n    <tr>\n      <th>61</th>\n      <td>MCL_1</td>\n      <td>9</td>\n      <td>7.1</td>\n      <td>1.9</td>\n      <td>0.79</td>\n      <td>0.21</td>\n      <td>0.32</td>\n    </tr>\n    <tr>\n      <th>50</th>\n      <td>Cdc20</td>\n      <td>7</td>\n      <td>5.5</td>\n      <td>1.5</td>\n      <td>0.79</td>\n      <td>0.21</td>\n      <td>0.53</td>\n    </tr>\n    <tr>\n      <th>58</th>\n      <td>Ect2</td>\n      <td>5</td>\n      <td>3.9</td>\n      <td>1.1</td>\n      <td>0.78</td>\n      <td>0.23</td>\n      <td>0.52</td>\n    </tr>\n    <tr>\n      <th>14</th>\n      <td>PLCgamma</td>\n      <td>5</td>\n      <td>3.9</td>\n      <td>1.1</td>\n      <td>0.78</td>\n      <td>0.23</td>\n      <td>1</td>\n    </tr>\n    <tr>\n      <th>27</th>\n      <td>p27Kip1</td>\n      <td>8</td>\n      <td>6.2</td>\n      <td>1.8</td>\n      <td>0.77</td>\n      <td>0.23</td>\n      <td>0.37</td>\n    </tr>\n    <tr>\n      <th>54</th>\n      <td>U_Kinetochores</td>\n      <td>6</td>\n      <td>4.5</td>\n      <td>1.5</td>\n      <td>0.76</td>\n      <td>0.24</td>\n      <td>0.46</td>\n    </tr>\n    <tr>\n      <th>46</th>\n      <td>Plk1</td>\n      <td>8</td>\n      <td>6</td>\n      <td>2</td>\n      <td>0.74</td>\n      <td>0.26</td>\n      <td>0.62</td>\n    </tr>\n    <tr>\n      <th>41</th>\n      <td>CyclinA</td>\n      <td>7</td>\n      <td>5.2</td>\n      <td>1.8</td>\n      <td>0.74</td>\n      <td>0.26</td>\n      <td>0.72</td>\n    </tr>\n    <tr>\n      <th>40</th>\n      <td>Cdc25A</td>\n      <td>10</td>\n      <td>7.2</td>\n      <td>2.8</td>\n      <td>0.72</td>\n      <td>0.28</td>\n      <td>0.44</td>\n    </tr>\n    <tr>\n      <th>26</th>\n      <td>pRB</td>\n      <td>5</td>\n      <td>3.6</td>\n      <td>1.4</td>\n      <td>0.72</td>\n      <td>0.28</td>\n      <td>0.52</td>\n    </tr>\n    <tr>\n      <th>35</th>\n      <td>Pre_RC</td>\n      <td>5</td>\n      <td>3.6</td>\n      <td>1.4</td>\n      <td>0.72</td>\n      <td>0.28</td>\n      <td>0.4</td>\n    </tr>\n    <tr>\n      <th>30</th>\n      <td>E2F1</td>\n      <td>5</td>\n      <td>3.6</td>\n      <td>1.4</td>\n      <td>0.72</td>\n      <td>0.28</td>\n      <td>0.43</td>\n    </tr>\n    <tr>\n      <th>47</th>\n      <td>Cdc25C</td>\n      <td>6</td>\n      <td>4.3</td>\n      <td>1.7</td>\n      <td>0.72</td>\n      <td>0.28</td>\n      <td>0.26</td>\n    </tr>\n    <tr>\n      <th>42</th>\n      <td>Wee1</td>\n      <td>7</td>\n      <td>5</td>\n      <td>2</td>\n      <td>0.71</td>\n      <td>0.29</td>\n      <td>0.59</td>\n    </tr>\n    <tr>\n      <th>62</th>\n      <td>BCLXL</td>\n      <td>8</td>\n      <td>5.7</td>\n      <td>2.3</td>\n      <td>0.71</td>\n      <td>0.29</td>\n      <td>0.6</td>\n    </tr>\n    <tr>\n      <th>21</th>\n      <td>mTORC1</td>\n      <td>7</td>\n      <td>4.9</td>\n      <td>2.1</td>\n      <td>0.71</td>\n      <td>0.29</td>\n      <td>0.58</td>\n    </tr>\n    <tr>\n      <th>11</th>\n      <td>PI3K_H</td>\n      <td>4</td>\n      <td>2.8</td>\n      <td>1.2</td>\n      <td>0.7</td>\n      <td>0.3</td>\n      <td>1</td>\n    </tr>\n    <tr>\n      <th>38</th>\n      <td>Emi1</td>\n      <td>8</td>\n      <td>5.6</td>\n      <td>2.4</td>\n      <td>0.7</td>\n      <td>0.3</td>\n      <td>0.42</td>\n    </tr>\n    <tr>\n      <th>57</th>\n      <td>Plk1_H</td>\n      <td>5</td>\n      <td>3.4</td>\n      <td>1.6</td>\n      <td>0.68</td>\n      <td>0.32</td>\n      <td>0.27</td>\n    </tr>\n    <tr>\n      <th>48</th>\n      <td>Cdk1</td>\n      <td>5</td>\n      <td>3.4</td>\n      <td>1.6</td>\n      <td>0.68</td>\n      <td>0.32</td>\n      <td>0.35</td>\n    </tr>\n    <tr>\n      <th>67</th>\n      <td>BID</td>\n      <td>5</td>\n      <td>3.4</td>\n      <td>1.6</td>\n      <td>0.68</td>\n      <td>0.32</td>\n      <td>0.57</td>\n    </tr>\n    <tr>\n      <th>53</th>\n      <td>f4N_DNA</td>\n      <td>6</td>\n      <td>4.1</td>\n      <td>1.9</td>\n      <td>0.68</td>\n      <td>0.32</td>\n      <td>0.55</td>\n    </tr>\n    <tr>\n      <th>44</th>\n      <td>CyclinB</td>\n      <td>6</td>\n      <td>4</td>\n      <td>2</td>\n      <td>0.67</td>\n      <td>0.33</td>\n      <td>0.48</td>\n    </tr>\n    <tr>\n      <th>29</th>\n      <td>CyclinD1</td>\n      <td>7</td>\n      <td>4.7</td>\n      <td>2.3</td>\n      <td>0.67</td>\n      <td>0.33</td>\n      <td>0.59</td>\n    </tr>\n    <tr>\n      <th>43</th>\n      <td>UbcH10</td>\n      <td>5</td>\n      <td>3.3</td>\n      <td>1.7</td>\n      <td>0.65</td>\n      <td>0.35</td>\n      <td>0.52</td>\n    </tr>\n    <tr>\n      <th>39</th>\n      <td>FoxM1</td>\n      <td>8</td>\n      <td>5.2</td>\n      <td>2.8</td>\n      <td>0.65</td>\n      <td>0.35</td>\n      <td>0.67</td>\n    </tr>\n    <tr>\n      <th>60</th>\n      <td>Casp2</td>\n      <td>5</td>\n      <td>3.2</td>\n      <td>1.8</td>\n      <td>0.65</td>\n      <td>0.35</td>\n      <td>0.47</td>\n    </tr>\n    <tr>\n      <th>64</th>\n      <td>BAD</td>\n      <td>6</td>\n      <td>3.8</td>\n      <td>2.2</td>\n      <td>0.63</td>\n      <td>0.37</td>\n      <td>0.55</td>\n    </tr>\n    <tr>\n      <th>69</th>\n      <td>BAX</td>\n      <td>6</td>\n      <td>3.8</td>\n      <td>2.2</td>\n      <td>0.63</td>\n      <td>0.37</td>\n      <td>0.27</td>\n    </tr>\n    <tr>\n      <th>68</th>\n      <td>BAK</td>\n      <td>6</td>\n      <td>3.8</td>\n      <td>2.2</td>\n      <td>0.63</td>\n      <td>0.37</td>\n      <td>0.27</td>\n    </tr>\n    <tr>\n      <th>9</th>\n      <td>AKT_B</td>\n      <td>4</td>\n      <td>2.5</td>\n      <td>1.5</td>\n      <td>0.62</td>\n      <td>0.38</td>\n      <td>0.56</td>\n    </tr>\n    <tr>\n      <th>36</th>\n      <td>geminin</td>\n      <td>4</td>\n      <td>2.5</td>\n      <td>1.5</td>\n      <td>0.62</td>\n      <td>0.38</td>\n      <td>0.56</td>\n    </tr>\n    <tr>\n      <th>32</th>\n      <td>ORC</td>\n      <td>4</td>\n      <td>2.4</td>\n      <td>1.6</td>\n      <td>0.59</td>\n      <td>0.41</td>\n      <td>0.56</td>\n    </tr>\n    <tr>\n      <th>65</th>\n      <td>BIK</td>\n      <td>3</td>\n      <td>1.8</td>\n      <td>1.2</td>\n      <td>0.58</td>\n      <td>0.42</td>\n      <td>1</td>\n    </tr>\n    <tr>\n      <th>25</th>\n      <td>p21</td>\n      <td>3</td>\n      <td>1.8</td>\n      <td>1.2</td>\n      <td>0.58</td>\n      <td>0.42</td>\n      <td>0.44</td>\n    </tr>\n    <tr>\n      <th>37</th>\n      <td>CyclinA_mRNA</td>\n      <td>4</td>\n      <td>2.3</td>\n      <td>1.7</td>\n      <td>0.58</td>\n      <td>0.42</td>\n      <td>0.47</td>\n    </tr>\n    <tr>\n      <th>51</th>\n      <td>Cdh1</td>\n      <td>5</td>\n      <td>2.9</td>\n      <td>2.1</td>\n      <td>0.57</td>\n      <td>0.43</td>\n      <td>0.57</td>\n    </tr>\n    <tr>\n      <th>13</th>\n      <td>FoxO3</td>\n      <td>5</td>\n      <td>2.8</td>\n      <td>2.2</td>\n      <td>0.57</td>\n      <td>0.43</td>\n      <td>0.62</td>\n    </tr>\n    <tr>\n      <th>49</th>\n      <td>pAPC</td>\n      <td>5</td>\n      <td>2.8</td>\n      <td>2.2</td>\n      <td>0.57</td>\n      <td>0.43</td>\n      <td>0.65</td>\n    </tr>\n    <tr>\n      <th>28</th>\n      <td>Myc</td>\n      <td>5</td>\n      <td>2.6</td>\n      <td>2.4</td>\n      <td>0.53</td>\n      <td>0.47</td>\n      <td>0.43</td>\n    </tr>\n    <tr>\n      <th>19</th>\n      <td>PRAS40</td>\n      <td>3</td>\n      <td>1.4</td>\n      <td>1.6</td>\n      <td>0.48</td>\n      <td>0.52</td>\n      <td>0.44</td>\n    </tr>\n    <tr>\n      <th>73</th>\n      <td>Casp9</td>\n      <td>3</td>\n      <td>1.4</td>\n      <td>1.6</td>\n      <td>0.48</td>\n      <td>0.52</td>\n      <td>0.33</td>\n    </tr>\n    <tr>\n      <th>24</th>\n      <td>GSK3</td>\n      <td>3</td>\n      <td>1.4</td>\n      <td>1.6</td>\n      <td>0.48</td>\n      <td>0.52</td>\n      <td>0.53</td>\n    </tr>\n    <tr>\n      <th>18</th>\n      <td>TSC2</td>\n      <td>3</td>\n      <td>1.4</td>\n      <td>1.6</td>\n      <td>0.48</td>\n      <td>0.52</td>\n      <td>0.44</td>\n    </tr>\n    <tr>\n      <th>1</th>\n      <td>RTK</td>\n      <td>3</td>\n      <td>1.4</td>\n      <td>1.6</td>\n      <td>0.48</td>\n      <td>0.52</td>\n      <td>0.44</td>\n    </tr>\n    <tr>\n      <th>74</th>\n      <td>Casp3</td>\n      <td>4</td>\n      <td>1.7</td>\n      <td>2.3</td>\n      <td>0.42</td>\n      <td>0.58</td>\n      <td>0.56</td>\n    </tr>\n    <tr>\n      <th>71</th>\n      <td>SMAC</td>\n      <td>2</td>\n      <td>0.75</td>\n      <td>1.2</td>\n      <td>0.38</td>\n      <td>0.62</td>\n      <td>1</td>\n    </tr>\n    <tr>\n      <th>72</th>\n      <td>IAPs</td>\n      <td>2</td>\n      <td>0.75</td>\n      <td>1.2</td>\n      <td>0.38</td>\n      <td>0.62</td>\n      <td>0</td>\n    </tr>\n    <tr>\n      <th>75</th>\n      <td>CAD</td>\n      <td>2</td>\n      <td>0.75</td>\n      <td>1.2</td>\n      <td>0.38</td>\n      <td>0.62</td>\n      <td>1</td>\n    </tr>\n    <tr>\n      <th>81</th>\n      <td>ERK</td>\n      <td>2</td>\n      <td>0.75</td>\n      <td>1.2</td>\n      <td>0.38</td>\n      <td>0.62</td>\n      <td>0</td>\n    </tr>\n    <tr>\n      <th>70</th>\n      <td>Cyto_C</td>\n      <td>2</td>\n      <td>0.75</td>\n      <td>1.2</td>\n      <td>0.38</td>\n      <td>0.62</td>\n      <td>1</td>\n    </tr>\n    <tr>\n      <th>0</th>\n      <td>GF</td>\n      <td>2</td>\n      <td>0.75</td>\n      <td>1.2</td>\n      <td>0.38</td>\n      <td>0.62</td>\n      <td>1</td>\n    </tr>\n    <tr>\n      <th>59</th>\n      <td>Casp8</td>\n      <td>2</td>\n      <td>0.75</td>\n      <td>1.2</td>\n      <td>0.38</td>\n      <td>0.62</td>\n      <td>1</td>\n    </tr>\n    <tr>\n      <th>8</th>\n      <td>PDK1</td>\n      <td>2</td>\n      <td>0.75</td>\n      <td>1.2</td>\n      <td>0.38</td>\n      <td>0.62</td>\n      <td>1</td>\n    </tr>\n    <tr>\n      <th>2</th>\n      <td>Grb2</td>\n      <td>2</td>\n      <td>0.75</td>\n      <td>1.2</td>\n      <td>0.38</td>\n      <td>0.62</td>\n      <td>1</td>\n    </tr>\n    <tr>\n      <th>3</th>\n      <td>Ras</td>\n      <td>2</td>\n      <td>0.75</td>\n      <td>1.2</td>\n      <td>0.38</td>\n      <td>0.62</td>\n      <td>1</td>\n    </tr>\n    <tr>\n      <th>4</th>\n      <td>RAF</td>\n      <td>2</td>\n      <td>0.75</td>\n      <td>1.2</td>\n      <td>0.38</td>\n      <td>0.62</td>\n      <td>0</td>\n    </tr>\n    <tr>\n      <th>55</th>\n      <td>Mad2</td>\n      <td>2</td>\n      <td>0.75</td>\n      <td>1.2</td>\n      <td>0.38</td>\n      <td>0.62</td>\n      <td>0</td>\n    </tr>\n    <tr>\n      <th>6</th>\n      <td>PI3K</td>\n      <td>2</td>\n      <td>0.75</td>\n      <td>1.2</td>\n      <td>0.38</td>\n      <td>0.62</td>\n      <td>1</td>\n    </tr>\n    <tr>\n      <th>7</th>\n      <td>PIP3</td>\n      <td>2</td>\n      <td>0.75</td>\n      <td>1.2</td>\n      <td>0.38</td>\n      <td>0.62</td>\n      <td>1</td>\n    </tr>\n    <tr>\n      <th>5</th>\n      <td>mTORC2</td>\n      <td>2</td>\n      <td>0.75</td>\n      <td>1.2</td>\n      <td>0.38</td>\n      <td>0.62</td>\n      <td>0</td>\n    </tr>\n    <tr>\n      <th>45</th>\n      <td>Cdc25B</td>\n      <td>2</td>\n      <td>0.75</td>\n      <td>1.2</td>\n      <td>0.38</td>\n      <td>0.62</td>\n      <td>1</td>\n    </tr>\n    <tr>\n      <th>16</th>\n      <td>FoxO1</td>\n      <td>2</td>\n      <td>0.75</td>\n      <td>1.2</td>\n      <td>0.38</td>\n      <td>0.62</td>\n      <td>1</td>\n    </tr>\n    <tr>\n      <th>20</th>\n      <td>Rheb</td>\n      <td>2</td>\n      <td>0.75</td>\n      <td>1.2</td>\n      <td>0.38</td>\n      <td>0.62</td>\n      <td>0</td>\n    </tr>\n    <tr>\n      <th>22</th>\n      <td>S6K</td>\n      <td>2</td>\n      <td>0.75</td>\n      <td>1.2</td>\n      <td>0.38</td>\n      <td>0.62</td>\n      <td>0</td>\n    </tr>\n    <tr>\n      <th>23</th>\n      <td>eIF4E</td>\n      <td>2</td>\n      <td>0.75</td>\n      <td>1.2</td>\n      <td>0.38</td>\n      <td>0.62</td>\n      <td>0</td>\n    </tr>\n    <tr>\n      <th>15</th>\n      <td>NeddL4</td>\n      <td>2</td>\n      <td>0.75</td>\n      <td>1.2</td>\n      <td>0.38</td>\n      <td>0.62</td>\n      <td>1</td>\n    </tr>\n    <tr>\n      <th>10</th>\n      <td>p110_H</td>\n      <td>3</td>\n      <td>1</td>\n      <td>2</td>\n      <td>0.33</td>\n      <td>0.67</td>\n      <td>0.44</td>\n    </tr>\n    <tr>\n      <th>17</th>\n      <td>p21_mRNA</td>\n      <td>3</td>\n      <td>1</td>\n      <td>2</td>\n      <td>0.33</td>\n      <td>0.67</td>\n      <td>0.44</td>\n    </tr>\n    <tr>\n      <th>85</th>\n      <td>SOS</td>\n      <td>1</td>\n      <td>0</td>\n      <td>0</td>\n      <td>0</td>\n      <td>0</td>\n      <td>0</td>\n    </tr>\n    <tr>\n      <th>84</th>\n      <td>MEK</td>\n      <td>1</td>\n      <td>0</td>\n      <td>0</td>\n      <td>0</td>\n      <td>0</td>\n      <td>0</td>\n    </tr>\n    <tr>\n      <th>83</th>\n      <td>IP3</td>\n      <td>1</td>\n      <td>0</td>\n      <td>0</td>\n      <td>0</td>\n      <td>0</td>\n      <td>0</td>\n    </tr>\n    <tr>\n      <th>82</th>\n      <td>GF_High</td>\n      <td>1</td>\n      <td>0</td>\n      <td>0</td>\n      <td>0</td>\n      <td>0</td>\n      <td>0</td>\n    </tr>\n    <tr>\n      <th>78</th>\n      <td>Ca2</td>\n      <td>1</td>\n      <td>0</td>\n      <td>0</td>\n      <td>0</td>\n      <td>0</td>\n      <td>0</td>\n    </tr>\n    <tr>\n      <th>80</th>\n      <td>DR4_5</td>\n      <td>1</td>\n      <td>0</td>\n      <td>0</td>\n      <td>0</td>\n      <td>0</td>\n      <td>0</td>\n    </tr>\n    <tr>\n      <th>79</th>\n      <td>DAG</td>\n      <td>1</td>\n      <td>0</td>\n      <td>0</td>\n      <td>0</td>\n      <td>0</td>\n      <td>0</td>\n    </tr>\n    <tr>\n      <th>77</th>\n      <td>CHK1</td>\n      <td>1</td>\n      <td>0</td>\n      <td>0</td>\n      <td>0</td>\n      <td>0</td>\n      <td>0</td>\n    </tr>\n    <tr>\n      <th>76</th>\n      <td>ATR</td>\n      <td>1</td>\n      <td>0</td>\n      <td>0</td>\n      <td>0</td>\n      <td>0</td>\n      <td>0</td>\n    </tr>\n    <tr>\n      <th>86</th>\n      <td>Trail</td>\n      <td>1</td>\n      <td>0</td>\n      <td>0</td>\n      <td>0</td>\n      <td>0</td>\n      <td>0</td>\n    </tr>\n  </tbody>\n</table>\n</div>"
     },
     "metadata": {},
     "output_type": "display_data"
    }
   ],
   "source": [
    "pd.set_option('display.max_rows', 500)\n",
    "pd.options.display.float_format = '{:.2g}'.format\n",
    "\n",
    "node_analysis_df = pd.DataFrame({\n",
    "        'node':[n.name for n in C.nodes],\n",
    "        'k':[n.k for n in C.nodes],\n",
    "        'k_r':[n.input_redundancy(norm=False) for n in C.nodes],\n",
    "        'k_e':[n.effective_connectivity(norm=False) for n in C.nodes],\n",
    "        'k_r*':[n.input_redundancy(norm=True) for n in C.nodes],\n",
    "        'k_e*':[n.effective_connectivity(norm=True) for n in C.nodes],\n",
    "        'k_s*':[n.input_symmetry(norm=True) for n in C.nodes],\n",
    "    })\n",
    "#df = df[['k','k_r','k_e','k_r*','k_e*','k^{out}','k_e^{out}']]\n",
    "node_analysis_df.sort_values('k_r*',ascending=False,inplace=True)\n",
    "display(node_analysis_df)\n",
    "#print(df.to_latex(escape=False))\n",
    "#\n",
    "drugs = [3, 4, 5, 6, 7, 8, 9]\n",
    "dfd = node_analysis_df.loc[drugs, ['node', 'k_r*', 'k_e*', 'k_s*']]\n",
    "dfd = node_analysis_df.loc[:, ['node', 'k_r*', 'k_e*', 'k_s*']]\n",
    "\n",
    "# display(dfd)"
   ]
  },
  {
   "cell_type": "markdown",
   "metadata": {},
   "source": [
    "**Replace canalization values of input nodes with 'NaN' to exclude them from summary node statistics**"
   ]
  },
  {
   "cell_type": "code",
   "execution_count": 8,
   "metadata": {},
   "outputs": [
    {
     "data": {
      "text/plain": "pandas.core.frame.DataFrame"
     },
     "metadata": {},
     "output_type": "display_data"
    },
    {
     "data": {
      "text/plain": "              node   k  k_r  k_e  k_r*  k_e*  k_s*\n63            BCL2  10  8.6  1.4  0.86  0.14  0.33\n12           AKT_H   7    6    1  0.85  0.15     1\n31         CyclinE   7    6    1  0.85  0.15  0.49\n34            Cdt1  10  8.3  1.7  0.83  0.17  0.51\n66             BIM   6  4.9  1.1  0.82  0.18  0.55\n56  A_Kinetochores   9  7.3  1.7  0.81  0.19   0.7\n52     Replication   8  6.4  1.6   0.8   0.2  0.59\n33            Cdc6   9  7.2  1.8   0.8   0.2   0.7\n61           MCL_1   9  7.1  1.9  0.79  0.21  0.32\n50           Cdc20   7  5.5  1.5  0.79  0.21  0.53\n58            Ect2   5  3.9  1.1  0.78  0.23  0.52\n14        PLCgamma   5  3.9  1.1  0.78  0.23     1\n27         p27Kip1   8  6.2  1.8  0.77  0.23  0.37\n54  U_Kinetochores   6  4.5  1.5  0.76  0.24  0.46\n46            Plk1   8    6    2  0.74  0.26  0.62\n41         CyclinA   7  5.2  1.8  0.74  0.26  0.72\n40          Cdc25A  10  7.2  2.8  0.72  0.28  0.44\n26             pRB   5  3.6  1.4  0.72  0.28  0.52\n35          Pre_RC   5  3.6  1.4  0.72  0.28   0.4\n30            E2F1   5  3.6  1.4  0.72  0.28  0.43\n47          Cdc25C   6  4.3  1.7  0.72  0.28  0.26\n42            Wee1   7    5    2  0.71  0.29  0.59\n62           BCLXL   8  5.7  2.3  0.71  0.29   0.6\n21          mTORC1   7  4.9  2.1  0.71  0.29  0.58\n11          PI3K_H   4  2.8  1.2   0.7   0.3     1\n38            Emi1   8  5.6  2.4   0.7   0.3  0.42\n57          Plk1_H   5  3.4  1.6  0.68  0.32  0.27\n48            Cdk1   5  3.4  1.6  0.68  0.32  0.35\n67             BID   5  3.4  1.6  0.68  0.32  0.57\n53         f4N_DNA   6  4.1  1.9  0.68  0.32  0.55\n44         CyclinB   6    4    2  0.67  0.33  0.48\n29        CyclinD1   7  4.7  2.3  0.67  0.33  0.59\n43          UbcH10   5  3.3  1.7  0.65  0.35  0.52\n39           FoxM1   8  5.2  2.8  0.65  0.35  0.67\n60           Casp2   5  3.2  1.8  0.65  0.35  0.47\n64             BAD   6  3.8  2.2  0.63  0.37  0.55\n69             BAX   6  3.8  2.2  0.63  0.37  0.27\n68             BAK   6  3.8  2.2  0.63  0.37  0.27\n9            AKT_B   4  2.5  1.5  0.62  0.38  0.56\n36         geminin   4  2.5  1.5  0.62  0.38  0.56\n32             ORC   4  2.4  1.6  0.59  0.41  0.56\n65             BIK   3  1.8  1.2  0.58  0.42     1\n25             p21   3  1.8  1.2  0.58  0.42  0.44\n37    CyclinA_mRNA   4  2.3  1.7  0.58  0.42  0.47\n51            Cdh1   5  2.9  2.1  0.57  0.43  0.57\n13           FoxO3   5  2.8  2.2  0.57  0.43  0.62\n49            pAPC   5  2.8  2.2  0.57  0.43  0.65\n28             Myc   5  2.6  2.4  0.53  0.47  0.43\n19          PRAS40   3  1.4  1.6  0.48  0.52  0.44\n73           Casp9   3  1.4  1.6  0.48  0.52  0.33\n24            GSK3   3  1.4  1.6  0.48  0.52  0.53\n18            TSC2   3  1.4  1.6  0.48  0.52  0.44\n1              RTK   3  1.4  1.6  0.48  0.52  0.44\n74           Casp3   4  1.7  2.3  0.42  0.58  0.56\n71            SMAC   2 0.75  1.2  0.38  0.62     1\n72            IAPs   2 0.75  1.2  0.38  0.62     0\n75             CAD   2 0.75  1.2  0.38  0.62     1\n81             ERK   2 0.75  1.2  0.38  0.62     0\n70          Cyto_C   2 0.75  1.2  0.38  0.62     1\n0               GF   2 0.75  1.2  0.38  0.62     1\n59           Casp8   2 0.75  1.2  0.38  0.62     1\n8             PDK1   2 0.75  1.2  0.38  0.62     1\n2             Grb2   2 0.75  1.2  0.38  0.62     1\n3              Ras   2 0.75  1.2  0.38  0.62     1\n4              RAF   2 0.75  1.2  0.38  0.62     0\n55            Mad2   2 0.75  1.2  0.38  0.62     0\n6             PI3K   2 0.75  1.2  0.38  0.62     1\n7             PIP3   2 0.75  1.2  0.38  0.62     1\n5           mTORC2   2 0.75  1.2  0.38  0.62     0\n45          Cdc25B   2 0.75  1.2  0.38  0.62     1\n16           FoxO1   2 0.75  1.2  0.38  0.62     1\n20            Rheb   2 0.75  1.2  0.38  0.62     0\n22             S6K   2 0.75  1.2  0.38  0.62     0\n23           eIF4E   2 0.75  1.2  0.38  0.62     0\n15          NeddL4   2 0.75  1.2  0.38  0.62     1\n10          p110_H   3    1    2  0.33  0.67  0.44\n17        p21_mRNA   3    1    2  0.33  0.67  0.44\n85             SOS   1  nan  nan   nan   nan   nan\n84             MEK   1  nan  nan   nan   nan   nan\n83             IP3   1  nan  nan   nan   nan   nan\n82         GF_High   1  nan  nan   nan   nan   nan\n78             Ca2   1  nan  nan   nan   nan   nan\n80           DR4_5   1  nan  nan   nan   nan   nan\n79             DAG   1  nan  nan   nan   nan   nan\n77            CHK1   1  nan  nan   nan   nan   nan\n76             ATR   1  nan  nan   nan   nan   nan\n86           Trail   1  nan  nan   nan   nan   nan",
      "text/html": "<div>\n<style scoped>\n    .dataframe tbody tr th:only-of-type {\n        vertical-align: middle;\n    }\n\n    .dataframe tbody tr th {\n        vertical-align: top;\n    }\n\n    .dataframe thead th {\n        text-align: right;\n    }\n</style>\n<table border=\"1\" class=\"dataframe\">\n  <thead>\n    <tr style=\"text-align: right;\">\n      <th></th>\n      <th>node</th>\n      <th>k</th>\n      <th>k_r</th>\n      <th>k_e</th>\n      <th>k_r*</th>\n      <th>k_e*</th>\n      <th>k_s*</th>\n    </tr>\n  </thead>\n  <tbody>\n    <tr>\n      <th>63</th>\n      <td>BCL2</td>\n      <td>10</td>\n      <td>8.6</td>\n      <td>1.4</td>\n      <td>0.86</td>\n      <td>0.14</td>\n      <td>0.33</td>\n    </tr>\n    <tr>\n      <th>12</th>\n      <td>AKT_H</td>\n      <td>7</td>\n      <td>6</td>\n      <td>1</td>\n      <td>0.85</td>\n      <td>0.15</td>\n      <td>1</td>\n    </tr>\n    <tr>\n      <th>31</th>\n      <td>CyclinE</td>\n      <td>7</td>\n      <td>6</td>\n      <td>1</td>\n      <td>0.85</td>\n      <td>0.15</td>\n      <td>0.49</td>\n    </tr>\n    <tr>\n      <th>34</th>\n      <td>Cdt1</td>\n      <td>10</td>\n      <td>8.3</td>\n      <td>1.7</td>\n      <td>0.83</td>\n      <td>0.17</td>\n      <td>0.51</td>\n    </tr>\n    <tr>\n      <th>66</th>\n      <td>BIM</td>\n      <td>6</td>\n      <td>4.9</td>\n      <td>1.1</td>\n      <td>0.82</td>\n      <td>0.18</td>\n      <td>0.55</td>\n    </tr>\n    <tr>\n      <th>56</th>\n      <td>A_Kinetochores</td>\n      <td>9</td>\n      <td>7.3</td>\n      <td>1.7</td>\n      <td>0.81</td>\n      <td>0.19</td>\n      <td>0.7</td>\n    </tr>\n    <tr>\n      <th>52</th>\n      <td>Replication</td>\n      <td>8</td>\n      <td>6.4</td>\n      <td>1.6</td>\n      <td>0.8</td>\n      <td>0.2</td>\n      <td>0.59</td>\n    </tr>\n    <tr>\n      <th>33</th>\n      <td>Cdc6</td>\n      <td>9</td>\n      <td>7.2</td>\n      <td>1.8</td>\n      <td>0.8</td>\n      <td>0.2</td>\n      <td>0.7</td>\n    </tr>\n    <tr>\n      <th>61</th>\n      <td>MCL_1</td>\n      <td>9</td>\n      <td>7.1</td>\n      <td>1.9</td>\n      <td>0.79</td>\n      <td>0.21</td>\n      <td>0.32</td>\n    </tr>\n    <tr>\n      <th>50</th>\n      <td>Cdc20</td>\n      <td>7</td>\n      <td>5.5</td>\n      <td>1.5</td>\n      <td>0.79</td>\n      <td>0.21</td>\n      <td>0.53</td>\n    </tr>\n    <tr>\n      <th>58</th>\n      <td>Ect2</td>\n      <td>5</td>\n      <td>3.9</td>\n      <td>1.1</td>\n      <td>0.78</td>\n      <td>0.23</td>\n      <td>0.52</td>\n    </tr>\n    <tr>\n      <th>14</th>\n      <td>PLCgamma</td>\n      <td>5</td>\n      <td>3.9</td>\n      <td>1.1</td>\n      <td>0.78</td>\n      <td>0.23</td>\n      <td>1</td>\n    </tr>\n    <tr>\n      <th>27</th>\n      <td>p27Kip1</td>\n      <td>8</td>\n      <td>6.2</td>\n      <td>1.8</td>\n      <td>0.77</td>\n      <td>0.23</td>\n      <td>0.37</td>\n    </tr>\n    <tr>\n      <th>54</th>\n      <td>U_Kinetochores</td>\n      <td>6</td>\n      <td>4.5</td>\n      <td>1.5</td>\n      <td>0.76</td>\n      <td>0.24</td>\n      <td>0.46</td>\n    </tr>\n    <tr>\n      <th>46</th>\n      <td>Plk1</td>\n      <td>8</td>\n      <td>6</td>\n      <td>2</td>\n      <td>0.74</td>\n      <td>0.26</td>\n      <td>0.62</td>\n    </tr>\n    <tr>\n      <th>41</th>\n      <td>CyclinA</td>\n      <td>7</td>\n      <td>5.2</td>\n      <td>1.8</td>\n      <td>0.74</td>\n      <td>0.26</td>\n      <td>0.72</td>\n    </tr>\n    <tr>\n      <th>40</th>\n      <td>Cdc25A</td>\n      <td>10</td>\n      <td>7.2</td>\n      <td>2.8</td>\n      <td>0.72</td>\n      <td>0.28</td>\n      <td>0.44</td>\n    </tr>\n    <tr>\n      <th>26</th>\n      <td>pRB</td>\n      <td>5</td>\n      <td>3.6</td>\n      <td>1.4</td>\n      <td>0.72</td>\n      <td>0.28</td>\n      <td>0.52</td>\n    </tr>\n    <tr>\n      <th>35</th>\n      <td>Pre_RC</td>\n      <td>5</td>\n      <td>3.6</td>\n      <td>1.4</td>\n      <td>0.72</td>\n      <td>0.28</td>\n      <td>0.4</td>\n    </tr>\n    <tr>\n      <th>30</th>\n      <td>E2F1</td>\n      <td>5</td>\n      <td>3.6</td>\n      <td>1.4</td>\n      <td>0.72</td>\n      <td>0.28</td>\n      <td>0.43</td>\n    </tr>\n    <tr>\n      <th>47</th>\n      <td>Cdc25C</td>\n      <td>6</td>\n      <td>4.3</td>\n      <td>1.7</td>\n      <td>0.72</td>\n      <td>0.28</td>\n      <td>0.26</td>\n    </tr>\n    <tr>\n      <th>42</th>\n      <td>Wee1</td>\n      <td>7</td>\n      <td>5</td>\n      <td>2</td>\n      <td>0.71</td>\n      <td>0.29</td>\n      <td>0.59</td>\n    </tr>\n    <tr>\n      <th>62</th>\n      <td>BCLXL</td>\n      <td>8</td>\n      <td>5.7</td>\n      <td>2.3</td>\n      <td>0.71</td>\n      <td>0.29</td>\n      <td>0.6</td>\n    </tr>\n    <tr>\n      <th>21</th>\n      <td>mTORC1</td>\n      <td>7</td>\n      <td>4.9</td>\n      <td>2.1</td>\n      <td>0.71</td>\n      <td>0.29</td>\n      <td>0.58</td>\n    </tr>\n    <tr>\n      <th>11</th>\n      <td>PI3K_H</td>\n      <td>4</td>\n      <td>2.8</td>\n      <td>1.2</td>\n      <td>0.7</td>\n      <td>0.3</td>\n      <td>1</td>\n    </tr>\n    <tr>\n      <th>38</th>\n      <td>Emi1</td>\n      <td>8</td>\n      <td>5.6</td>\n      <td>2.4</td>\n      <td>0.7</td>\n      <td>0.3</td>\n      <td>0.42</td>\n    </tr>\n    <tr>\n      <th>57</th>\n      <td>Plk1_H</td>\n      <td>5</td>\n      <td>3.4</td>\n      <td>1.6</td>\n      <td>0.68</td>\n      <td>0.32</td>\n      <td>0.27</td>\n    </tr>\n    <tr>\n      <th>48</th>\n      <td>Cdk1</td>\n      <td>5</td>\n      <td>3.4</td>\n      <td>1.6</td>\n      <td>0.68</td>\n      <td>0.32</td>\n      <td>0.35</td>\n    </tr>\n    <tr>\n      <th>67</th>\n      <td>BID</td>\n      <td>5</td>\n      <td>3.4</td>\n      <td>1.6</td>\n      <td>0.68</td>\n      <td>0.32</td>\n      <td>0.57</td>\n    </tr>\n    <tr>\n      <th>53</th>\n      <td>f4N_DNA</td>\n      <td>6</td>\n      <td>4.1</td>\n      <td>1.9</td>\n      <td>0.68</td>\n      <td>0.32</td>\n      <td>0.55</td>\n    </tr>\n    <tr>\n      <th>44</th>\n      <td>CyclinB</td>\n      <td>6</td>\n      <td>4</td>\n      <td>2</td>\n      <td>0.67</td>\n      <td>0.33</td>\n      <td>0.48</td>\n    </tr>\n    <tr>\n      <th>29</th>\n      <td>CyclinD1</td>\n      <td>7</td>\n      <td>4.7</td>\n      <td>2.3</td>\n      <td>0.67</td>\n      <td>0.33</td>\n      <td>0.59</td>\n    </tr>\n    <tr>\n      <th>43</th>\n      <td>UbcH10</td>\n      <td>5</td>\n      <td>3.3</td>\n      <td>1.7</td>\n      <td>0.65</td>\n      <td>0.35</td>\n      <td>0.52</td>\n    </tr>\n    <tr>\n      <th>39</th>\n      <td>FoxM1</td>\n      <td>8</td>\n      <td>5.2</td>\n      <td>2.8</td>\n      <td>0.65</td>\n      <td>0.35</td>\n      <td>0.67</td>\n    </tr>\n    <tr>\n      <th>60</th>\n      <td>Casp2</td>\n      <td>5</td>\n      <td>3.2</td>\n      <td>1.8</td>\n      <td>0.65</td>\n      <td>0.35</td>\n      <td>0.47</td>\n    </tr>\n    <tr>\n      <th>64</th>\n      <td>BAD</td>\n      <td>6</td>\n      <td>3.8</td>\n      <td>2.2</td>\n      <td>0.63</td>\n      <td>0.37</td>\n      <td>0.55</td>\n    </tr>\n    <tr>\n      <th>69</th>\n      <td>BAX</td>\n      <td>6</td>\n      <td>3.8</td>\n      <td>2.2</td>\n      <td>0.63</td>\n      <td>0.37</td>\n      <td>0.27</td>\n    </tr>\n    <tr>\n      <th>68</th>\n      <td>BAK</td>\n      <td>6</td>\n      <td>3.8</td>\n      <td>2.2</td>\n      <td>0.63</td>\n      <td>0.37</td>\n      <td>0.27</td>\n    </tr>\n    <tr>\n      <th>9</th>\n      <td>AKT_B</td>\n      <td>4</td>\n      <td>2.5</td>\n      <td>1.5</td>\n      <td>0.62</td>\n      <td>0.38</td>\n      <td>0.56</td>\n    </tr>\n    <tr>\n      <th>36</th>\n      <td>geminin</td>\n      <td>4</td>\n      <td>2.5</td>\n      <td>1.5</td>\n      <td>0.62</td>\n      <td>0.38</td>\n      <td>0.56</td>\n    </tr>\n    <tr>\n      <th>32</th>\n      <td>ORC</td>\n      <td>4</td>\n      <td>2.4</td>\n      <td>1.6</td>\n      <td>0.59</td>\n      <td>0.41</td>\n      <td>0.56</td>\n    </tr>\n    <tr>\n      <th>65</th>\n      <td>BIK</td>\n      <td>3</td>\n      <td>1.8</td>\n      <td>1.2</td>\n      <td>0.58</td>\n      <td>0.42</td>\n      <td>1</td>\n    </tr>\n    <tr>\n      <th>25</th>\n      <td>p21</td>\n      <td>3</td>\n      <td>1.8</td>\n      <td>1.2</td>\n      <td>0.58</td>\n      <td>0.42</td>\n      <td>0.44</td>\n    </tr>\n    <tr>\n      <th>37</th>\n      <td>CyclinA_mRNA</td>\n      <td>4</td>\n      <td>2.3</td>\n      <td>1.7</td>\n      <td>0.58</td>\n      <td>0.42</td>\n      <td>0.47</td>\n    </tr>\n    <tr>\n      <th>51</th>\n      <td>Cdh1</td>\n      <td>5</td>\n      <td>2.9</td>\n      <td>2.1</td>\n      <td>0.57</td>\n      <td>0.43</td>\n      <td>0.57</td>\n    </tr>\n    <tr>\n      <th>13</th>\n      <td>FoxO3</td>\n      <td>5</td>\n      <td>2.8</td>\n      <td>2.2</td>\n      <td>0.57</td>\n      <td>0.43</td>\n      <td>0.62</td>\n    </tr>\n    <tr>\n      <th>49</th>\n      <td>pAPC</td>\n      <td>5</td>\n      <td>2.8</td>\n      <td>2.2</td>\n      <td>0.57</td>\n      <td>0.43</td>\n      <td>0.65</td>\n    </tr>\n    <tr>\n      <th>28</th>\n      <td>Myc</td>\n      <td>5</td>\n      <td>2.6</td>\n      <td>2.4</td>\n      <td>0.53</td>\n      <td>0.47</td>\n      <td>0.43</td>\n    </tr>\n    <tr>\n      <th>19</th>\n      <td>PRAS40</td>\n      <td>3</td>\n      <td>1.4</td>\n      <td>1.6</td>\n      <td>0.48</td>\n      <td>0.52</td>\n      <td>0.44</td>\n    </tr>\n    <tr>\n      <th>73</th>\n      <td>Casp9</td>\n      <td>3</td>\n      <td>1.4</td>\n      <td>1.6</td>\n      <td>0.48</td>\n      <td>0.52</td>\n      <td>0.33</td>\n    </tr>\n    <tr>\n      <th>24</th>\n      <td>GSK3</td>\n      <td>3</td>\n      <td>1.4</td>\n      <td>1.6</td>\n      <td>0.48</td>\n      <td>0.52</td>\n      <td>0.53</td>\n    </tr>\n    <tr>\n      <th>18</th>\n      <td>TSC2</td>\n      <td>3</td>\n      <td>1.4</td>\n      <td>1.6</td>\n      <td>0.48</td>\n      <td>0.52</td>\n      <td>0.44</td>\n    </tr>\n    <tr>\n      <th>1</th>\n      <td>RTK</td>\n      <td>3</td>\n      <td>1.4</td>\n      <td>1.6</td>\n      <td>0.48</td>\n      <td>0.52</td>\n      <td>0.44</td>\n    </tr>\n    <tr>\n      <th>74</th>\n      <td>Casp3</td>\n      <td>4</td>\n      <td>1.7</td>\n      <td>2.3</td>\n      <td>0.42</td>\n      <td>0.58</td>\n      <td>0.56</td>\n    </tr>\n    <tr>\n      <th>71</th>\n      <td>SMAC</td>\n      <td>2</td>\n      <td>0.75</td>\n      <td>1.2</td>\n      <td>0.38</td>\n      <td>0.62</td>\n      <td>1</td>\n    </tr>\n    <tr>\n      <th>72</th>\n      <td>IAPs</td>\n      <td>2</td>\n      <td>0.75</td>\n      <td>1.2</td>\n      <td>0.38</td>\n      <td>0.62</td>\n      <td>0</td>\n    </tr>\n    <tr>\n      <th>75</th>\n      <td>CAD</td>\n      <td>2</td>\n      <td>0.75</td>\n      <td>1.2</td>\n      <td>0.38</td>\n      <td>0.62</td>\n      <td>1</td>\n    </tr>\n    <tr>\n      <th>81</th>\n      <td>ERK</td>\n      <td>2</td>\n      <td>0.75</td>\n      <td>1.2</td>\n      <td>0.38</td>\n      <td>0.62</td>\n      <td>0</td>\n    </tr>\n    <tr>\n      <th>70</th>\n      <td>Cyto_C</td>\n      <td>2</td>\n      <td>0.75</td>\n      <td>1.2</td>\n      <td>0.38</td>\n      <td>0.62</td>\n      <td>1</td>\n    </tr>\n    <tr>\n      <th>0</th>\n      <td>GF</td>\n      <td>2</td>\n      <td>0.75</td>\n      <td>1.2</td>\n      <td>0.38</td>\n      <td>0.62</td>\n      <td>1</td>\n    </tr>\n    <tr>\n      <th>59</th>\n      <td>Casp8</td>\n      <td>2</td>\n      <td>0.75</td>\n      <td>1.2</td>\n      <td>0.38</td>\n      <td>0.62</td>\n      <td>1</td>\n    </tr>\n    <tr>\n      <th>8</th>\n      <td>PDK1</td>\n      <td>2</td>\n      <td>0.75</td>\n      <td>1.2</td>\n      <td>0.38</td>\n      <td>0.62</td>\n      <td>1</td>\n    </tr>\n    <tr>\n      <th>2</th>\n      <td>Grb2</td>\n      <td>2</td>\n      <td>0.75</td>\n      <td>1.2</td>\n      <td>0.38</td>\n      <td>0.62</td>\n      <td>1</td>\n    </tr>\n    <tr>\n      <th>3</th>\n      <td>Ras</td>\n      <td>2</td>\n      <td>0.75</td>\n      <td>1.2</td>\n      <td>0.38</td>\n      <td>0.62</td>\n      <td>1</td>\n    </tr>\n    <tr>\n      <th>4</th>\n      <td>RAF</td>\n      <td>2</td>\n      <td>0.75</td>\n      <td>1.2</td>\n      <td>0.38</td>\n      <td>0.62</td>\n      <td>0</td>\n    </tr>\n    <tr>\n      <th>55</th>\n      <td>Mad2</td>\n      <td>2</td>\n      <td>0.75</td>\n      <td>1.2</td>\n      <td>0.38</td>\n      <td>0.62</td>\n      <td>0</td>\n    </tr>\n    <tr>\n      <th>6</th>\n      <td>PI3K</td>\n      <td>2</td>\n      <td>0.75</td>\n      <td>1.2</td>\n      <td>0.38</td>\n      <td>0.62</td>\n      <td>1</td>\n    </tr>\n    <tr>\n      <th>7</th>\n      <td>PIP3</td>\n      <td>2</td>\n      <td>0.75</td>\n      <td>1.2</td>\n      <td>0.38</td>\n      <td>0.62</td>\n      <td>1</td>\n    </tr>\n    <tr>\n      <th>5</th>\n      <td>mTORC2</td>\n      <td>2</td>\n      <td>0.75</td>\n      <td>1.2</td>\n      <td>0.38</td>\n      <td>0.62</td>\n      <td>0</td>\n    </tr>\n    <tr>\n      <th>45</th>\n      <td>Cdc25B</td>\n      <td>2</td>\n      <td>0.75</td>\n      <td>1.2</td>\n      <td>0.38</td>\n      <td>0.62</td>\n      <td>1</td>\n    </tr>\n    <tr>\n      <th>16</th>\n      <td>FoxO1</td>\n      <td>2</td>\n      <td>0.75</td>\n      <td>1.2</td>\n      <td>0.38</td>\n      <td>0.62</td>\n      <td>1</td>\n    </tr>\n    <tr>\n      <th>20</th>\n      <td>Rheb</td>\n      <td>2</td>\n      <td>0.75</td>\n      <td>1.2</td>\n      <td>0.38</td>\n      <td>0.62</td>\n      <td>0</td>\n    </tr>\n    <tr>\n      <th>22</th>\n      <td>S6K</td>\n      <td>2</td>\n      <td>0.75</td>\n      <td>1.2</td>\n      <td>0.38</td>\n      <td>0.62</td>\n      <td>0</td>\n    </tr>\n    <tr>\n      <th>23</th>\n      <td>eIF4E</td>\n      <td>2</td>\n      <td>0.75</td>\n      <td>1.2</td>\n      <td>0.38</td>\n      <td>0.62</td>\n      <td>0</td>\n    </tr>\n    <tr>\n      <th>15</th>\n      <td>NeddL4</td>\n      <td>2</td>\n      <td>0.75</td>\n      <td>1.2</td>\n      <td>0.38</td>\n      <td>0.62</td>\n      <td>1</td>\n    </tr>\n    <tr>\n      <th>10</th>\n      <td>p110_H</td>\n      <td>3</td>\n      <td>1</td>\n      <td>2</td>\n      <td>0.33</td>\n      <td>0.67</td>\n      <td>0.44</td>\n    </tr>\n    <tr>\n      <th>17</th>\n      <td>p21_mRNA</td>\n      <td>3</td>\n      <td>1</td>\n      <td>2</td>\n      <td>0.33</td>\n      <td>0.67</td>\n      <td>0.44</td>\n    </tr>\n    <tr>\n      <th>85</th>\n      <td>SOS</td>\n      <td>1</td>\n      <td>nan</td>\n      <td>nan</td>\n      <td>nan</td>\n      <td>nan</td>\n      <td>nan</td>\n    </tr>\n    <tr>\n      <th>84</th>\n      <td>MEK</td>\n      <td>1</td>\n      <td>nan</td>\n      <td>nan</td>\n      <td>nan</td>\n      <td>nan</td>\n      <td>nan</td>\n    </tr>\n    <tr>\n      <th>83</th>\n      <td>IP3</td>\n      <td>1</td>\n      <td>nan</td>\n      <td>nan</td>\n      <td>nan</td>\n      <td>nan</td>\n      <td>nan</td>\n    </tr>\n    <tr>\n      <th>82</th>\n      <td>GF_High</td>\n      <td>1</td>\n      <td>nan</td>\n      <td>nan</td>\n      <td>nan</td>\n      <td>nan</td>\n      <td>nan</td>\n    </tr>\n    <tr>\n      <th>78</th>\n      <td>Ca2</td>\n      <td>1</td>\n      <td>nan</td>\n      <td>nan</td>\n      <td>nan</td>\n      <td>nan</td>\n      <td>nan</td>\n    </tr>\n    <tr>\n      <th>80</th>\n      <td>DR4_5</td>\n      <td>1</td>\n      <td>nan</td>\n      <td>nan</td>\n      <td>nan</td>\n      <td>nan</td>\n      <td>nan</td>\n    </tr>\n    <tr>\n      <th>79</th>\n      <td>DAG</td>\n      <td>1</td>\n      <td>nan</td>\n      <td>nan</td>\n      <td>nan</td>\n      <td>nan</td>\n      <td>nan</td>\n    </tr>\n    <tr>\n      <th>77</th>\n      <td>CHK1</td>\n      <td>1</td>\n      <td>nan</td>\n      <td>nan</td>\n      <td>nan</td>\n      <td>nan</td>\n      <td>nan</td>\n    </tr>\n    <tr>\n      <th>76</th>\n      <td>ATR</td>\n      <td>1</td>\n      <td>nan</td>\n      <td>nan</td>\n      <td>nan</td>\n      <td>nan</td>\n      <td>nan</td>\n    </tr>\n    <tr>\n      <th>86</th>\n      <td>Trail</td>\n      <td>1</td>\n      <td>nan</td>\n      <td>nan</td>\n      <td>nan</td>\n      <td>nan</td>\n      <td>nan</td>\n    </tr>\n  </tbody>\n</table>\n</div>"
     },
     "execution_count": 8,
     "metadata": {},
     "output_type": "execute_result"
    }
   ],
   "source": [
    "# node_analysis_df = node_analysis_df.loc[node_analysis_df['k'] == 1, ['k_r', 'k_e', 'k_r*', 'k_e*', 'k_s*']] = 'NaN', 'NaN', 'NaN', 'NaN', 'NaN'\n",
    "display(type(node_analysis_df))\n",
    "\n",
    "node_analysis_df.loc[(node_analysis_df.k==1),'k_r'] = np.nan\n",
    "node_analysis_df.loc[(node_analysis_df.k==1),'k_e'] = np.nan\n",
    "node_analysis_df.loc[(node_analysis_df.k==1),'k_r*'] = np.nan\n",
    "node_analysis_df.loc[(node_analysis_df.k==1),'k_e*'] = np.nan\n",
    "node_analysis_df.loc[(node_analysis_df.k==1),'k_s*'] = np.nan\n",
    "node_analysis_df\n",
    "\n",
    "# If there is an output node with only one input, this will replace those values also and the 0\n",
    "# for the redundancy measures also won't get put in the averages!!!!!!!!!!!! How can I tell if it is \n",
    "# an output node versus an input node with only degree 1??????\n",
    "\n",
    "# type(node_analysis_df.loc[0,'k_s*'])"
   ]
  },
  {
   "cell_type": "markdown",
   "metadata": {},
   "source": [
    "**Summary statistics at the node level for canalization values of interest**"
   ]
  },
  {
   "cell_type": "code",
   "execution_count": 9,
   "metadata": {
    "scrolled": false
   },
   "outputs": [
    {
     "data": {
      "text/plain": "        k  k_r  k_e  k_r*  k_e*  k_s*\ncount  87   77   77    77    77    77\nmean  4.3  3.1  1.6  0.58  0.42  0.55\nstd   2.6  2.2 0.42  0.17  0.17   0.3\nmin     1 0.75    1  0.33  0.14     0\n25%     2 0.75  1.2  0.38  0.28  0.43\n50%     4  2.8  1.6  0.62  0.38  0.53\n75%     6  4.7  1.9  0.72  0.62   0.7\nmax    10  8.6  2.8  0.86  0.67     1",
      "text/html": "<div>\n<style scoped>\n    .dataframe tbody tr th:only-of-type {\n        vertical-align: middle;\n    }\n\n    .dataframe tbody tr th {\n        vertical-align: top;\n    }\n\n    .dataframe thead th {\n        text-align: right;\n    }\n</style>\n<table border=\"1\" class=\"dataframe\">\n  <thead>\n    <tr style=\"text-align: right;\">\n      <th></th>\n      <th>k</th>\n      <th>k_r</th>\n      <th>k_e</th>\n      <th>k_r*</th>\n      <th>k_e*</th>\n      <th>k_s*</th>\n    </tr>\n  </thead>\n  <tbody>\n    <tr>\n      <th>count</th>\n      <td>87</td>\n      <td>77</td>\n      <td>77</td>\n      <td>77</td>\n      <td>77</td>\n      <td>77</td>\n    </tr>\n    <tr>\n      <th>mean</th>\n      <td>4.3</td>\n      <td>3.1</td>\n      <td>1.6</td>\n      <td>0.58</td>\n      <td>0.42</td>\n      <td>0.55</td>\n    </tr>\n    <tr>\n      <th>std</th>\n      <td>2.6</td>\n      <td>2.2</td>\n      <td>0.42</td>\n      <td>0.17</td>\n      <td>0.17</td>\n      <td>0.3</td>\n    </tr>\n    <tr>\n      <th>min</th>\n      <td>1</td>\n      <td>0.75</td>\n      <td>1</td>\n      <td>0.33</td>\n      <td>0.14</td>\n      <td>0</td>\n    </tr>\n    <tr>\n      <th>25%</th>\n      <td>2</td>\n      <td>0.75</td>\n      <td>1.2</td>\n      <td>0.38</td>\n      <td>0.28</td>\n      <td>0.43</td>\n    </tr>\n    <tr>\n      <th>50%</th>\n      <td>4</td>\n      <td>2.8</td>\n      <td>1.6</td>\n      <td>0.62</td>\n      <td>0.38</td>\n      <td>0.53</td>\n    </tr>\n    <tr>\n      <th>75%</th>\n      <td>6</td>\n      <td>4.7</td>\n      <td>1.9</td>\n      <td>0.72</td>\n      <td>0.62</td>\n      <td>0.7</td>\n    </tr>\n    <tr>\n      <th>max</th>\n      <td>10</td>\n      <td>8.6</td>\n      <td>2.8</td>\n      <td>0.86</td>\n      <td>0.67</td>\n      <td>1</td>\n    </tr>\n  </tbody>\n</table>\n</div>"
     },
     "metadata": {},
     "output_type": "display_data"
    }
   ],
   "source": [
    "#summary stats\n",
    "\n",
    "display(node_analysis_df.describe())\n",
    "# node_analysis_df[node_analysis_df != -1].mean() # Update - works if you replace values with -1 instead. Or anything that isn't used in the calculations.\n",
    "                                                # very very close - but some of the symetry values really are 0. \n",
    "                                               # I should probably actaully exclude them, but this is a really good start\n",
    "    "
   ]
  },
  {
   "cell_type": "code",
   "execution_count": 10,
   "metadata": {},
   "outputs": [],
   "source": [
    "# for n,v in C.out_degree():\n",
    "#     print(n, v)\n",
    "\n",
    "#  I should be able to get that from the regular graphs as well?? It must not be in the Boolean networks?"
   ]
  },
  {
   "cell_type": "markdown",
   "metadata": {},
   "source": [
    "# Effective graph(s) for network of interest"
   ]
  },
  {
   "cell_type": "markdown",
   "metadata": {},
   "source": [
    "Make the various graphs of interest"
   ]
  },
  {
   "cell_type": "code",
   "execution_count": null,
   "metadata": {},
   "outputs": [],
   "source": [
    "SG = C.structural_graph()\n",
    "EG = C.effective_graph(threshold=-1) # now ... what is the difference .... I have my intuition but could be very wrong. And what does -1 mean???\n",
    "#\n",
    "EG0 = C.effective_graph(threshold=0)\n",
    "EG0p2 = C.effective_graph(threshold=.2)\n",
    "EG0p4 = C.effective_graph(threshold=.4)\n",
    "EG0p6 = C.effective_graph(threshold=.6)\n",
    "EG0p8 = C.effective_graph(threshold=.8)"
   ]
  },
  {
   "cell_type": "markdown",
   "metadata": {},
   "source": [
    "Similar to previous section, but includes the effectiveness of the outgoing edges - as coming from the EG.\n"
   ]
  },
  {
   "cell_type": "code",
   "execution_count": null,
   "metadata": {
    "scrolled": false
   },
   "outputs": [],
   "source": [
    "pd.options.display.float_format = '{:.2g}'.format\n",
    "pd.set_option('display.max_rows', 500)\n",
    "#\n",
    "df = pd.DataFrame({\n",
    "        'node':[n.name for n in C.nodes],\n",
    "        'k':[n.k for n in C.nodes],\n",
    "        'k_r':[n.input_redundancy(norm=False) for n in C.nodes],\n",
    "        'k_e':[n.effective_connectivity(norm=False) for n in C.nodes],\n",
    "        'k_r*':[n.input_redundancy(norm=True) for n in C.nodes],\n",
    "        'k_e*':[n.effective_connectivity(norm=True) for n in C.nodes],\n",
    "        'k_s*':[n.input_symmetry(norm=True) for n in C.nodes],\n",
    "        'k^{out}':[v for n,v in EG.out_degree()],\n",
    "        'k_e^{out}':[v for n,v in EG.out_degree(weight='weight')],\n",
    "    })\n",
    "#df = df[['k','k_r','k_e','k_r*','k_e*','k^{out}','k_e^{out}']]\n",
    "df['k_e^{out}/k^{out}'] = df['k_e^{out}'] / df['k^{out}']\n",
    "df.sort_values('k',ascending=False,inplace=True)\n",
    "#print(df.to_latex(escape=False))\n",
    "#\n",
    "drugs = [3, 4, 5, 6, 7, 8, 9]\n",
    "dfd = df.loc[drugs, ['node', 'k_r*', 'k_e*', 'k_s*', 'k^{out}', 'k_e^{out}', 'k_e^{out}/k^{out}']]\n",
    "dfd = df.loc[:, ['node', 'k^{out}', 'k_e^{out}', 'k_e^{out}/k^{out}']]\n",
    "dfd.sort_values(['k^{out}', 'k_e^{out}'], ascending=[False, False], inplace=True)\n",
    "display(dfd)\n",
    "display(dfd.describe())"
   ]
  },
  {
   "cell_type": "markdown",
   "metadata": {},
   "source": [
    "## Additional analysis of the different effective graphs: self-loops, strong and weakly connected , finally redundancy"
   ]
  },
  {
   "cell_type": "code",
   "execution_count": null,
   "metadata": {
    "scrolled": false
   },
   "outputs": [],
   "source": [
    "def number_of_input_nodes(G):\n",
    "    count = 0\n",
    "    for n, d in G.nodes(data=True):\n",
    "        inputs = [True if i == j else False for i, j in G.in_edges(n)]\n",
    "        if inputs == [] or inputs == [True]:\n",
    "            count += 1\n",
    "    return count\n",
    "#\n",
    "def number_of_nodes_with_self_loop(G):\n",
    "    count = 0\n",
    "    for n, d in G.nodes(data=True):\n",
    "        inputs = [True if i == j else False for i, j in G.in_edges(n)]\n",
    "        if any(inputs):\n",
    "            count += 1\n",
    "    return count\n",
    "#\n",
    "def number_of_input_nodes_with_self_loop(G):\n",
    "    count = 0\n",
    "    for n, d in G.nodes(data=True):\n",
    "        inputs = [True if i == j else False for i, j in G.in_edges(n)]\n",
    "        if inputs == [True]:\n",
    "            count += 1\n",
    "    return count"
   ]
  },
  {
   "cell_type": "code",
   "execution_count": null,
   "metadata": {},
   "outputs": [],
   "source": [
    "for G, graph in [(SG, 'IG'), (EG0, 'EG'), (EG0p2, 'EG (0.2)'), (EG0p4, 'EG (0.4)'), (EG0p6, 'EG (0.6)'), (EG0p8, 'EG (0.8)')]:\n",
    "    n_nodes = G.number_of_nodes()\n",
    "    print('{g:s}: Number of nodes: {n:d}'.format(g=graph, n=n_nodes))\n",
    "    n_nodes_with_self_loop = number_of_nodes_with_self_loop(G)\n",
    "    print('{g:s}: Number nodes with a self-loop: {n:d}'.format(g=graph, n=n_nodes_with_self_loop))\n",
    "    n_input_nodes = number_of_input_nodes(G)\n",
    "    print('{g:s}: Number of input nodes: {n:d}'.format(g=graph, n=n_input_nodes))\n",
    "    n_input_nodes_with_self_loop = number_of_input_nodes_with_self_loop(G)\n",
    "    print('{g:s}: Number of input nodes with self-loop: {n:d}'.format(g=graph, n=n_input_nodes_with_self_loop))\n",
    "    print('--')"
   ]
  },
  {
   "cell_type": "code",
   "execution_count": null,
   "metadata": {},
   "outputs": [],
   "source": [
    "def weakly_connected_components(G):\n",
    "    wcc = [len(cc) for cc in nx.weakly_connected_components(G)]\n",
    "    return len(wcc), wcc\n",
    "#\n",
    "def strongly_connected_components(G):\n",
    "    scc = [len(cc) for cc in nx.strongly_connected_components(G)]\n",
    "    return len(scc), scc\n",
    "#\n",
    "def SortedCounter(l):\n",
    "    c = dict(sorted(Counter(l).most_common(), reverse=True)) \n",
    "    return c"
   ]
  },
  {
   "cell_type": "code",
   "execution_count": null,
   "metadata": {
    "scrolled": false
   },
   "outputs": [],
   "source": [
    "for G, graph in [(SG, 'IG'), (EG0, 'EG'), (EG0p2, 'EG (0.2)'), (EG0p4, 'EG (0.4)'), (EG0p6, 'EG (0.6)'), (EG0p8, 'EG (0.8)')]:\n",
    "    n_wcc, wcc = weakly_connected_components(G)\n",
    "    print('{g:s}: {n:d} weakly connected components, sizes {l:}'.format(g=graph, n=n_wcc, l=SortedCounter(wcc)))\n",
    "    #\n",
    "    n_scc, scc = strongly_connected_components(G)\n",
    "    print('{g:s}: {n:d} strongly connected components, sizes {l:}'.format(g=graph, n=n_scc, l=SortedCounter(scc)))\n",
    "    print('--')"
   ]
  },
  {
   "cell_type": "code",
   "execution_count": null,
   "metadata": {},
   "outputs": [],
   "source": [
    "wcc = nx.weakly_connected_components(EG0p2)\n",
    "for id,comp in enumerate(wcc):\n",
    "    print('Component id={id:d} with size: {size:d}'.format(id=id, size=len(comp)))\n",
    "    names = []\n",
    "    for node in comp:\n",
    "        name = G.nodes[node]['label']\n",
    "        names.append(name)\n",
    "    print(names)"
   ]
  },
  {
   "cell_type": "code",
   "execution_count": null,
   "metadata": {
    "scrolled": false
   },
   "outputs": [],
   "source": [
    "net_redundancy = 0\n",
    "#\n",
    "for nid, node in enumerate(C.nodes,start=0):\n",
    "    net_redundancy += node.input_redundancy(norm=False)\n",
    "#\n",
    "net_redundancy_norm = net_redundancy / C.Nnodes\n",
    "#\n",
    "print(\"Total Network Redundancy: {:.4} (norm: {:.4})\".format(net_redundancy, net_redundancy_norm))"
   ]
  },
  {
   "cell_type": "markdown",
   "metadata": {},
   "source": [
    "## Graph(s) vizualization "
   ]
  },
  {
   "cell_type": "code",
   "execution_count": null,
   "metadata": {
    "scrolled": false
   },
   "outputs": [],
   "source": [
    "# Print node names\n",
    "for i,d in SG.nodes(data=True):\n",
    "    print(i,d)"
   ]
  },
  {
   "cell_type": "code",
   "execution_count": null,
   "metadata": {
    "scrolled": false
   },
   "outputs": [],
   "source": [
    "dict_effconn = {nid: node.effective_connectivity(norm=False) \n",
    "    for nid, node in enumerate(C.nodes, start=0) }\n",
    "#\n",
    "nx.set_node_attributes(EG, dict_effconn, 'effective_connectivity')"
   ]
  },
  {
   "cell_type": "code",
   "execution_count": null,
   "metadata": {
    "scrolled": false
   },
   "outputs": [],
   "source": [
    "# # Node Manual Positioning - RUN ONLY FOR ER+ Network!!!!!\n",
    "idmap = {d['label']:i for i,d in SG.nodes(data=True)}\n",
    "att = {}\n",
    "# colors = {\n",
    "#         'Apoptosis': '#b3dc66',\n",
    "#         'Proliferation': '#bfbcd9',\n",
    "#         'Drugs': '#d299ff',\n",
    "#         'ER signaling': '#d3d3d3',\n",
    "#         'mTORC1 pathway': '#ffb96c',\n",
    "#         'AKT pathway': '#8fd3c4',\n",
    "#         'MAPK pathway': '#ffffae',\n",
    "#         'PI3K pathway': '#7aa6cb',\n",
    "#         'RTK signaling': '#f18568'}\n",
    "\n",
    "# #Line 11\n",
    "# att['HER3_T'] = {'pos':'.25,11', 'type':'RTK signaling'}\n",
    "# att['HER3'] = {'pos':'1.5,11', 'type':'RTK signaling'}\n",
    "# att['HER3_2'] = {'pos':'2.7,11', 'type':'RTK signaling'}\n",
    "# att['IGF1R_T'] = {'pos':'3.9,11', 'type':'RTK signaling'}\n",
    "\n",
    "\n",
    "# # Line 10\n",
    "# att['Neratinib'] = {'pos':'0,10', 'type':'Drugs'}\n",
    "# att['Alpelisib'] = {'pos':'4.3,9', 'type':'Drugs'}\n",
    "# att['Fulvestrant'] = {'pos':'7.4,11', 'type':'Drugs', 'width':'0.9'}\n",
    "# att['HER2_3_2'] = {'pos':'1.25,10', 'type':'RTK signaling'}\n",
    "# att['HER2_3'] = {'pos':'2.5,10', 'type':'RTK signaling'}\n",
    "# att['HER2'] = {'pos':'3.8,10', 'type':'RTK signaling'}\n",
    "# att['IGF1R'] = {'pos':'5,11', 'type':'RTK signaling'}\n",
    "# att['IGF1R_2'] = {'pos':'5,10', 'type':'RTK signaling'}\n",
    "# att['ESR1'] = {'pos':'6.8,10', 'type':'ER signaling'}\n",
    "# att['ESR1_2'] = {'pos':'8,10', 'type':'ER signaling'}\n",
    "# att['FOXA1'] = {'pos':'9.2,10', 'type':'ER signaling'}\n",
    "# att['PBX1'] = {'pos':'10.7,8', 'type':'ER signaling'}\n",
    "# # Line 9\n",
    "# att['Trametinib'] = {'pos':'0,9', 'type':'Drugs', 'width':'0.9'}\n",
    "# att['PI3K'] = {'pos':'3,9', 'type':'PI3K pathway'}\n",
    "# att['Everolimus'] = {'pos':'8,6', 'type':'Drugs', 'width':'0.9'}\n",
    "# att['Ipatasertib'] = {'pos':'6.0,9', 'type':'Drugs', 'width':'0.9'}\n",
    "# att['ER'] = {'pos':'8.5,9', 'type':'ER signaling'}\n",
    "\n",
    "# #Line 8\n",
    "# att['MAPK'] = {'pos':'0.2,8', 'type':'MAPK pathway'}\n",
    "# att['PI3K_2'] = {'pos':'3.0,8', 'type':'PI3K pathway'}\n",
    "# att['PIP3'] = {'pos':'4.3,8', 'type':'PI3K pathway'}\n",
    "# att['PIP3_2'] = {'pos':'4.3,7', 'type':'PI3K pathway'}\n",
    "# att['PTEN'] = {'pos':'3.0,7', 'type':'PI3K pathway'}\n",
    "# att['ER_transcription'] = {'pos':'7.6,8', 'type':'ER signaling', 'width':'1.3'}\n",
    "# att['ER_transcription_2'] = {'pos':'9.4,8', 'type':'ER signaling', 'width':'1.5'}\n",
    "\n",
    "# # Line 7\n",
    "# att['MAPK_2'] = {'pos':'0,7', 'type':'MAPK pathway'}\n",
    "# att['RAS'] = {'pos':'1.5,9', 'type':'MAPK pathway'}\n",
    "# att['RAS_2'] = {'pos':'1.5,7', 'type':'MAPK pathway'}\n",
    "# att['RAS_3'] = {'pos':'1.5,8', 'type':'MAPK pathway'}\n",
    "# att['PDK1_pm'] = {'pos':'4.5,6', 'type':'AKT pathway'}\n",
    "# att['mTORC2_pm'] = {'pos':'6.25,7', 'type':'AKT pathway', 'width':'1.2'}\n",
    "# att['KMT2D'] = {'pos':'9,7', 'type':'ER signaling'}\n",
    "# att['MYC'] = {'pos':'10,7', 'type':'ER signaling'}\n",
    "# att['MYC_2'] = {'pos':'11.2,7', 'type':'ER signaling'}\n",
    "# # Line 6\n",
    "# att['PDK1'] = {'pos':'0.5,6', 'type':'AKT pathway'}\n",
    "# att['mTORC2'] = {'pos':'1.75,6', 'type':'AKT pathway'}\n",
    "# att['PIM'] = {'pos':'3,6', 'type':'AKT pathway'}\n",
    "# att['AKT'] = {'pos':'6,6', 'type':'AKT pathway'}\n",
    "# att['Palbociclib'] = {'pos':'9.7,6', 'type':'Drugs', 'width':'0.9'}\n",
    "# # Line 5\n",
    "# att['SGK1_T'] = {'pos':'0.25,5', 'type':'AKT pathway'}\n",
    "# att['SGK1'] = {'pos':'1.5,5', 'type':'AKT pathway'}\n",
    "# att['TSC'] = {'pos':'5.5,5', 'type':'mTORC1 pathway'}\n",
    "# att['p21_p27'] = {'pos':'7,5', 'type':'Proliferation'}\n",
    "# att['p21_p27_T'] = {'pos':'8,5', 'type':'Proliferation'}\n",
    "# att['CDK46'] = {'pos':'9,5', 'type':'Proliferation'}\n",
    "# att['cyclinD'] = {'pos':'10.25,5', 'type':'Proliferation'}\n",
    "# # Line 4\n",
    "# att['FOXO3_Ub'] = {'pos':'1.3,4', 'type':'AKT pathway', 'width':'0.9'}\n",
    "# att['FOXO3'] = {'pos':'2.75,4', 'type':'AKT pathway'}\n",
    "# att['cycE_CDK2'] = {'pos':'6.5,4', 'type':'Proliferation', 'width':'1.0'}\n",
    "# att['cycE_CDK2_T'] = {'pos':'7.8,4', 'type':'Proliferation', 'width':'1.2'}\n",
    "# att['PRAS40'] = {'pos':'4,4', 'type':'mTORC1 pathway'}\n",
    "# att['mTORC1'] = {'pos':'5,4', 'type':'mTORC1 pathway'}\n",
    "# att['cycD_CDK46'] = {'pos':'9.2,4', 'type':'Proliferation', 'width': '1.0'}\n",
    "# att['cycD_CDK46_2'] = {'pos':'11.0,4', 'type':'Proliferation', 'width': '1.4'}\n",
    "# # Line 3\n",
    "# att['BIM_T'] = {'pos':'.5,3', 'type':'Apoptosis'}\n",
    "# att['BCL2_T'] = {'pos':'2,3', 'type':'Apoptosis'}\n",
    "# att['EIF4F'] = {'pos':'4,3', 'type':'mTORC1 pathway'}\n",
    "# att['S6K'] = {'pos':'5,3', 'type':'mTORC1 pathway'}\n",
    "# att['pRb'] = {'pos':'7.0,3', 'type':'Proliferation'}\n",
    "# att['pRb_2'] = {'pos':'8.25,3', 'type':'Proliferation'}\n",
    "# att['pRb_3'] = {'pos':'9.5,3', 'type':'Proliferation'}\n",
    "# att['cyclinD_2'] = {'pos':'10.5,3', 'type':'Proliferation'}\n",
    "# # Line 2\n",
    "# att['BIM'] = {'pos':'0,2', 'type':'Apoptosis'}\n",
    "# att['BAD'] = {'pos':'1,2', 'type':'Apoptosis'}\n",
    "# att['BCL2'] = {'pos':'2,2', 'type':'Apoptosis'}\n",
    "# att['MCL1'] = {'pos':'3,2', 'type':'Apoptosis'}\n",
    "# att['Translation'] = {'pos':'4.5,2', 'type':'mTORC1 pathway', 'width':'0.9'}\n",
    "# att['E2F'] = {'pos':'7.0,2', 'type':'Proliferation'}\n",
    "# att['E2F_2'] = {'pos':'8.25,2', 'type':'Proliferation'}\n",
    "# att['E2F_3'] = {'pos':'9.5,2', 'type':'Proliferation'}\n",
    "# # Line 1\n",
    "# att['Apoptosis'] = {'pos':'0.2,1', 'type':'Apoptosis', 'width':'1.0'}\n",
    "# att['Apoptosis_2'] = {'pos':'1.5,1', 'type':'Apoptosis', 'width':'1.0'}\n",
    "# att['Apoptosis_3'] = {'pos':'2.8,1', 'type':'Apoptosis', 'width':'1.0'}\n",
    "# att['Proliferation'] = {'pos':'6.5,1', 'type':'Proliferation', 'width':'1.1'}\n",
    "# att['Proliferation_2'] = {'pos':'7.9,1', 'type':'Proliferation', 'width':'1.1'}\n",
    "# att['Proliferation_3'] = {'pos':'9.3,1', 'type':'Proliferation', 'width':'1.1'}\n",
    "# att['Proliferation_4'] = {'pos':'10.7,1', 'type':'Proliferation', 'width':'1.1'}\n",
    "\n",
    "# # Check if overlapping nodes\n",
    "# poschk = set()\n",
    "# for k,v in att.items():\n",
    "#     if v['pos'] in poschk:\n",
    "#         raise TypeError(\"Overlapping nodes: {k:s}\".format(k=k))\n",
    "#     else:\n",
    "#         poschk.add(v['pos'])\n",
    "\n",
    "# # Inverse Map\n",
    "# att = {idmap[k]:v for k,v in att.items()}"
   ]
  },
  {
   "cell_type": "markdown",
   "metadata": {},
   "source": [
    "### Interaction Graph"
   ]
  },
  {
   "cell_type": "code",
   "execution_count": null,
   "metadata": {
    "scrolled": false
   },
   "outputs": [],
   "source": [
    "pSG = graphviz.Digraph(name='Structural Graph', engine='neato')\n",
    "pSG.attr('graph', size='10,10', concentrate='false', simplify='false', overlap='false',splines='true',ratio='.7',outputorder=\"edgesfirst\",nodesep='.25',mindist='.20')\n",
    "pSG.attr('node', pin='true', shape='box', height='0.4', fixedsize='false',margin='.05', color='black', penwidth='1', fontname='Helvetica', fontcolor='black',fontsize='10' ) # style='filled', fillcolor='#515660',)\n",
    "pSG.attr('edge', arrowhead='normal', arrowsize='.5', penwidth='2.5')\n",
    "\n",
    "# for nid,SGatt in SG.nodes(data=True):\n",
    "#     label = SGatt['label']\n",
    "#     if nid in att:\n",
    "#         pos = att[nid].get('pos', '')\n",
    "#         shape = att[nid].get('shape', 'box')\n",
    "#         fillcolor = colors[att[nid].get('type')]\n",
    "#         #width = ''att[nid].get('width', '0.7')\n",
    "#         pSG.node(str(nid), label=label, pos=pos, shape=shape, fillcolor=fillcolor, )\n",
    "        \n",
    "for nid,d in SG.nodes(data=True):\n",
    "    label = d['label']\n",
    "#     ntype = att[nid].get('type')\n",
    "#     pos = att[nid].get('pos', '')\n",
    "#     shape = att[nid].get('shape')\n",
    "#     fillcolor = colors[ntype]\n",
    "    pSG.node(str(nid), label=label, ) #pos=pos, shape=shape, fillcolor=fillcolor,)\n",
    "\n",
    "max_penwidth = 4\n",
    "for uid,vid,d in SG.edges(data=True):\n",
    "    uid = str(uid)\n",
    "    vid = str(vid)\n",
    "    weight = '%d' % (d['weight']*100)\n",
    "    # self loop color\n",
    "    if uid == vid:\n",
    "        color = '#bdbdbd'\n",
    "        uid = uid + ':w'\n",
    "        vid = vid + ':c'\n",
    "    else:\n",
    "        color = '#636363'\n",
    "    pSG.edge(uid, vid, weight=weight, color=color)\n",
    "    \n",
    "display(pSG)\n",
    "pSG.format ='svg'\n",
    "# Export\n",
    "pSG.render(\"generic_graph\", cleanup=True) # could obviously extract the network name ... could also\n",
    "# extract positinos here and force the rest of the graphs to be this look. - that is what I want to do ..."
   ]
  },
  {
   "cell_type": "markdown",
   "metadata": {},
   "source": [
    "## Effective Graph"
   ]
  },
  {
   "cell_type": "code",
   "execution_count": null,
   "metadata": {
    "scrolled": false
   },
   "outputs": [],
   "source": [
    "pEG = graphviz.Digraph(name='Structural Graph', engine='neato')\n",
    "pEG.attr('graph', size='10,10', concentrate='false', simplify='false', overlap='false',splines='true',ratio='.7',outputorder=\"edgesfirst\",nodesep='.25',mindist='.20')\n",
    "pEG.attr('node', pin='true', shape='box', height='0.4', fixedsize='false',margin='.05', color='black', penwidth='1', fontname='Helvetica', fontcolor='black',fontsize='10' ) # style='filled', fillcolor='#515660',)\n",
    "pEG.attr('edge', arrowhead='normal', arrowsize='.5', penwidth='2.5')\n",
    "\n",
    "max_effoutdegree = max([v for n,v in EG.out_degree()])\n",
    "list_effconn = [d['effective_connectivity'] for n,d in EG.nodes(data=True)]\n",
    "min_effconn, max_effconn = min(list_effconn), max(list_effconn)\n",
    "\n",
    "for nid,d in EG.nodes(data=True):\n",
    "    label = d['label']\n",
    "#     ntype = att[nid].get('type')\n",
    "#     pos = att[nid].get('pos', '')\n",
    "#     shape = att[nid].get('shape')\n",
    "#     fillcolor = colors[ntype]\n",
    "    pEG.node(str(nid), label=label, ) #pos=pos, shape=shape, fillcolor=fillcolor,)\n",
    "\n",
    "max_penwidth = 4\n",
    "for uid,vid,d in EG.edges(data=True):\n",
    "    uid = str(uid)\n",
    "    vid = str(vid)\n",
    "    weight = '%d' % (d['weight']*100)\n",
    "    penwidth = '%.2f' % ( d['weight']*max_penwidth )\n",
    "    if d['weight'] > 0:       \n",
    "        if uid == vid:\n",
    "            color = '#bdbdbd'\n",
    "            uid = uid + ':w'\n",
    "            vid = vid + ':c'\n",
    "        else:\n",
    "            color = '#636363'\n",
    "        pEG.edge(uid,vid, weight=weight, penwidth=penwidth, color=color)\n",
    "    else:\n",
    "        pEG.edge(uid,vid, style='dashed', color='#A90533')\n",
    "    \n",
    "display(pEG)\n",
    "# Export\n",
    "pEG.format ='svg'\n",
    "pEG.render(\"generic-EG\", cleanup=True)"
   ]
  },
  {
   "cell_type": "code",
   "execution_count": null,
   "metadata": {},
   "outputs": [],
   "source": [
    "pEG = graphviz.Digraph(name='Structural Graph', engine='neato')\n",
    "pEG.attr('graph', size='10,10', concentrate='false', simplify='false', overlap='false',splines='true',ratio='.7',outputorder=\"edgesfirst\",nodesep='.25',mindist='.20')\n",
    "pEG.attr('node', pin='true', shape='box', height='0.4', fixedsize='false',margin='.05', color='black', penwidth='1', fontname='Helvetica', fontcolor='black',fontsize='10' ) # style='filled', fillcolor='#515660',)\n",
    "pEG.attr('edge', arrowhead='normal', arrowsize='.5', penwidth='2.5')\n",
    "\n",
    "max_effoutdegree = max([v for n,v in EG0p2.out_degree()]) # not sure why the maxeffoutdegree is coming from the 0.20 graph - doesn't seem to make a difference in the graphical output\n",
    "list_effconn = [d['effective_connectivity'] for n,d in EG.nodes(data=True)]\n",
    "min_effconn, max_effconn = min(list_effconn), max(list_effconn)\n",
    "\n",
    "# Manually position nodes using the DotLayout\n",
    "# dotpos = nx.drawing.nx_agraph.graphviz_layout(EG, prog='dot', args='-Gconcentrate=false -Gsimplify=false -Goverlap=false -Gsplines=True -Gratio=compress -Goutputorder=edgesfirst -Gnodesep=.25 -Granksep=.20')\n",
    "#\n",
    "for nid,d in EG.nodes(data=True):\n",
    "    label = d['label']\n",
    "#     ntype = att[nid].get('type')\n",
    "#     x,y = dotpos[nid][0], dotpos[nid][1]\n",
    "#     pos = '{x:.2f},{y:.2f}'.format(x=x, y=y) #''#att[nid].get('pos', '')\n",
    "#     shape = att[nid].get('shape')\n",
    "#     fillcolor = colors[ntype]\n",
    "    pEG.node(str(nid), label=label) #, pos=pos)# put postions here!!!\n",
    "\n",
    "\n",
    "# for nid,d in EG0p4.nodes(data=True):\n",
    "#     label = d['label']\n",
    "#     ntype = att[nid].get('type')\n",
    "#     pos = att[nid].get('pos', '')\n",
    "#     shape = att[nid].get('shape')\n",
    "#     fillcolor = colors[ntype]\n",
    "#     pEG.node(str(nid), label=label, pos=pos, shape=shape, fillcolor=fillcolor,)\n",
    "\n",
    "max_penwidth = 4\n",
    "for uid,vid,d in EG0p4.edges(data=True):\n",
    "    uid = str(uid)\n",
    "    vid = str(vid)\n",
    "    weight = '%d' % (d['weight']*100)\n",
    "    penwidth = '%.2f' % ( d['weight']*max_penwidth )\n",
    "    if d['weight'] > 0.4:       \n",
    "        if uid == vid:\n",
    "            color = '#bdbdbd'\n",
    "            uid = uid + ':w'\n",
    "            vid = vid + ':c'\n",
    "        else:\n",
    "            color = '#636363'\n",
    "        pEG.edge(uid,vid, weight=weight, penwidth=penwidth, color=color)\n",
    "    else:\n",
    "        pEG.edge(uid,vid, style='dashed', color='#A90533')\n",
    "\n",
    "# NOTE: without per specifying node positions, because the thresholded effective graphs can disconnect the graph\n",
    "# expect a very different layout compared to the previous graph displays\n",
    "        \n",
    "display(pEG)\n",
    "# Export\n",
    "pEG.format ='svg'\n",
    "pEG.render(\"generic-EGt0p4\", cleanup=True)"
   ]
  },
  {
   "cell_type": "code",
   "execution_count": null,
   "metadata": {
    "scrolled": false
   },
   "outputs": [],
   "source": [
    "pEG = graphviz.Digraph(name='Structural Graph', engine='dot')\n",
    "pEG.attr('graph', size='8.5,9', concentrate='false', simplify='false', overlap='false',splines='true',ratio='compress',outputorder=\"edgesfirst\",nodesep='.25',ranksep='.25')\n",
    "pEG.attr('node', pin='true', shape='box', height='0.4', fixedsize='false',margin='.05', color='black', penwidth='1', fontname='Helvetica', fontcolor='black',fontsize='10' ) # style='filled', fillcolor='#515660',)\n",
    "pEG.attr('edge', arrowhead='normal', arrowsize='.5', color='black', penwidth='3')\n",
    "\n",
    "max_effoutdegree = max([v for n,v in EG.out_degree()])\n",
    "list_effconn = [d['effective_connectivity'] for n,d in EG.nodes(data=True)]\n",
    "min_effconn, max_effconn = min(list_effconn), max(list_effconn)\n",
    "#\n",
    "# ColorBar\n",
    "interval = np.linspace(0.0, 0.70, 256)\n",
    "cmap = LinearSegmentedColormap.from_list('custom', ['white','#d62728'])\n",
    "#norm = mpl.colors.Normalize(vmin=0, vmax=1)\n",
    "norm = mpl.colors.Normalize(vmin=1, vmax=max_effoutdegree)\n",
    "#\n",
    "colornodes = ['Apoptosis', 'Apoptosis_2', 'Apoptosis_3', 'Proliferation', 'Proliferation_2', 'Proliferation_3', 'Proliferation_4']\n",
    "#\n",
    "# Manually position nodes using the DotLayout\n",
    "dotpos = nx.drawing.nx_agraph.graphviz_layout(EG, prog='dot', args='-Gconcentrate=false -Gsimplify=false -Goverlap=false -Gsplines=True -Gratio=compress -Goutputorder=edgesfirst -Gnodesep=.25 -Granksep=.20')\n",
    "#\n",
    "for nid,d in EG.nodes(data=True):\n",
    "    label = d['label']\n",
    "#     ntype = att[nid].get('type')\n",
    "    x,y = dotpos[nid][0], dotpos[nid][1]\n",
    "#     pos = '{x:.2f},{y:.2f}'.format(x=x, y=y) #''#att[nid].get('pos', '')\n",
    "#     shape = att[nid].get('shape')\n",
    "#     fillcolor = colors[ntype]\n",
    "    pEG.node(str(nid), label=label)\n",
    "\n",
    "max_penwidth = 4\n",
    "for uid,vid,d in EG.edges(data=True):\n",
    "    uid = str(uid)\n",
    "    vid = str(vid)\n",
    "    weight = '%d' % (d['weight']*100)\n",
    "    penwidth = '%.2f' % ( d['weight']*max_penwidth )\n",
    "    if d['weight'] >= 0.2:\n",
    "        if uid == vid:\n",
    "            color = '#bdbdbd'\n",
    "            uid = uid + ':w'\n",
    "            vid = vid + ':c'\n",
    "        else:\n",
    "            color = '#636363'\n",
    "        pEG.edge(uid,vid, weight=weight, penwidth=penwidth, color=color)\n",
    "    else:\n",
    "        pass\n",
    "        #pEG.edge(uid,vid, style='dashed', color='#A90533')\n",
    " \n",
    "# Export\n",
    "display(pEG)\n",
    "pEG.format ='svg'\n",
    "pEG.render(\"generic-EGt0p2-dotlayout\", cleanup=True)"
   ]
  },
  {
   "cell_type": "code",
   "execution_count": null,
   "metadata": {},
   "outputs": [],
   "source": [
    "# Legend - only makes sense for breast cancer network\n",
    "# from matplotlib.patches import Patch\n",
    "\n",
    "# fig, ax = plt.subplots(nrows=1, ncols=1, figsize=(2,2))\n",
    "\n",
    "# labels = [\n",
    "#     'RTK signaling',\n",
    "#     'PI3K pathway',\n",
    "#     'MAPK pathway',\n",
    "#     'AKT pathway',\n",
    "#     'mTORC1 pathway',\n",
    "#     'ER signaling',\n",
    "#     'Apoptosis',\n",
    "#     'Proliferation',\n",
    "#     'Drugs']\n",
    "\n",
    "# handles = []\n",
    "# for label in labels:\n",
    "#     facecolor = colors[label]\n",
    "#     patch = Patch(facecolor=facecolor, edgecolor='black', label=label)\n",
    "#     handles.append(patch)\n",
    "\n",
    "# leg = ax.legend(handles=handles, labels=labels, loc='upper left', ncol=3)\n",
    "# plt.axis('off')\n",
    "\n",
    "# plt.show()"
   ]
  },
  {
   "cell_type": "markdown",
   "metadata": {
    "pycharm": {
     "name": "#%%\n"
    }
   },
   "source": [
    "## Dynamic Canalization analysis"
   ]
  },
  {
   "cell_type": "markdown",
   "metadata": {},
   "source": [
    "### Generic dynamics canalizaiton map (DCM) for network"
   ]
  },
  {
   "cell_type": "code",
   "execution_count": 9,
   "metadata": {},
   "outputs": [],
   "source": [
    "# Request the DCM to the Network\n",
    "DCM = C.dynamics_canalization_map(simplify=True)"
   ]
  },
  {
   "cell_type": "code",
   "execution_count": null,
   "metadata": {},
   "outputs": [],
   "source": [
    "def draw_canalizing_map_graphviz_custom(DG=None,\n",
    "                                 on_node_fillcolor='black', on_node_fontcolor='white',\n",
    "                                 off_node_fillcolor='white', off_node_fontcolor='black',\n",
    "\n",
    "                                 input_node_bordercolor='gray',\n",
    "                                 output_node_bordercolor='red',\n",
    "                                 controlled_node_bordercolor='green',\n",
    "                                 constant_node_bordercolor='pink',\n",
    "\n",
    "                                 literal_edge_color='#208120', output_edge_color='#812020',\n",
    "                                 fusing_edge_color='#a5a5cc', fused_edge_color='#202081',\n",
    "                                 simplified_edge_color='#cca37a',\n",
    "\n",
    "                                 fusing_edge_arrowhead='none',\n",
    "                                 fused_edge_arrowhead='dot',\n",
    "                                 literal_edge_arrowhead='dot',\n",
    "                                 out_edge_arrowhead='normal',\n",
    "\n",
    "                                 simplified_edge_arrowhead='normal',\n",
    "                                 *args, **kwargs):\n",
    "    \"\"\" Draws the Canalizing Map (CM) using the GraphViz plotting engine.\n",
    "\n",
    "    Args:\n",
    "        DG (networkx.DiGraph) : The node Canalizing Map (CM).\n",
    "\n",
    "    Returns:\n",
    "        (graphviz) : The network in graphviz dot format.\n",
    "    \"\"\"\n",
    "    G = graphviz.Digraph(engine='dot')\n",
    "    G.attr('graph', size='9,9', concentrate='false', simplify='false', overlap='false',splines='true',ratio='compress',outputorder=\"edgesfirst\",nodesep='.25',ranksep='.25')\n",
    "#     G.graph_attr.update(overlap='false')\n",
    "    G.node_attr.update(fontname='helvetica', shape='box', fontcolor='black', fontsize='12', width='.4', fixedsize='false', style='filled', color='gray', penwidth='3')\n",
    "    G.edge_attr.update(arrowhead='dot', color='gray', arrowsize='1')\n",
    "\n",
    "    # Nodes\n",
    "    for n, d in DG.nodes(data=True):\n",
    "        if 'type' not in d:\n",
    "            raise AttributeError(\"Node type could not be found. Must be either 'variable', 'threshold' or 'fusion'.\")\n",
    "\n",
    "        # Variable Nodes\n",
    "        if d['type'] == 'variable':\n",
    "\n",
    "            if 'mode' in d:\n",
    "                # Border Color. Dependents if 'input', 'output', 'controlled' or 'constant'\n",
    "                if d['mode'] == 'input':\n",
    "                    mode_bordercolor = input_node_bordercolor\n",
    "                elif d['mode'] == 'output':\n",
    "                    mode_bordercolor = output_node_bordercolor\n",
    "                elif d['mode'] == 'constant':\n",
    "                    mode_bordercolor = constant_node_bordercolor\n",
    "                elif d['mode'] == 'controled':\n",
    "                    mode_bordercolor = controlled_node_bordercolor\n",
    "            else:\n",
    "                mode_bordercolor = output_node_bordercolor\n",
    "\n",
    "            if d['value'] == 0:\n",
    "                label = d.get('label', d.get('label-tmp', 'None'))\n",
    "                G.node(name=n, label=label, fontcolor=off_node_fontcolor, fillcolor=off_node_fillcolor, color=mode_bordercolor)\n",
    "            elif d['value'] == 1:\n",
    "                label = d.get('label', d.get('label-tmp', 'None'))\n",
    "                G.node(name=n, label=label, fontcolor=on_node_fontcolor, fillcolor=on_node_fillcolor, color=mode_bordercolor)\n",
    "\n",
    "        # Threshold Nodes\n",
    "        elif d['type'] == 'threshold':\n",
    "            G.node(name=n, label=d['label'], shape='diamond', style='filled,solid', fillcolor='#dae8f4', fontcolor='black', color='#b5d1e9', width='.4', height='.4')\n",
    "\n",
    "        elif d['type'] == 'fusion':\n",
    "            G.node(name=n, label='', shape='none', width='0', height='0', margin='0')\n",
    "\n",
    "    # Edges\n",
    "    for s, t, d in DG.edges(data=True):\n",
    "        color = literal_edge_color\n",
    "        arrowhead = out_edge_arrowhead\n",
    "\n",
    "        if 'type' in d:\n",
    "            if d['type'] == 'out':\n",
    "                arrowhead = out_edge_arrowhead\n",
    "                color = output_edge_color\n",
    "\n",
    "            elif d['type'] == 'literal':\n",
    "                arrowhead = literal_edge_arrowhead\n",
    "                color = literal_edge_color\n",
    "\n",
    "            elif d['type'] == 'fusing':\n",
    "                arrowhead = fusing_edge_arrowhead\n",
    "                color = fusing_edge_color\n",
    "\n",
    "            elif d['type'] == 'fused':\n",
    "                arrowhead = fused_edge_arrowhead\n",
    "                color = fused_edge_color\n",
    "\n",
    "            elif d['type'] == 'simplified':\n",
    "                if d['mode'] == 'selfloop':\n",
    "                    arrowhead = simplified_edge_arrowhead\n",
    "                    color = simplified_edge_color\n",
    "                elif d['mode'] == 'direct':\n",
    "                    arrowhead = simplified_edge_arrowhead\n",
    "                    color = simplified_edge_color\n",
    "\n",
    "            else:\n",
    "                raise AttributeError(\"Node type could not be found. Must be either 'out', 'literal', 'fusing', 'fused' or 'simplified'.  Got {:s}.\".format(d['type']))\n",
    "        G.edge(s, t, arrowhead=arrowhead, color=color)\n",
    "\n",
    "    return G"
   ]
  },
  {
   "cell_type": "code",
   "execution_count": null,
   "metadata": {},
   "outputs": [],
   "source": [
    "\n",
    "#for n,d in DCM.nodes(True):\n",
    "    #print(n,d)\n",
    "# Draws using the graphviz interface.\n",
    "gDCM = draw_canalizing_map_graphviz_custom(DCM)\n",
    "# Display\n",
    "# display(gDCM)\n",
    "gDCM.format ='svg'\n",
    "gDCM.render(\"generic-dynamics_canalizing_map_test_dot_2\", cleanup=True)"
   ]
  },
  {
   "cell_type": "markdown",
   "metadata": {},
   "source": [
    "## Explore canalization for node of interest"
   ]
  },
  {
   "cell_type": "markdown",
   "metadata": {},
   "source": [
    "## Intended for exploring a node of interest. Not ready yet!!!!!"
   ]
  },
  {
   "cell_type": "code",
   "execution_count": 14,
   "metadata": {},
   "outputs": [
    {
     "ename": "AttributeError",
     "evalue": "'BooleanNode' object has no attribute 'nodes'",
     "output_type": "error",
     "traceback": [
      "\u001B[0;31m---------------------------------------------------------------------------\u001B[0m",
      "\u001B[0;31mAttributeError\u001B[0m                            Traceback (most recent call last)",
      "\u001B[0;32m<ipython-input-14-7170c132d08e>\u001B[0m in \u001B[0;36m<module>\u001B[0;34m\u001B[0m\n\u001B[1;32m     14\u001B[0m \u001B[0;34m\u001B[0m\u001B[0m\n\u001B[1;32m     15\u001B[0m \u001B[0;31m# Make node level canalizing map using the graphviz interface.\u001B[0m\u001B[0;34m\u001B[0m\u001B[0;34m\u001B[0m\u001B[0;34m\u001B[0m\u001B[0m\n\u001B[0;32m---> 16\u001B[0;31m \u001B[0mgCM\u001B[0m \u001B[0;34m=\u001B[0m \u001B[0mdraw_canalizing_map_graphviz\u001B[0m\u001B[0;34m(\u001B[0m\u001B[0mnode\u001B[0m\u001B[0;34m)\u001B[0m\u001B[0;34m\u001B[0m\u001B[0;34m\u001B[0m\u001B[0m\n\u001B[0m\u001B[1;32m     17\u001B[0m \u001B[0;31m# Display\u001B[0m\u001B[0;34m\u001B[0m\u001B[0;34m\u001B[0m\u001B[0;34m\u001B[0m\u001B[0m\n\u001B[1;32m     18\u001B[0m \u001B[0;31m# display(gCM)\u001B[0m\u001B[0;34m\u001B[0m\u001B[0;34m\u001B[0m\u001B[0;34m\u001B[0m\u001B[0m\n",
      "\u001B[0;32m~/Documents/GitHub/CANA/cana/drawing/canalizing_map.py\u001B[0m in \u001B[0;36mdraw_canalizing_map_graphviz\u001B[0;34m(DG, on_node_fillcolor, on_node_fontcolor, off_node_fillcolor, off_node_fontcolor, input_node_bordercolor, output_node_bordercolor, controlled_node_bordercolor, constant_node_bordercolor, literal_edge_color, output_edge_color, fusing_edge_color, fused_edge_color, simplified_edge_color, fusing_edge_arrowhead, fused_edge_arrowhead, literal_edge_arrowhead, out_edge_arrowhead, simplified_edge_arrowhead, *args, **kwargs)\u001B[0m\n\u001B[1;32m     53\u001B[0m \u001B[0;34m\u001B[0m\u001B[0m\n\u001B[1;32m     54\u001B[0m     \u001B[0;31m# Nodes\u001B[0m\u001B[0;34m\u001B[0m\u001B[0;34m\u001B[0m\u001B[0;34m\u001B[0m\u001B[0m\n\u001B[0;32m---> 55\u001B[0;31m     \u001B[0;32mfor\u001B[0m \u001B[0mn\u001B[0m\u001B[0;34m,\u001B[0m \u001B[0md\u001B[0m \u001B[0;32min\u001B[0m \u001B[0mDG\u001B[0m\u001B[0;34m.\u001B[0m\u001B[0mnodes\u001B[0m\u001B[0;34m(\u001B[0m\u001B[0mdata\u001B[0m\u001B[0;34m=\u001B[0m\u001B[0;32mTrue\u001B[0m\u001B[0;34m)\u001B[0m\u001B[0;34m:\u001B[0m\u001B[0;34m\u001B[0m\u001B[0;34m\u001B[0m\u001B[0m\n\u001B[0m\u001B[1;32m     56\u001B[0m         \u001B[0;32mif\u001B[0m \u001B[0;34m'type'\u001B[0m \u001B[0;32mnot\u001B[0m \u001B[0;32min\u001B[0m \u001B[0md\u001B[0m\u001B[0;34m:\u001B[0m\u001B[0;34m\u001B[0m\u001B[0;34m\u001B[0m\u001B[0m\n\u001B[1;32m     57\u001B[0m             \u001B[0;32mraise\u001B[0m \u001B[0mAttributeError\u001B[0m\u001B[0;34m(\u001B[0m\u001B[0;34m\"Node type could not be found. Must be either 'variable', 'threshold' or 'fusion'.\"\u001B[0m\u001B[0;34m)\u001B[0m\u001B[0;34m\u001B[0m\u001B[0;34m\u001B[0m\u001B[0m\n",
      "\u001B[0;31mAttributeError\u001B[0m: 'BooleanNode' object has no attribute 'nodes'"
     ]
    }
   ],
   "source": [
    "# Input node of interset ... might want the long label - can you do that?\n",
    "\n",
    "ID_of_node_of_interest = 6\n",
    "\n",
    "node = C.nodes[ID_of_node_of_interest]\n",
    "\n",
    "# Make node level effective graph\n",
    "\n",
    "# EG0 = C.effective_graph(threshold=0) -- I should be able to calculate the effective connectivity of each edge?\n",
    "# Actually - I want to extract it from the EG for each node and then plot it node by node - so I have all\n",
    "# the right information - I just need to get it and then plot it ...\n",
    "\n",
    "# node.\n",
    "\n",
    "# Make node level canalizing map using the graphviz interface.\n",
    "gCM = draw_canalizing_map_graphviz(node)\n",
    "# Display\n",
    "# display(gCM)\n",
    "\n",
    "\n",
    "\n",
    "#Calculate and plot schemata\n",
    "# Compute Prime Implicants & Two-Symbol schematas\n",
    "node._check_compute_canalization_variables(prime_implicants=True)\n",
    "node._check_compute_canalization_variables(two_symbols=True)\n",
    "# Plot\n",
    "plot_schemata(node)\n",
    "visualize_schemata.plot_schemata(node)"
   ]
  },
  {
   "cell_type": "code",
   "execution_count": null,
   "metadata": {},
   "outputs": [],
   "source": [
    "def effective_graph_for_node(node, bound='mean', threshold=None):\n",
    "    \"\"\"Computes and returns the effective graph of the network.\n",
    "    In practive it asks each :class:`~cana.boolean_node.BooleanNode` for their :func:`~cana.boolean_node.BooleanNode.edge_effectiveness`.\n",
    "\n",
    "    Args:\n",
    "        bound (string) : The bound to which compute input redundancy.\n",
    "            Can be one of : [\"lower\", \"mean\", \"upper\", \"tuple\"].\n",
    "            Defaults to \"mean\".\n",
    "        threshold (float) : Only return edges above a certain effective connectivity threshold.\n",
    "            This is usefull when computing graph measures at diffent levels.\n",
    "\n",
    "    Returns:\n",
    "        (networkx.DiGraph) : directed graph\n",
    "\n",
    "    See Also:\n",
    "        :func:`~cana.boolean_node.BooleanNode.edge_effectiveness`\n",
    "    \"\"\"\n",
    "    if threshold is not None:\n",
    "        self._eg = nx.DiGraph(name=\"Effective Graph: \" + self.name + \"(Threshold: {threshold:.2f})\".format(threshold=threshold))\n",
    "    else:\n",
    "        self._eg = nx.DiGraph(name=\"Effective Graph: \" + self.name + \"(Threshold: None)\")\n",
    "\n",
    "    # Add Nodes\n",
    "    for i, node in enumerate(self.nodes, start=0):\n",
    "        self._eg.add_node(i, **{'label': node.name})\n",
    "\n",
    "    # Add Edges\n",
    "    for i, node in enumerate(self.nodes, start=0):\n",
    "        e_is = node.edge_effectiveness(bound=bound)\n",
    "        for inputs, e_i in zip(self.logic[i]['in'], e_is):\n",
    "            # If there is a threshold, only return those number above the threshold. Else, return all edges.\n",
    "            if (threshold is None) or ((threshold is not None) and (e_i > threshold)):\n",
    "                self._eg.add_edge(inputs, i, **{'weight': e_i})\n",
    "\n",
    "    return self._eg\n",
    "\n"
   ]
  },
  {
   "cell_type": "code",
   "execution_count": null,
   "metadata": {
    "pycharm": {
     "name": "#%%\n"
    }
   },
   "outputs": [],
   "source": [
    "ID_of_node_of_interest = 6\n",
    "\n",
    "node = C.nodes[ID_of_node_of_interest]\n",
    "\n",
    "print(node)\n",
    "\n",
    "for input in node.inputs:\n",
    "    print(input)\n",
    "    print(C.nodes[input].name)\n",
    "#     print(EG.edges[input])\n",
    "\n",
    "for edge in EG.edges:\n",
    "    print(type(edge))\n",
    "\n",
    "print(type(EG.edges))\n",
    "\n",
    "# effective_graph_for_node = nx.DiGraph(name=\"Effective Graph: \" + node.name + \"(Threshold: None)\")\n",
    "\n",
    "# effective_graph_for_node.add_node(node, **{'label': node.name})\n",
    "\n",
    "# for input_node in node.inputs:\n",
    "#     print(input_node)\n",
    "#     effective_graph_for_node.add_node(input_node, **{'label': C.nodes[input_node].name})\n",
    "\n",
    "# effective_graph_for_node.add_edge(node.inputs, 0)\n",
    "\n",
    "# e_is = node.edge_effectiveness()\n",
    "# e_is"
   ]
  },
  {
   "cell_type": "code",
   "execution_count": null,
   "metadata": {
    "pycharm": {
     "name": "#%%\n"
    }
   },
   "outputs": [],
   "source": [
    "\n"
   ]
  }
 ],
 "metadata": {
  "kernelspec": {
   "display_name": "Python 3",
   "language": "python",
   "name": "python3"
  },
  "language_info": {
   "codemirror_mode": {
    "name": "ipython",
    "version": 3
   },
   "file_extension": ".py",
   "mimetype": "text/x-python",
   "name": "python",
   "nbconvert_exporter": "python",
   "pygments_lexer": "ipython3",
   "version": "3.6.10"
  }
 },
 "nbformat": 4,
 "nbformat_minor": 2
}