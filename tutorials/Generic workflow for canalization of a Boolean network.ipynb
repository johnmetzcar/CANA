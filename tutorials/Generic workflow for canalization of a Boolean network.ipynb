{
 "cells": [
  {
   "cell_type": "markdown",
   "metadata": {},
   "source": [
    "# Generic cancer network analysis effective graph\n",
    "\n",
    "> Based on **PNAS ER+ Breast Cancer notebook** from A.J. Gates, R.B. Correia, X. Wang, & L.M. Rocha [2021]. \"The effective graph reveals redundancy, canalization, and control pathways in biochemical regulation and signaling\". Proceedings of the National Academy of Sciences (PNAS), 118 (12)."
   ]
  },
  {
   "cell_type": "code",
   "execution_count": 1,
   "metadata": {
    "scrolled": false
   },
   "outputs": [],
   "source": [
    "import numpy as np\n",
    "import pandas as pd\n",
    "from collections import Counter\n",
    "import graphviz\n",
    "from copy import copy\n",
    "import os\n",
    "# Cana\n",
    "import cana\n",
    "from cana.boolean_network import BooleanNetwork\n",
    "from cana.datasets.bio import BREAST_CANCER, LEUKEMIA\n",
    "# from cana.datasets.regan_networks import pi3kcellcycleapoptosis\n",
    "from cana.drawing.canalizing_map import draw_canalizing_map_graphviz\n",
    "# from cana.custom_modules import visualize_schemata\n",
    "# Matplotlib\n",
    "import matplotlib as mpl\n",
    "import matplotlib.pyplot as plt\n",
    "from matplotlib.colors import LinearSegmentedColormap\n",
    "from matplotlib.text import Text\n",
    "from matplotlib.patches import Circle, Rectangle, RegularPolygon\n",
    "from matplotlib.collections import PatchCollection\n",
    "# Networkx\n",
    "import networkx as nx\n",
    "\n"
   ]
  },
  {
   "cell_type": "code",
   "execution_count": null,
   "metadata": {},
   "outputs": [],
   "source": [
    "def calculates_path_length(G, path, weight='weight'):\n",
    "    path_weight_sum = 0.0\n",
    "    weakest_link = np.inf\n",
    "    for source, target in zip(path[:-1], path[1:]):\n",
    "        edge_weight = G.edges[(source, target)][weight]\n",
    "        path_weight_sum += edge_weight\n",
    "        if edge_weight < weakest_link:\n",
    "            weakest_link = edge_weight\n",
    "    return path_weight_sum, weakest_link"
   ]
  },
  {
   "cell_type": "markdown",
   "metadata": {},
   "source": [
    "# Load network of interest and calculate reduncy measures"
   ]
  },
  {
   "cell_type": "code",
   "execution_count": 2,
   "metadata": {
    "scrolled": false
   },
   "outputs": [],
   "source": [
    "# C = BREAST_CANCER()\n",
    "C = LEUKEMIA()\n",
    "# regan_models = []\n",
    "# regan_models = load_all_regan_pi3k_models()\n",
    "# for N in regan_models:\n",
    "#     print(N.name)\n",
    "\n",
    "# PI3K_full = pi3kcellcycleapoptosis()\n",
    "# print(PI3K_full.name)\n",
    "# C = PI3K_full"
   ]
  },
  {
   "cell_type": "markdown",
   "metadata": {},
   "source": [
    "**Calculate redundancy measures at the node level - input redundancy, effective connectivity, and input symmetry**"
   ]
  },
  {
   "cell_type": "code",
   "execution_count": null,
   "metadata": {},
   "outputs": [],
   "source": [
    "pd.set_option('display.max_rows', 500)\n",
    "pd.options.display.float_format = '{:.2g}'.format\n",
    "\n",
    "node_analysis_df = pd.DataFrame({\n",
    "        'node':[n.name for n in C.nodes],\n",
    "        'k':[n.k for n in C.nodes],\n",
    "        'k_r':[n.input_redundancy(norm=False) for n in C.nodes],\n",
    "        'k_e':[n.effective_connectivity(norm=False) for n in C.nodes],\n",
    "        'k_r*':[n.input_redundancy(norm=True) for n in C.nodes],\n",
    "        'k_e*':[n.effective_connectivity(norm=True) for n in C.nodes],\n",
    "        'k_s*':[n.input_symmetry(norm=True) for n in C.nodes],\n",
    "    })\n",
    "#df = df[['k','k_r','k_e','k_r*','k_e*','k^{out}','k_e^{out}']]\n",
    "node_analysis_df.sort_values('k_r*',ascending=False,inplace=True)\n",
    "display(node_analysis_df)\n",
    "#print(df.to_latex(escape=False))\n",
    "#\n",
    "drugs = [3, 4, 5, 6, 7, 8, 9]\n",
    "dfd = node_analysis_df.loc[drugs, ['node', 'k_r*', 'k_e*', 'k_s*']]\n",
    "dfd = node_analysis_df.loc[:, ['node', 'k_r*', 'k_e*', 'k_s*']]\n",
    "\n",
    "# display(dfd)"
   ]
  },
  {
   "cell_type": "markdown",
   "metadata": {},
   "source": [
    "**Replace canalization values of input nodes with 'NaN' to exclude them from summary node statistics**"
   ]
  },
  {
   "cell_type": "code",
   "execution_count": null,
   "metadata": {},
   "outputs": [],
   "source": [
    "# node_analysis_df = node_analysis_df.loc[node_analysis_df['k'] == 1, ['k_r', 'k_e', 'k_r*', 'k_e*', 'k_s*']] = 'NaN', 'NaN', 'NaN', 'NaN', 'NaN'\n",
    "display(type(node_analysis_df))\n",
    "\n",
    "node_analysis_df.loc[(node_analysis_df.k==1),'k_r'] = np.nan\n",
    "node_analysis_df.loc[(node_analysis_df.k==1),'k_e'] = np.nan\n",
    "node_analysis_df.loc[(node_analysis_df.k==1),'k_r*'] = np.nan\n",
    "node_analysis_df.loc[(node_analysis_df.k==1),'k_e*'] = np.nan\n",
    "node_analysis_df.loc[(node_analysis_df.k==1),'k_s*'] = np.nan\n",
    "node_analysis_df\n",
    "\n",
    "# If there is an output node with only one input, this will replace those values also and the 0\n",
    "# for the redundancy measures also won't get put in the averages!!!!!!!!!!!! How can I tell if it is \n",
    "# an output node versus an input node with only degree 1??????\n",
    "\n",
    "# type(node_analysis_df.loc[0,'k_s*'])"
   ]
  },
  {
   "cell_type": "markdown",
   "metadata": {},
   "source": [
    "**Summary statistics at the node level for canalization values of interest**"
   ]
  },
  {
   "cell_type": "code",
   "execution_count": null,
   "metadata": {
    "scrolled": false
   },
   "outputs": [],
   "source": [
    "#summary stats\n",
    "\n",
    "display(node_analysis_df.describe())\n",
    "# node_analysis_df[node_analysis_df != -1].mean() # Update - works if you replace values with -1 instead. Or anything that isn't used in the calculations.\n",
    "                                                # very very close - but some of the symetry values really are 0. \n",
    "                                               # I should probably actaully exclude them, but this is a really good start\n",
    "    "
   ]
  },
  {
   "cell_type": "code",
   "execution_count": null,
   "metadata": {},
   "outputs": [],
   "source": [
    "# for n,v in C.out_degree():\n",
    "#     print(n, v)\n",
    "\n",
    "#  I should be able to get that from the regular graphs as well?? It must not be in the Boolean networks?"
   ]
  },
  {
   "cell_type": "markdown",
   "metadata": {},
   "source": [
    "# Effective graph(s) for network of interest"
   ]
  },
  {
   "cell_type": "markdown",
   "metadata": {},
   "source": [
    "Make the various graphs of interest"
   ]
  },
  {
   "cell_type": "code",
   "execution_count": 3,
   "metadata": {},
   "outputs": [],
   "source": [
    "SG = C.structural_graph()\n",
    "EG = C.effective_graph(threshold=-1) # now ... what is the difference .... I have my intuition but could be very wrong. And what does -1 mean???\n",
    "#\n",
    "EG0 = C.effective_graph(threshold=0)\n",
    "EG0p2 = C.effective_graph(threshold=.2)\n",
    "EG0p4 = C.effective_graph(threshold=.4)\n",
    "EG0p6 = C.effective_graph(threshold=.6)\n",
    "EG0p8 = C.effective_graph(threshold=.8)"
   ]
  },
  {
   "cell_type": "markdown",
   "metadata": {},
   "source": [
    "Similar to previous section, but includes the effectiveness of the outgoing edges - as coming from the EG.\n"
   ]
  },
  {
   "cell_type": "code",
   "execution_count": null,
   "metadata": {
    "scrolled": false
   },
   "outputs": [],
   "source": [
    "pd.options.display.float_format = '{:.2g}'.format\n",
    "pd.set_option('display.max_rows', 500)\n",
    "#\n",
    "df = pd.DataFrame({\n",
    "        'node':[n.name for n in C.nodes],\n",
    "        'k':[n.k for n in C.nodes],\n",
    "        'k_r':[n.input_redundancy(norm=False) for n in C.nodes],\n",
    "        'k_e':[n.effective_connectivity(norm=False) for n in C.nodes],\n",
    "        'k_r*':[n.input_redundancy(norm=True) for n in C.nodes],\n",
    "        'k_e*':[n.effective_connectivity(norm=True) for n in C.nodes],\n",
    "        'k_s*':[n.input_symmetry(norm=True) for n in C.nodes],\n",
    "        'k^{out}':[v for n,v in EG.out_degree()],\n",
    "        'k_e^{out}':[v for n,v in EG.out_degree(weight='weight')],\n",
    "    })\n",
    "#df = df[['k','k_r','k_e','k_r*','k_e*','k^{out}','k_e^{out}']]\n",
    "df['k_e^{out}/k^{out}'] = df['k_e^{out}'] / df['k^{out}']\n",
    "df.sort_values('k',ascending=False,inplace=True)\n",
    "#print(df.to_latex(escape=False))\n",
    "#\n",
    "drugs = [3, 4, 5, 6, 7, 8, 9]\n",
    "dfd = df.loc[drugs, ['node', 'k_r*', 'k_e*', 'k_s*', 'k^{out}', 'k_e^{out}', 'k_e^{out}/k^{out}']]\n",
    "dfd = df.loc[:, ['node', 'k^{out}', 'k_e^{out}', 'k_e^{out}/k^{out}']]\n",
    "dfd.sort_values(['k^{out}', 'k_e^{out}'], ascending=[False, False], inplace=True)\n",
    "display(dfd)\n",
    "display(dfd.describe())"
   ]
  },
  {
   "cell_type": "markdown",
   "metadata": {},
   "source": [
    "## Additional analysis of the different effective graphs: self-loops, strong and weakly connected , finally redundancy"
   ]
  },
  {
   "cell_type": "code",
   "execution_count": null,
   "metadata": {
    "scrolled": false
   },
   "outputs": [],
   "source": [
    "def number_of_input_nodes(G):\n",
    "    count = 0\n",
    "    for n, d in G.nodes(data=True):\n",
    "        inputs = [True if i == j else False for i, j in G.in_edges(n)]\n",
    "        if inputs == [] or inputs == [True]:\n",
    "            count += 1\n",
    "    return count\n",
    "#\n",
    "def number_of_nodes_with_self_loop(G):\n",
    "    count = 0\n",
    "    for n, d in G.nodes(data=True):\n",
    "        inputs = [True if i == j else False for i, j in G.in_edges(n)]\n",
    "        if any(inputs):\n",
    "            count += 1\n",
    "    return count\n",
    "#\n",
    "def number_of_input_nodes_with_self_loop(G):\n",
    "    count = 0\n",
    "    for n, d in G.nodes(data=True):\n",
    "        inputs = [True if i == j else False for i, j in G.in_edges(n)]\n",
    "        if inputs == [True]:\n",
    "            count += 1\n",
    "    return count"
   ]
  },
  {
   "cell_type": "code",
   "execution_count": null,
   "metadata": {},
   "outputs": [],
   "source": [
    "for G, graph in [(SG, 'IG'), (EG0, 'EG'), (EG0p2, 'EG (0.2)'), (EG0p4, 'EG (0.4)'), (EG0p6, 'EG (0.6)'), (EG0p8, 'EG (0.8)')]:\n",
    "    n_nodes = G.number_of_nodes()\n",
    "    print('{g:s}: Number of nodes: {n:d}'.format(g=graph, n=n_nodes))\n",
    "    n_nodes_with_self_loop = number_of_nodes_with_self_loop(G)\n",
    "    print('{g:s}: Number nodes with a self-loop: {n:d}'.format(g=graph, n=n_nodes_with_self_loop))\n",
    "    n_input_nodes = number_of_input_nodes(G)\n",
    "    print('{g:s}: Number of input nodes: {n:d}'.format(g=graph, n=n_input_nodes))\n",
    "    n_input_nodes_with_self_loop = number_of_input_nodes_with_self_loop(G)\n",
    "    print('{g:s}: Number of input nodes with self-loop: {n:d}'.format(g=graph, n=n_input_nodes_with_self_loop))\n",
    "    print('--')"
   ]
  },
  {
   "cell_type": "code",
   "execution_count": null,
   "metadata": {},
   "outputs": [],
   "source": [
    "def weakly_connected_components(G):\n",
    "    wcc = [len(cc) for cc in nx.weakly_connected_components(G)]\n",
    "    return len(wcc), wcc\n",
    "#\n",
    "def strongly_connected_components(G):\n",
    "    scc = [len(cc) for cc in nx.strongly_connected_components(G)]\n",
    "    return len(scc), scc\n",
    "#\n",
    "def SortedCounter(l):\n",
    "    c = dict(sorted(Counter(l).most_common(), reverse=True)) \n",
    "    return c"
   ]
  },
  {
   "cell_type": "code",
   "execution_count": null,
   "metadata": {
    "scrolled": false
   },
   "outputs": [],
   "source": [
    "for G, graph in [(SG, 'IG'), (EG0, 'EG'), (EG0p2, 'EG (0.2)'), (EG0p4, 'EG (0.4)'), (EG0p6, 'EG (0.6)'), (EG0p8, 'EG (0.8)')]:\n",
    "    n_wcc, wcc = weakly_connected_components(G)\n",
    "    print('{g:s}: {n:d} weakly connected components, sizes {l:}'.format(g=graph, n=n_wcc, l=SortedCounter(wcc)))\n",
    "    #\n",
    "    n_scc, scc = strongly_connected_components(G)\n",
    "    print('{g:s}: {n:d} strongly connected components, sizes {l:}'.format(g=graph, n=n_scc, l=SortedCounter(scc)))\n",
    "    print('--')"
   ]
  },
  {
   "cell_type": "code",
   "execution_count": null,
   "metadata": {},
   "outputs": [],
   "source": [
    "wcc = nx.weakly_connected_components(EG0p2)\n",
    "for id,comp in enumerate(wcc):\n",
    "    print('Component id={id:d} with size: {size:d}'.format(id=id, size=len(comp)))\n",
    "    names = []\n",
    "    for node in comp:\n",
    "        name = G.nodes[node]['label']\n",
    "        names.append(name)\n",
    "    print(names)"
   ]
  },
  {
   "cell_type": "code",
   "execution_count": null,
   "metadata": {
    "scrolled": false
   },
   "outputs": [],
   "source": [
    "net_redundancy = 0\n",
    "#\n",
    "for nid, node in enumerate(C.nodes,start=0):\n",
    "    net_redundancy += node.input_redundancy(norm=False)\n",
    "#\n",
    "net_redundancy_norm = net_redundancy / C.Nnodes\n",
    "#\n",
    "print(\"Total Network Redundancy: {:.4} (norm: {:.4})\".format(net_redundancy, net_redundancy_norm))"
   ]
  },
  {
   "cell_type": "markdown",
   "metadata": {},
   "source": [
    "## Graph(s) vizualization "
   ]
  },
  {
   "cell_type": "code",
   "execution_count": null,
   "metadata": {
    "scrolled": false
   },
   "outputs": [],
   "source": [
    "# Print node names\n",
    "for i,d in SG.nodes(data=True):\n",
    "    print(i,d)"
   ]
  },
  {
   "cell_type": "code",
   "execution_count": null,
   "metadata": {
    "scrolled": false
   },
   "outputs": [],
   "source": [
    "dict_effconn = {nid: node.effective_connectivity(norm=False) \n",
    "    for nid, node in enumerate(C.nodes, start=0) }\n",
    "#\n",
    "nx.set_node_attributes(EG, dict_effconn, 'effective_connectivity')"
   ]
  },
  {
   "cell_type": "code",
   "execution_count": null,
   "metadata": {
    "scrolled": false
   },
   "outputs": [],
   "source": [
    "# # Node Manual Positioning - RUN ONLY FOR ER+ Network!!!!!\n",
    "idmap = {d['label']:i for i,d in SG.nodes(data=True)}\n",
    "att = {}\n",
    "# colors = {\n",
    "#         'Apoptosis': '#b3dc66',\n",
    "#         'Proliferation': '#bfbcd9',\n",
    "#         'Drugs': '#d299ff',\n",
    "#         'ER signaling': '#d3d3d3',\n",
    "#         'mTORC1 pathway': '#ffb96c',\n",
    "#         'AKT pathway': '#8fd3c4',\n",
    "#         'MAPK pathway': '#ffffae',\n",
    "#         'PI3K pathway': '#7aa6cb',\n",
    "#         'RTK signaling': '#f18568'}\n",
    "\n",
    "# #Line 11\n",
    "# att['HER3_T'] = {'pos':'.25,11', 'type':'RTK signaling'}\n",
    "# att['HER3'] = {'pos':'1.5,11', 'type':'RTK signaling'}\n",
    "# att['HER3_2'] = {'pos':'2.7,11', 'type':'RTK signaling'}\n",
    "# att['IGF1R_T'] = {'pos':'3.9,11', 'type':'RTK signaling'}\n",
    "\n",
    "\n",
    "# # Line 10\n",
    "# att['Neratinib'] = {'pos':'0,10', 'type':'Drugs'}\n",
    "# att['Alpelisib'] = {'pos':'4.3,9', 'type':'Drugs'}\n",
    "# att['Fulvestrant'] = {'pos':'7.4,11', 'type':'Drugs', 'width':'0.9'}\n",
    "# att['HER2_3_2'] = {'pos':'1.25,10', 'type':'RTK signaling'}\n",
    "# att['HER2_3'] = {'pos':'2.5,10', 'type':'RTK signaling'}\n",
    "# att['HER2'] = {'pos':'3.8,10', 'type':'RTK signaling'}\n",
    "# att['IGF1R'] = {'pos':'5,11', 'type':'RTK signaling'}\n",
    "# att['IGF1R_2'] = {'pos':'5,10', 'type':'RTK signaling'}\n",
    "# att['ESR1'] = {'pos':'6.8,10', 'type':'ER signaling'}\n",
    "# att['ESR1_2'] = {'pos':'8,10', 'type':'ER signaling'}\n",
    "# att['FOXA1'] = {'pos':'9.2,10', 'type':'ER signaling'}\n",
    "# att['PBX1'] = {'pos':'10.7,8', 'type':'ER signaling'}\n",
    "# # Line 9\n",
    "# att['Trametinib'] = {'pos':'0,9', 'type':'Drugs', 'width':'0.9'}\n",
    "# att['PI3K'] = {'pos':'3,9', 'type':'PI3K pathway'}\n",
    "# att['Everolimus'] = {'pos':'8,6', 'type':'Drugs', 'width':'0.9'}\n",
    "# att['Ipatasertib'] = {'pos':'6.0,9', 'type':'Drugs', 'width':'0.9'}\n",
    "# att['ER'] = {'pos':'8.5,9', 'type':'ER signaling'}\n",
    "\n",
    "# #Line 8\n",
    "# att['MAPK'] = {'pos':'0.2,8', 'type':'MAPK pathway'}\n",
    "# att['PI3K_2'] = {'pos':'3.0,8', 'type':'PI3K pathway'}\n",
    "# att['PIP3'] = {'pos':'4.3,8', 'type':'PI3K pathway'}\n",
    "# att['PIP3_2'] = {'pos':'4.3,7', 'type':'PI3K pathway'}\n",
    "# att['PTEN'] = {'pos':'3.0,7', 'type':'PI3K pathway'}\n",
    "# att['ER_transcription'] = {'pos':'7.6,8', 'type':'ER signaling', 'width':'1.3'}\n",
    "# att['ER_transcription_2'] = {'pos':'9.4,8', 'type':'ER signaling', 'width':'1.5'}\n",
    "\n",
    "# # Line 7\n",
    "# att['MAPK_2'] = {'pos':'0,7', 'type':'MAPK pathway'}\n",
    "# att['RAS'] = {'pos':'1.5,9', 'type':'MAPK pathway'}\n",
    "# att['RAS_2'] = {'pos':'1.5,7', 'type':'MAPK pathway'}\n",
    "# att['RAS_3'] = {'pos':'1.5,8', 'type':'MAPK pathway'}\n",
    "# att['PDK1_pm'] = {'pos':'4.5,6', 'type':'AKT pathway'}\n",
    "# att['mTORC2_pm'] = {'pos':'6.25,7', 'type':'AKT pathway', 'width':'1.2'}\n",
    "# att['KMT2D'] = {'pos':'9,7', 'type':'ER signaling'}\n",
    "# att['MYC'] = {'pos':'10,7', 'type':'ER signaling'}\n",
    "# att['MYC_2'] = {'pos':'11.2,7', 'type':'ER signaling'}\n",
    "# # Line 6\n",
    "# att['PDK1'] = {'pos':'0.5,6', 'type':'AKT pathway'}\n",
    "# att['mTORC2'] = {'pos':'1.75,6', 'type':'AKT pathway'}\n",
    "# att['PIM'] = {'pos':'3,6', 'type':'AKT pathway'}\n",
    "# att['AKT'] = {'pos':'6,6', 'type':'AKT pathway'}\n",
    "# att['Palbociclib'] = {'pos':'9.7,6', 'type':'Drugs', 'width':'0.9'}\n",
    "# # Line 5\n",
    "# att['SGK1_T'] = {'pos':'0.25,5', 'type':'AKT pathway'}\n",
    "# att['SGK1'] = {'pos':'1.5,5', 'type':'AKT pathway'}\n",
    "# att['TSC'] = {'pos':'5.5,5', 'type':'mTORC1 pathway'}\n",
    "# att['p21_p27'] = {'pos':'7,5', 'type':'Proliferation'}\n",
    "# att['p21_p27_T'] = {'pos':'8,5', 'type':'Proliferation'}\n",
    "# att['CDK46'] = {'pos':'9,5', 'type':'Proliferation'}\n",
    "# att['cyclinD'] = {'pos':'10.25,5', 'type':'Proliferation'}\n",
    "# # Line 4\n",
    "# att['FOXO3_Ub'] = {'pos':'1.3,4', 'type':'AKT pathway', 'width':'0.9'}\n",
    "# att['FOXO3'] = {'pos':'2.75,4', 'type':'AKT pathway'}\n",
    "# att['cycE_CDK2'] = {'pos':'6.5,4', 'type':'Proliferation', 'width':'1.0'}\n",
    "# att['cycE_CDK2_T'] = {'pos':'7.8,4', 'type':'Proliferation', 'width':'1.2'}\n",
    "# att['PRAS40'] = {'pos':'4,4', 'type':'mTORC1 pathway'}\n",
    "# att['mTORC1'] = {'pos':'5,4', 'type':'mTORC1 pathway'}\n",
    "# att['cycD_CDK46'] = {'pos':'9.2,4', 'type':'Proliferation', 'width': '1.0'}\n",
    "# att['cycD_CDK46_2'] = {'pos':'11.0,4', 'type':'Proliferation', 'width': '1.4'}\n",
    "# # Line 3\n",
    "# att['BIM_T'] = {'pos':'.5,3', 'type':'Apoptosis'}\n",
    "# att['BCL2_T'] = {'pos':'2,3', 'type':'Apoptosis'}\n",
    "# att['EIF4F'] = {'pos':'4,3', 'type':'mTORC1 pathway'}\n",
    "# att['S6K'] = {'pos':'5,3', 'type':'mTORC1 pathway'}\n",
    "# att['pRb'] = {'pos':'7.0,3', 'type':'Proliferation'}\n",
    "# att['pRb_2'] = {'pos':'8.25,3', 'type':'Proliferation'}\n",
    "# att['pRb_3'] = {'pos':'9.5,3', 'type':'Proliferation'}\n",
    "# att['cyclinD_2'] = {'pos':'10.5,3', 'type':'Proliferation'}\n",
    "# # Line 2\n",
    "# att['BIM'] = {'pos':'0,2', 'type':'Apoptosis'}\n",
    "# att['BAD'] = {'pos':'1,2', 'type':'Apoptosis'}\n",
    "# att['BCL2'] = {'pos':'2,2', 'type':'Apoptosis'}\n",
    "# att['MCL1'] = {'pos':'3,2', 'type':'Apoptosis'}\n",
    "# att['Translation'] = {'pos':'4.5,2', 'type':'mTORC1 pathway', 'width':'0.9'}\n",
    "# att['E2F'] = {'pos':'7.0,2', 'type':'Proliferation'}\n",
    "# att['E2F_2'] = {'pos':'8.25,2', 'type':'Proliferation'}\n",
    "# att['E2F_3'] = {'pos':'9.5,2', 'type':'Proliferation'}\n",
    "# # Line 1\n",
    "# att['Apoptosis'] = {'pos':'0.2,1', 'type':'Apoptosis', 'width':'1.0'}\n",
    "# att['Apoptosis_2'] = {'pos':'1.5,1', 'type':'Apoptosis', 'width':'1.0'}\n",
    "# att['Apoptosis_3'] = {'pos':'2.8,1', 'type':'Apoptosis', 'width':'1.0'}\n",
    "# att['Proliferation'] = {'pos':'6.5,1', 'type':'Proliferation', 'width':'1.1'}\n",
    "# att['Proliferation_2'] = {'pos':'7.9,1', 'type':'Proliferation', 'width':'1.1'}\n",
    "# att['Proliferation_3'] = {'pos':'9.3,1', 'type':'Proliferation', 'width':'1.1'}\n",
    "# att['Proliferation_4'] = {'pos':'10.7,1', 'type':'Proliferation', 'width':'1.1'}\n",
    "\n",
    "# # Check if overlapping nodes\n",
    "# poschk = set()\n",
    "# for k,v in att.items():\n",
    "#     if v['pos'] in poschk:\n",
    "#         raise TypeError(\"Overlapping nodes: {k:s}\".format(k=k))\n",
    "#     else:\n",
    "#         poschk.add(v['pos'])\n",
    "\n",
    "# # Inverse Map\n",
    "# att = {idmap[k]:v for k,v in att.items()}"
   ]
  },
  {
   "cell_type": "markdown",
   "metadata": {},
   "source": [
    "### Interaction Graph"
   ]
  },
  {
   "cell_type": "code",
   "execution_count": null,
   "metadata": {
    "scrolled": false
   },
   "outputs": [],
   "source": [
    "pSG = graphviz.Digraph(name='Structural Graph', engine='neato')\n",
    "pSG.attr('graph', size='10,10', concentrate='false', simplify='false', overlap='false',splines='true',ratio='.7',outputorder=\"edgesfirst\",nodesep='.25',mindist='.20')\n",
    "pSG.attr('node', pin='true', shape='box', height='0.4', fixedsize='false',margin='.05', color='black', penwidth='1', fontname='Helvetica', fontcolor='black',fontsize='10' ) # style='filled', fillcolor='#515660',)\n",
    "pSG.attr('edge', arrowhead='normal', arrowsize='.5', penwidth='2.5')\n",
    "\n",
    "# for nid,SGatt in SG.nodes(data=True):\n",
    "#     label = SGatt['label']\n",
    "#     if nid in att:\n",
    "#         pos = att[nid].get('pos', '')\n",
    "#         shape = att[nid].get('shape', 'box')\n",
    "#         fillcolor = colors[att[nid].get('type')]\n",
    "#         #width = ''att[nid].get('width', '0.7')\n",
    "#         pSG.node(str(nid), label=label, pos=pos, shape=shape, fillcolor=fillcolor, )\n",
    "        \n",
    "for nid,d in SG.nodes(data=True):\n",
    "    label = d['label']\n",
    "#     ntype = att[nid].get('type')\n",
    "#     pos = att[nid].get('pos', '')\n",
    "#     shape = att[nid].get('shape')\n",
    "#     fillcolor = colors[ntype]\n",
    "    pSG.node(str(nid), label=label, ) #pos=pos, shape=shape, fillcolor=fillcolor,)\n",
    "\n",
    "max_penwidth = 4\n",
    "for uid,vid,d in SG.edges(data=True):\n",
    "    uid = str(uid)\n",
    "    vid = str(vid)\n",
    "    weight = '%d' % (d['weight']*100)\n",
    "    # self loop color\n",
    "    if uid == vid:\n",
    "        color = '#bdbdbd'\n",
    "        uid = uid + ':w'\n",
    "        vid = vid + ':c'\n",
    "    else:\n",
    "        color = '#636363'\n",
    "    pSG.edge(uid, vid, weight=weight, color=color)\n",
    "    \n",
    "display(pSG)\n",
    "pSG.format ='svg'\n",
    "# Export\n",
    "pSG.render(\"generic_graph\", cleanup=True) \n",
    "pSG.render('generic_graph.gv')\n",
    "\n",
    "# could obviously extract the network name ... could also\n",
    "# extract positinos here and force the rest of the graphs to be this look. - that is what I want to do ..."
   ]
  },
  {
   "cell_type": "markdown",
   "metadata": {},
   "source": [
    "## Effective Graph"
   ]
  },
  {
   "cell_type": "code",
   "execution_count": null,
   "metadata": {
    "scrolled": false
   },
   "outputs": [],
   "source": [
    "pEG = graphviz.Digraph(name='Structural Graph', engine='neato')\n",
    "pEG.attr('graph', size='10,10', concentrate='false', simplify='false', overlap='false',splines='true',ratio='.7',outputorder=\"edgesfirst\",nodesep='.25',mindist='.20')\n",
    "pEG.attr('node', pin='true', shape='box', height='0.4', fixedsize='false',margin='.05', color='black', penwidth='1', fontname='Helvetica', fontcolor='black',fontsize='10' ) # style='filled', fillcolor='#515660',)\n",
    "pEG.attr('edge', arrowhead='normal', arrowsize='.5', penwidth='2.5')\n",
    "\n",
    "max_effoutdegree = max([v for n,v in EG.out_degree()])\n",
    "list_effconn = [d['effective_connectivity'] for n,d in EG.nodes(data=True)]\n",
    "min_effconn, max_effconn = min(list_effconn), max(list_effconn)\n",
    "\n",
    "for nid,d in EG.nodes(data=True):\n",
    "    label = d['label']\n",
    "#     ntype = att[nid].get('type')\n",
    "#     pos = att[nid].get('pos', '')\n",
    "#     shape = att[nid].get('shape')\n",
    "#     fillcolor = colors[ntype]\n",
    "    pEG.node(str(nid), label=label, ) #pos=pos, shape=shape, fillcolor=fillcolor,)\n",
    "\n",
    "max_penwidth = 4\n",
    "for uid,vid,d in EG.edges(data=True):\n",
    "    uid = str(uid)\n",
    "    vid = str(vid)\n",
    "    weight = '%d' % (d['weight']*100)\n",
    "    penwidth = '%.2f' % ( d['weight']*max_penwidth )\n",
    "    if d['weight'] > 0:       \n",
    "        if uid == vid:\n",
    "            color = '#bdbdbd'\n",
    "            uid = uid + ':w'\n",
    "            vid = vid + ':c'\n",
    "        else:\n",
    "            color = '#636363'\n",
    "        pEG.edge(uid,vid, weight=weight, penwidth=penwidth, color=color)\n",
    "    else:\n",
    "        pEG.edge(uid,vid, style='dashed', color='#A90533')\n",
    "    \n",
    "display(pEG)\n",
    "# Export\n",
    "pEG.format ='svg'\n",
    "pEG.render(\"generic-EG\", cleanup=True)"
   ]
  },
  {
   "cell_type": "code",
   "execution_count": null,
   "metadata": {},
   "outputs": [],
   "source": [
    "pEG = graphviz.Digraph(name='Structural Graph', engine='neato')\n",
    "pEG.attr('graph', size='10,10', concentrate='false', simplify='false', overlap='false',splines='true',ratio='.7',outputorder=\"edgesfirst\",nodesep='.25',mindist='.20')\n",
    "pEG.attr('node', pin='true', shape='box', height='0.4', fixedsize='false',margin='.05', color='black', penwidth='1', fontname='Helvetica', fontcolor='black',fontsize='10' ) # style='filled', fillcolor='#515660',)\n",
    "pEG.attr('edge', arrowhead='normal', arrowsize='.5', penwidth='2.5')\n",
    "\n",
    "max_effoutdegree = max([v for n,v in EG0p2.out_degree()]) # not sure why the maxeffoutdegree is coming from the 0.20 graph - doesn't seem to make a difference in the graphical output\n",
    "list_effconn = [d['effective_connectivity'] for n,d in EG.nodes(data=True)]\n",
    "min_effconn, max_effconn = min(list_effconn), max(list_effconn)\n",
    "\n",
    "# Manually position nodes using the DotLayout\n",
    "# dotpos = nx.drawing.nx_agraph.graphviz_layout(EG, prog='dot', args='-Gconcentrate=false -Gsimplify=false -Goverlap=false -Gsplines=True -Gratio=compress -Goutputorder=edgesfirst -Gnodesep=.25 -Granksep=.20')\n",
    "#\n",
    "for nid,d in EG.nodes(data=True):\n",
    "    label = d['label']\n",
    "#     ntype = att[nid].get('type')\n",
    "#     x,y = dotpos[nid][0], dotpos[nid][1]\n",
    "#     pos = '{x:.2f},{y:.2f}'.format(x=x, y=y) #''#att[nid].get('pos', '')\n",
    "#     shape = att[nid].get('shape')\n",
    "#     fillcolor = colors[ntype]\n",
    "    pEG.node(str(nid), label=label) #, pos=pos)# put postions here!!!\n",
    "\n",
    "\n",
    "# for nid,d in EG0p4.nodes(data=True):\n",
    "#     label = d['label']\n",
    "#     ntype = att[nid].get('type')\n",
    "#     pos = att[nid].get('pos', '')\n",
    "#     shape = att[nid].get('shape')\n",
    "#     fillcolor = colors[ntype]\n",
    "#     pEG.node(str(nid), label=label, pos=pos, shape=shape, fillcolor=fillcolor,)\n",
    "\n",
    "max_penwidth = 4\n",
    "for uid,vid,d in EG0p4.edges(data=True):\n",
    "    uid = str(uid)\n",
    "    vid = str(vid)\n",
    "    weight = '%d' % (d['weight']*100)\n",
    "    penwidth = '%.2f' % ( d['weight']*max_penwidth )\n",
    "    if d['weight'] > 0.4:       \n",
    "        if uid == vid:\n",
    "            color = '#bdbdbd'\n",
    "            uid = uid + ':w'\n",
    "            vid = vid + ':c'\n",
    "        else:\n",
    "            color = '#636363'\n",
    "        pEG.edge(uid,vid, weight=weight, penwidth=penwidth, color=color)\n",
    "    else:\n",
    "        pEG.edge(uid,vid, style='dashed', color='#A90533')\n",
    "\n",
    "# NOTE: without per specifying node positions, because the thresholded effective graphs can disconnect the graph\n",
    "# expect a very different layout compared to the previous graph displays\n",
    "        \n",
    "display(pEG)\n",
    "# Export\n",
    "pEG.format ='svg'\n",
    "pEG.render(\"generic-EGt0p4\", cleanup=True)"
   ]
  },
  {
   "cell_type": "code",
   "execution_count": null,
   "metadata": {
    "scrolled": false
   },
   "outputs": [],
   "source": [
    "pEG = graphviz.Digraph(name='Structural Graph', engine='dot')\n",
    "pEG.attr('graph', size='8.5,9', concentrate='false', simplify='false', overlap='false',splines='true',ratio='compress',outputorder=\"edgesfirst\",nodesep='.25',ranksep='.25')\n",
    "pEG.attr('node', pin='true', shape='box', height='0.4', fixedsize='false',margin='.05', color='black', penwidth='1', fontname='Helvetica', fontcolor='black',fontsize='10' ) # style='filled', fillcolor='#515660',)\n",
    "pEG.attr('edge', arrowhead='normal', arrowsize='.5', color='black', penwidth='3')\n",
    "\n",
    "max_effoutdegree = max([v for n,v in EG.out_degree()])\n",
    "list_effconn = [d['effective_connectivity'] for n,d in EG.nodes(data=True)]\n",
    "min_effconn, max_effconn = min(list_effconn), max(list_effconn)\n",
    "#\n",
    "# ColorBar\n",
    "interval = np.linspace(0.0, 0.70, 256)\n",
    "cmap = LinearSegmentedColormap.from_list('custom', ['white','#d62728'])\n",
    "#norm = mpl.colors.Normalize(vmin=0, vmax=1)\n",
    "norm = mpl.colors.Normalize(vmin=1, vmax=max_effoutdegree)\n",
    "#\n",
    "colornodes = ['Apoptosis', 'Apoptosis_2', 'Apoptosis_3', 'Proliferation', 'Proliferation_2', 'Proliferation_3', 'Proliferation_4']\n",
    "#\n",
    "# Manually position nodes using the DotLayout\n",
    "dotpos = nx.drawing.nx_agraph.graphviz_layout(EG, prog='dot', args='-Gconcentrate=false -Gsimplify=false -Goverlap=false -Gsplines=True -Gratio=compress -Goutputorder=edgesfirst -Gnodesep=.25 -Granksep=.20')\n",
    "#\n",
    "for nid,d in EG.nodes(data=True):\n",
    "    label = d['label']\n",
    "#     ntype = att[nid].get('type')\n",
    "    x,y = dotpos[nid][0], dotpos[nid][1]\n",
    "#     pos = '{x:.2f},{y:.2f}'.format(x=x, y=y) #''#att[nid].get('pos', '')\n",
    "#     shape = att[nid].get('shape')\n",
    "#     fillcolor = colors[ntype]\n",
    "    pEG.node(str(nid), label=label)\n",
    "\n",
    "max_penwidth = 4\n",
    "for uid,vid,d in EG.edges(data=True):\n",
    "    uid = str(uid)\n",
    "    vid = str(vid)\n",
    "    weight = '%d' % (d['weight']*100)\n",
    "    penwidth = '%.2f' % ( d['weight']*max_penwidth )\n",
    "    if d['weight'] >= 0.2:\n",
    "        if uid == vid:\n",
    "            color = '#bdbdbd'\n",
    "            uid = uid + ':w'\n",
    "            vid = vid + ':c'\n",
    "        else:\n",
    "            color = '#636363'\n",
    "        pEG.edge(uid,vid, weight=weight, penwidth=penwidth, color=color)\n",
    "    else:\n",
    "        pass\n",
    "        #pEG.edge(uid,vid, style='dashed', color='#A90533')\n",
    " \n",
    "# Export\n",
    "display(pEG)\n",
    "pEG.format ='svg'\n",
    "pEG.render(\"generic-EGt0p2-dotlayout\", cleanup=True)"
   ]
  },
  {
   "cell_type": "code",
   "execution_count": null,
   "metadata": {},
   "outputs": [],
   "source": [
    "# Legend - only makes sense for breast cancer network\n",
    "# from matplotlib.patches import Patch\n",
    "\n",
    "# fig, ax = plt.subplots(nrows=1, ncols=1, figsize=(2,2))\n",
    "\n",
    "# labels = [\n",
    "#     'RTK signaling',\n",
    "#     'PI3K pathway',\n",
    "#     'MAPK pathway',\n",
    "#     'AKT pathway',\n",
    "#     'mTORC1 pathway',\n",
    "#     'ER signaling',\n",
    "#     'Apoptosis',\n",
    "#     'Proliferation',\n",
    "#     'Drugs']\n",
    "\n",
    "# handles = []\n",
    "# for label in labels:\n",
    "#     facecolor = colors[label]\n",
    "#     patch = Patch(facecolor=facecolor, edgecolor='black', label=label)\n",
    "#     handles.append(patch)\n",
    "\n",
    "# leg = ax.legend(handles=handles, labels=labels, loc='upper left', ncol=3)\n",
    "# plt.axis('off')\n",
    "\n",
    "# plt.show()"
   ]
  },
  {
   "cell_type": "markdown",
   "metadata": {
    "pycharm": {
     "name": "#%%\n"
    }
   },
   "source": [
    "## Dynamic Canalization analysis"
   ]
  },
  {
   "cell_type": "markdown",
   "metadata": {},
   "source": [
    "### Generic dynamics canalizaiton map (DCM) for network"
   ]
  },
  {
   "cell_type": "code",
   "execution_count": null,
   "metadata": {},
   "outputs": [],
   "source": [
    "# Request the DCM to the Network\n",
    "DCM = C.dynamics_canalization_map(simplify=True)"
   ]
  },
  {
   "cell_type": "code",
   "execution_count": null,
   "metadata": {},
   "outputs": [],
   "source": [
    "def draw_canalizing_map_graphviz_custom(DG=None,\n",
    "                                 on_node_fillcolor='black', on_node_fontcolor='white',\n",
    "                                 off_node_fillcolor='white', off_node_fontcolor='black',\n",
    "\n",
    "                                 input_node_bordercolor='gray',\n",
    "                                 output_node_bordercolor='red',\n",
    "                                 controlled_node_bordercolor='green',\n",
    "                                 constant_node_bordercolor='pink',\n",
    "\n",
    "                                 literal_edge_color='#208120', output_edge_color='#812020',\n",
    "                                 fusing_edge_color='#a5a5cc', fused_edge_color='#202081',\n",
    "                                 simplified_edge_color='#cca37a',\n",
    "\n",
    "                                 fusing_edge_arrowhead='none',\n",
    "                                 fused_edge_arrowhead='dot',\n",
    "                                 literal_edge_arrowhead='dot',\n",
    "                                 out_edge_arrowhead='normal',\n",
    "\n",
    "                                 simplified_edge_arrowhead='normal',\n",
    "                                 *args, **kwargs):\n",
    "    \"\"\" Draws the Canalizing Map (CM) using the GraphViz plotting engine.\n",
    "\n",
    "    Args:\n",
    "        DG (networkx.DiGraph) : The node Canalizing Map (CM).\n",
    "\n",
    "    Returns:\n",
    "        (graphviz) : The network in graphviz dot format.\n",
    "    \"\"\"\n",
    "    G = graphviz.Digraph(engine='dot')\n",
    "    G.attr('graph', size='9,9', concentrate='false', simplify='false', overlap='false',splines='true',ratio='compress',outputorder=\"edgesfirst\",nodesep='.25',ranksep='.25')\n",
    "#     G.graph_attr.update(overlap='false')\n",
    "    G.node_attr.update(fontname='helvetica', shape='box', fontcolor='black', fontsize='12', width='.4', fixedsize='false', style='filled', color='gray', penwidth='3')\n",
    "    G.edge_attr.update(arrowhead='dot', color='gray', arrowsize='1')\n",
    "\n",
    "    # Nodes\n",
    "    for n, d in DG.nodes(data=True):\n",
    "        if 'type' not in d:\n",
    "            raise AttributeError(\"Node type could not be found. Must be either 'variable', 'threshold' or 'fusion'.\")\n",
    "\n",
    "        # Variable Nodes\n",
    "        if d['type'] == 'variable':\n",
    "\n",
    "            if 'mode' in d:\n",
    "                # Border Color. Dependents if 'input', 'output', 'controlled' or 'constant'\n",
    "                if d['mode'] == 'input':\n",
    "                    mode_bordercolor = input_node_bordercolor\n",
    "                elif d['mode'] == 'output':\n",
    "                    mode_bordercolor = output_node_bordercolor\n",
    "                elif d['mode'] == 'constant':\n",
    "                    mode_bordercolor = constant_node_bordercolor\n",
    "                elif d['mode'] == 'controled':\n",
    "                    mode_bordercolor = controlled_node_bordercolor\n",
    "            else:\n",
    "                mode_bordercolor = output_node_bordercolor\n",
    "\n",
    "            if d['value'] == 0:\n",
    "                label = d.get('label', d.get('label-tmp', 'None'))\n",
    "                G.node(name=n, label=label, fontcolor=off_node_fontcolor, fillcolor=off_node_fillcolor, color=mode_bordercolor)\n",
    "            elif d['value'] == 1:\n",
    "                label = d.get('label', d.get('label-tmp', 'None'))\n",
    "                G.node(name=n, label=label, fontcolor=on_node_fontcolor, fillcolor=on_node_fillcolor, color=mode_bordercolor)\n",
    "\n",
    "        # Threshold Nodes\n",
    "        elif d['type'] == 'threshold':\n",
    "            G.node(name=n, label=d['label'], shape='diamond', style='filled,solid', fillcolor='#dae8f4', fontcolor='black', color='#b5d1e9', width='.4', height='.4')\n",
    "\n",
    "        elif d['type'] == 'fusion':\n",
    "            G.node(name=n, label='', shape='none', width='0', height='0', margin='0')\n",
    "\n",
    "    # Edges\n",
    "    for s, t, d in DG.edges(data=True):\n",
    "        color = literal_edge_color\n",
    "        arrowhead = out_edge_arrowhead\n",
    "\n",
    "        if 'type' in d:\n",
    "            if d['type'] == 'out':\n",
    "                arrowhead = out_edge_arrowhead\n",
    "                color = output_edge_color\n",
    "\n",
    "            elif d['type'] == 'literal':\n",
    "                arrowhead = literal_edge_arrowhead\n",
    "                color = literal_edge_color\n",
    "\n",
    "            elif d['type'] == 'fusing':\n",
    "                arrowhead = fusing_edge_arrowhead\n",
    "                color = fusing_edge_color\n",
    "\n",
    "            elif d['type'] == 'fused':\n",
    "                arrowhead = fused_edge_arrowhead\n",
    "                color = fused_edge_color\n",
    "\n",
    "            elif d['type'] == 'simplified':\n",
    "                if d['mode'] == 'selfloop':\n",
    "                    arrowhead = simplified_edge_arrowhead\n",
    "                    color = simplified_edge_color\n",
    "                elif d['mode'] == 'direct':\n",
    "                    arrowhead = simplified_edge_arrowhead\n",
    "                    color = simplified_edge_color\n",
    "\n",
    "            else:\n",
    "                raise AttributeError(\"Node type could not be found. Must be either 'out', 'literal', 'fusing', 'fused' or 'simplified'.  Got {:s}.\".format(d['type']))\n",
    "        G.edge(s, t, arrowhead=arrowhead, color=color)\n",
    "\n",
    "    return G"
   ]
  },
  {
   "cell_type": "code",
   "execution_count": null,
   "metadata": {},
   "outputs": [],
   "source": [
    "\n",
    "#for n,d in DCM.nodes(True):\n",
    "    #print(n,d)\n",
    "# Draws using the graphviz interface.\n",
    "gDCM = draw_canalizing_map_graphviz_custom(DCM)\n",
    "# Display\n",
    "# display(gDCM)\n",
    "gDCM.format ='svg'\n",
    "gDCM.render(\"generic-dynamics_canalizing_map_test_dot_2\", cleanup=True)"
   ]
  },
  {
   "cell_type": "markdown",
   "metadata": {},
   "source": [
    "## Explore canalization for node of interest"
   ]
  },
  {
   "cell_type": "markdown",
   "metadata": {},
   "source": [
    "## Intended for exploring a node of interest. Not ready yet!!!!!"
   ]
  },
  {
   "cell_type": "code",
   "execution_count": null,
   "metadata": {},
   "outputs": [],
   "source": [
    "# Input node of interset ... might want the long label - can you do that?\n",
    "\n",
    "ID_of_node_of_interest = 6\n",
    "\n",
    "node = C.nodes[ID_of_node_of_interest]\n",
    "\n",
    "# Make node level effective graph\n",
    "\n",
    "hub_ego = nx.ego_graph(C, node)\n",
    "\n",
    "# Draw graph\n",
    "pos = nx.spring_layout(hub_ego)\n",
    "nx.draw(hub_ego, pos, node_color=\"b\", node_size=50, with_labels=False)\n",
    "\n",
    "\n",
    "# EG0 = C.effective_graph(threshold=0) -- I should be able to calculate the effective connectivity of each edge?\n",
    "# Actually - I want to extract it from the EG for each node and then plot it node by node - so I have all\n",
    "# the right information - I just need to get it and then plot it ...\n",
    "\n",
    "# Make canalizing map for node of node of interest then render it using graphviz interface. note that the node doesn't know the name of its inputs\n",
    "\n",
    "CM = node.canalizing_map()\n",
    "\n",
    "gCM = draw_canalizing_map_graphviz(CM)\n",
    "# Display\n",
    "display(gCM)\n",
    "\n",
    "\n",
    "\n",
    "#Calculate and plot schemata\n",
    "# Compute Prime Implicants & Two-Symbol schematas\n",
    "node._check_compute_canalization_variables(prime_implicants=True)\n",
    "node._check_compute_canalization_variables(two_symbols=True)\n",
    "# Plot\n",
    "plot_schemata(node)\n",
    "visualize_schemata.plot_schemata(node)"
   ]
  },
  {
   "cell_type": "code",
   "execution_count": null,
   "metadata": {},
   "outputs": [],
   "source": [
    "def effective_graph_for_node(node, bound='mean', threshold=None):\n",
    "    \"\"\"Computes and returns the effective graph of the network.\n",
    "    In practive it asks each :class:`~cana.boolean_node.BooleanNode` for their :func:`~cana.boolean_node.BooleanNode.edge_effectiveness`.\n",
    "\n",
    "    Args:\n",
    "        bound (string) : The bound to which compute input redundancy.\n",
    "            Can be one of : [\"lower\", \"mean\", \"upper\", \"tuple\"].\n",
    "            Defaults to \"mean\".\n",
    "        threshold (float) : Only return edges above a certain effective connectivity threshold.\n",
    "            This is usefull when computing graph measures at diffent levels.\n",
    "\n",
    "    Returns:\n",
    "        (networkx.DiGraph) : directed graph\n",
    "\n",
    "    See Also:\n",
    "        :func:`~cana.boolean_node.BooleanNode.edge_effectiveness`\n",
    "    \"\"\"\n",
    "    if threshold is not None:\n",
    "        self._eg = nx.DiGraph(name=\"Effective Graph: \" + self.name + \"(Threshold: {threshold:.2f})\".format(threshold=threshold))\n",
    "    else:\n",
    "        self._eg = nx.DiGraph(name=\"Effective Graph: \" + self.name + \"(Threshold: None)\")\n",
    "\n",
    "    # Add Nodes\n",
    "    for i, node in enumerate(self.nodes, start=0):\n",
    "        self._eg.add_node(i, **{'label': node.name})\n",
    "\n",
    "    # Add Edges\n",
    "    for i, node in enumerate(self.nodes, start=0):\n",
    "        e_is = node.edge_effectiveness(bound=bound)\n",
    "        for inputs, e_i in zip(self.logic[i]['in'], e_is):\n",
    "            # If there is a threshold, only return those number above the threshold. Else, return all edges.\n",
    "            if (threshold is None) or ((threshold is not None) and (e_i > threshold)):\n",
    "                self._eg.add_edge(inputs, i, **{'weight': e_i})\n",
    "\n",
    "    return self._eg\n",
    "\n"
   ]
  },
  {
   "cell_type": "code",
   "execution_count": 10,
   "metadata": {
    "pycharm": {
     "name": "#%%\n"
    }
   },
   "outputs": [
    {
     "data": {
      "text/plain": "<graphviz.dot.Digraph at 0x7f812881ad30>",
      "image/svg+xml": "<?xml version=\"1.0\" encoding=\"UTF-8\" standalone=\"no\"?>\n<!DOCTYPE svg PUBLIC \"-//W3C//DTD SVG 1.1//EN\"\n \"http://www.w3.org/Graphics/SVG/1.1/DTD/svg11.dtd\">\n<!-- Generated by graphviz version 2.40.1 (20161225.0304)\n -->\n<!-- Title: Structural Graph Pages: 1 -->\n<svg width=\"205pt\" height=\"79pt\"\n viewBox=\"0.00 0.00 204.73 78.75\" xmlns=\"http://www.w3.org/2000/svg\" xmlns:xlink=\"http://www.w3.org/1999/xlink\">\n<g id=\"graph0\" class=\"graph\" transform=\"scale(1 1) rotate(0) translate(4 74.7468)\">\n<title>Structural Graph</title>\n<polygon fill=\"#ffffff\" stroke=\"transparent\" points=\"-4,4 -4,-74.7468 200.7332,-74.7468 200.7332,4 -4,4\"/>\n<!-- 6&#45;&gt;3 -->\n<g id=\"edge1\" class=\"edge\">\n<title>6&#45;&gt;3</title>\n<path fill=\"none\" stroke=\"#636363\" stroke-width=\"2.5\" d=\"M71.529,-26.652C67.3413,-28.5321 62.9839,-30.4883 58.7056,-32.4091\"/>\n<polygon fill=\"#636363\" stroke=\"#636363\" stroke-width=\"2.5\" points=\"57.9505,-30.8298 54.1059,-34.4741 59.384,-34.0227 57.9505,-30.8298\"/>\n</g>\n<!-- 6&#45;&gt;5 -->\n<g id=\"edge2\" class=\"edge\">\n<title>6&#45;&gt;5</title>\n<path fill=\"none\" stroke=\"#636363\" stroke-width=\"2.5\" d=\"M123.4767,-29.101C128.8605,-32.2606 134.6046,-35.6315 140.1489,-38.8852\"/>\n<polygon fill=\"#636363\" stroke=\"#636363\" stroke-width=\"2.5\" points=\"139.5488,-40.5621 144.7469,-41.5835 141.3203,-37.5435 139.5488,-40.5621\"/>\n</g>\n<!-- 3 -->\n<g id=\"node1\" class=\"node\">\n<title>3</title>\n<polygon fill=\"none\" stroke=\"#000000\" points=\"54,-61.1434 0,-61.1434 0,-32.1434 54,-32.1434 54,-61.1434\"/>\n<text text-anchor=\"middle\" x=\"27\" y=\"-44.1434\" font-family=\"Helvetica,sans-Serif\" font-size=\"10.00\" fill=\"#000000\">FYN</text>\n</g>\n<!-- 5 -->\n<g id=\"node2\" class=\"node\">\n<title>5</title>\n<polygon fill=\"none\" stroke=\"#000000\" points=\"196.7332,-70.7468 142.7332,-70.7468 142.7332,-41.7468 196.7332,-41.7468 196.7332,-70.7468\"/>\n<text text-anchor=\"middle\" x=\"169.7332\" y=\"-53.7468\" font-family=\"Helvetica,sans-Serif\" font-size=\"10.00\" fill=\"#000000\">LCK</text>\n</g>\n<!-- 6 -->\n<g id=\"node3\" class=\"node\">\n<title>6</title>\n<polygon fill=\"none\" stroke=\"#000000\" points=\"125.5965,-29 71.5965,-29 71.5965,0 125.5965,0 125.5965,-29\"/>\n<text text-anchor=\"middle\" x=\"98.5965\" y=\"-12\" font-family=\"Helvetica,sans-Serif\" font-size=\"10.00\" fill=\"#000000\">ZAP70</text>\n</g>\n</g>\n</svg>\n"
     },
     "metadata": {},
     "output_type": "display_data"
    },
    {
     "data": {
      "text/plain": "'single_node_structural_graph.gv.svg'"
     },
     "execution_count": 10,
     "metadata": {},
     "output_type": "execute_result"
    }
   ],
   "source": [
    "# Input node of interset ... might want the long label - can you do that?\n",
    "\n",
    "ID_of_node_of_interest = 6\n",
    "\n",
    "node = C.nodes[ID_of_node_of_interest]\n",
    "\n",
    "# Make node level effective graph\n",
    "\n",
    "EG_reversed = EG0p6.reverse()\n",
    "\n",
    "ego_centric_graph = nx.ego_graph(EG_reversed, 6)\n",
    "\n",
    "# ego_centric_graph.reverse()\n",
    "\n",
    "# Draw graph - could try the networkx drawing - but it isn't working for some reason ...\n",
    "# pos = nx.spring_layout(ego_centric_graph)\n",
    "\n",
    "pSG = graphviz.Digraph(name='Structural Graph', engine='neato')\n",
    "pSG.attr('graph', size='10,10', concentrate='false', simplify='false', overlap='false',splines='true',ratio='.7',outputorder=\"edgesfirst\",nodesep='.25',mindist='.20')\n",
    "pSG.attr('node', pin='true', shape='box', height='0.4', fixedsize='false',margin='.05', color='black', penwidth='1', fontname='Helvetica', fontcolor='black',fontsize='10' ) # style='filled', fillcolor='#515660',)\n",
    "pSG.attr('edge', arrowhead='normal', arrowsize='.5', penwidth='2.5')\n",
    "\n",
    "# for nid,SGatt in SG.nodes(data=True):\n",
    "#     label = SGatt['label']\n",
    "#     if nid in att:\n",
    "#         pos = att[nid].get('pos', '')\n",
    "#         shape = att[nid].get('shape', 'box')\n",
    "#         fillcolor = colors[att[nid].get('type')]\n",
    "#         #width = ''att[nid].get('width', '0.7')\n",
    "#         pSG.node(str(nid), label=label, pos=pos, shape=shape, fillcolor=fillcolor, )\n",
    "\n",
    "for nid,d in ego_centric_graph.nodes(data=True):\n",
    "    label = d['label']\n",
    "#     ntype = att[nid].get('type')\n",
    "#     pos = att[nid].get('pos', '')\n",
    "#     shape = att[nid].get('shape')\n",
    "#     fillcolor = colors[ntype]\n",
    "    pSG.node(str(nid), label=label, ) #pos=pos, shape=shape, fillcolor=fillcolor,)\n",
    "\n",
    "max_penwidth = 4\n",
    "for uid,vid,d in ego_centric_graph.edges(data=True):\n",
    "    uid = str(uid)\n",
    "    vid = str(vid)\n",
    "    weight = '%d' % (d['weight']*100)\n",
    "    penwidth = '%.2f' % ( d['weight']*max_penwidth )\n",
    "    if d['weight'] > 0.6:\n",
    "        if uid == vid:\n",
    "            color = '#bdbdbd'\n",
    "            uid = uid + ':w'\n",
    "            vid = vid + ':c'\n",
    "        else:\n",
    "            color = '#636363'\n",
    "        pSG.edge(uid,vid, weight=weight, penwidth=penwidth, color=color)\n",
    "    else:\n",
    "        pSG.edge(uid,vid, style='dashed', color='#A90533')\n",
    "\n",
    "display(pSG)\n",
    "pSG.format ='svg'\n",
    "# Export\n",
    "pSG.render(\"single_node_structural_graph\", cleanup=True)\n",
    "pSG.render('single_node_structural_graph.gv')\n",
    "\n",
    "# nx.draw(hub_ego, pos, node_color=\"b\", node_size=50, with_labels=False)\n",
    "\n",
    "# SG = C.structural_graph()\n",
    "# EG = C.effective_graph(threshold=-1) # now ... what is the difference .... I have my intuition but could be very wrong. And what does -1 mean???\n",
    "# #\n",
    "# EG0 = C.effective_graph(threshold=0)\n",
    "# EG0p2 = C.effective_graph(threshold=.2)\n",
    "# EG0p4 = C.effective_graph(threshold=.4)\n",
    "# EG0p6 = C.effective_graph(threshold=.6)\n",
    "# EG0p8 = C.effective_graph(threshold=.8)"
   ]
  },
  {
   "cell_type": "code",
   "execution_count": null,
   "metadata": {
    "pycharm": {
     "name": "#%%\n"
    }
   },
   "outputs": [],
   "source": [
    "\n"
   ]
  }
 ],
 "metadata": {
  "kernelspec": {
   "display_name": "Python 3",
   "language": "python",
   "name": "python3"
  },
  "language_info": {
   "codemirror_mode": {
    "name": "ipython",
    "version": 3
   },
   "file_extension": ".py",
   "mimetype": "text/x-python",
   "name": "python",
   "nbconvert_exporter": "python",
   "pygments_lexer": "ipython3",
   "version": "3.6.10"
  }
 },
 "nbformat": 4,
 "nbformat_minor": 2
}