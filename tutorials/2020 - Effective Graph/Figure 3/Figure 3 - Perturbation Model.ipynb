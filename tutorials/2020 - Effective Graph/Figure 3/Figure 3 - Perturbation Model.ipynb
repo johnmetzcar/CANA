{
 "cells": [
  {
   "cell_type": "markdown",
   "metadata": {},
   "source": [
    "# Effective Graph Paper\n",
    "Code to generate \"Figure 4 - Perturbation Models\""
   ]
  },
  {
   "cell_type": "code",
   "execution_count": 1,
   "metadata": {},
   "outputs": [],
   "source": [
    "%load_ext autoreload\n",
    "%autoreload 2\n",
    "%matplotlib inline"
   ]
  },
  {
   "cell_type": "code",
   "execution_count": 2,
   "metadata": {},
   "outputs": [],
   "source": [
    "import numpy as np\n",
    "import pandas as pd\n",
    "from collections import defaultdict\n",
    "import graphviz\n",
    "import math\n",
    "import matplotlib as mpl\n",
    "mpl.rcParams['mathtext.fontset'] = 'cm'\n",
    "mpl.rcParams['mathtext.rm'] = 'serif'\n",
    "import matplotlib.pyplot as plt\n",
    "from matplotlib.colors import LinearSegmentedColormap\n",
    "from IPython.display import display, SVG\n",
    "import cana\n",
    "from cana.datasets.bio import THALIANA\n",
    "import networkx as nx"
   ]
  },
  {
   "cell_type": "code",
   "execution_count": 3,
   "metadata": {},
   "outputs": [],
   "source": [
    "def normalize(x, ab, db):\n",
    "    return db[0] + (x - ab[0]) * (db[1] - db[0]) / (ab[1] - ab[0])"
   ]
  },
  {
   "cell_type": "code",
   "execution_count": 4,
   "metadata": {},
   "outputs": [],
   "source": [
    "# Graph Example\n",
    "logic = {\n",
    "    0 : {'name': 'x1', 'in': [], 'out': [1]},\n",
    "    1 : {'name': 'xa', 'in': [0],'out': [0,0]},\n",
    "    2 : {'name': 'xb', 'in': [0,1], 'out': [0,1,0,1]},\n",
    "    3 : {'name': 'xc', 'in': [2], 'out': [0,0]},\n",
    "    4 : {'name': 'x2', 'in': [1,2,3], 'out': [0,0,1,1,0,0,0,1]},\n",
    "}\n",
    "N = cana.boolean_network.BooleanNetwork(name='A', Nnodes=len(logic), logic=logic)\n",
    "\n",
    "att = defaultdict(dict)\n",
    "att['x1']['pos'] = '0.75,2.0'\n",
    "att['xa']['pos'] = '0.0,1.3'\n",
    "att['xb']['pos'] = '1.5,1.3'\n",
    "att['xc']['pos'] = '1.5,0.3'\n",
    "att['x2']['pos'] = '0.0,0.3'\n",
    "\n",
    "SG = N.structural_graph()\n",
    "EG = N.effective_graph(mode='input', bound='mean', threshold=-1)"
   ]
  },
  {
   "cell_type": "markdown",
   "metadata": {},
   "source": [
    "## Interaction Graph"
   ]
  },
  {
   "cell_type": "code",
   "execution_count": 5,
   "metadata": {
    "scrolled": false
   },
   "outputs": [
    {
     "data": {
      "image/svg+xml": [
       "<svg height=\"173pt\" viewBox=\"0.00 0.00 159.00 173.40\" width=\"159pt\" xmlns=\"http://www.w3.org/2000/svg\" xmlns:xlink=\"http://www.w3.org/1999/xlink\">\n",
       "<g class=\"graph\" id=\"graph0\" transform=\"scale(1 1) rotate(0) translate(4 169.4)\">\n",
       "<title>Interaction Graph</title>\n",
       "<polygon fill=\"#ffffff\" points=\"-4,4 -4,-169.4 155,-169.4 155,4 -4,4\" stroke=\"transparent\"/>\n",
       "<!-- 0 -->\n",
       "<g class=\"node\" id=\"node1\">\n",
       "<title>0</title>\n",
       "<ellipse cx=\"75.5\" cy=\"-143.9\" fill=\"#ffffff\" rx=\"21.5\" ry=\"21.5\" stroke=\"#aec7e8\" stroke-width=\"4\"/>\n",
       "<text fill=\"#000000\" font-family=\"Helvetica,sans-Serif\" font-size=\"12.00\" text-anchor=\"middle\" x=\"75.5\" y=\"-140.3\">x1</text>\n",
       "</g>\n",
       "<!-- 1 -->\n",
       "<g class=\"node\" id=\"node2\">\n",
       "<title>1</title>\n",
       "<ellipse cx=\"21.5\" cy=\"-93.5\" fill=\"#ffffff\" rx=\"21.5\" ry=\"21.5\" stroke=\"#aec7e8\" stroke-width=\"4\"/>\n",
       "<text fill=\"#000000\" font-family=\"Helvetica,sans-Serif\" font-size=\"12.00\" text-anchor=\"middle\" x=\"21.5\" y=\"-89.9\">xa</text>\n",
       "</g>\n",
       "<!-- 0&#45;&gt;1 -->\n",
       "<g class=\"edge\" id=\"edge1\">\n",
       "<title>0-&gt;1</title>\n",
       "<path d=\"M59.5903,-129.0509C53.8193,-123.6646 47.2301,-117.5147 41.1731,-111.8615\" fill=\"none\" stroke=\"#000000\" stroke-width=\"4\"/>\n",
       "<polygon fill=\"#000000\" points=\"42.332,-110.5494 37.4826,-108.4171 39.9438,-113.1081 42.332,-110.5494\" stroke=\"#000000\" stroke-width=\"4\"/>\n",
       "<text fill=\"#000000\" font-family=\"Times,serif\" font-size=\"14.00\" text-anchor=\"middle\" x=\"41.6317\" y=\"-124.6562\">1.0</text>\n",
       "</g>\n",
       "<!-- 2 -->\n",
       "<g class=\"node\" id=\"node3\">\n",
       "<title>2</title>\n",
       "<ellipse cx=\"129.5\" cy=\"-93.5\" fill=\"#ffffff\" rx=\"21.5\" ry=\"21.5\" stroke=\"#aec7e8\" stroke-width=\"4\"/>\n",
       "<text fill=\"#000000\" font-family=\"Helvetica,sans-Serif\" font-size=\"12.00\" text-anchor=\"middle\" x=\"129.5\" y=\"-89.9\">xb</text>\n",
       "</g>\n",
       "<!-- 0&#45;&gt;2 -->\n",
       "<g class=\"edge\" id=\"edge2\">\n",
       "<title>0-&gt;2</title>\n",
       "<path d=\"M91.4097,-129.0509C97.1807,-123.6646 103.7699,-117.5147 109.8269,-111.8615\" fill=\"none\" stroke=\"#000000\" stroke-width=\"4\"/>\n",
       "<polygon fill=\"#000000\" points=\"111.0562,-113.1081 113.5174,-108.4171 108.668,-110.5494 111.0562,-113.1081\" stroke=\"#000000\" stroke-width=\"4\"/>\n",
       "<text fill=\"#000000\" font-family=\"Times,serif\" font-size=\"14.00\" text-anchor=\"middle\" x=\"91.8683\" y=\"-107.8562\">1.0</text>\n",
       "</g>\n",
       "<!-- 1&#45;&gt;2 -->\n",
       "<g class=\"edge\" id=\"edge3\">\n",
       "<title>1-&gt;2</title>\n",
       "<path d=\"M43.0958,-93.5C60.3135,-93.5 84.5056,-93.5 102.9136,-93.5\" fill=\"none\" stroke=\"#000000\" stroke-width=\"4\"/>\n",
       "<polygon fill=\"#000000\" points=\"102.9416,-95.2501 107.9416,-93.5 102.9416,-91.7501 102.9416,-95.2501\" stroke=\"#000000\" stroke-width=\"4\"/>\n",
       "<text fill=\"#000000\" font-family=\"Times,serif\" font-size=\"14.00\" text-anchor=\"middle\" x=\"64.2547\" y=\"-97.7\">1.0</text>\n",
       "</g>\n",
       "<!-- 4 -->\n",
       "<g class=\"node\" id=\"node5\">\n",
       "<title>4</title>\n",
       "<ellipse cx=\"21.5\" cy=\"-21.5\" fill=\"#ffffff\" rx=\"21.5\" ry=\"21.5\" stroke=\"#aec7e8\" stroke-width=\"4\"/>\n",
       "<text fill=\"#000000\" font-family=\"Helvetica,sans-Serif\" font-size=\"12.00\" text-anchor=\"middle\" x=\"21.5\" y=\"-17.9\">x2</text>\n",
       "</g>\n",
       "<!-- 1&#45;&gt;4 -->\n",
       "<g class=\"edge\" id=\"edge4\">\n",
       "<title>1-&gt;4</title>\n",
       "<path d=\"M21.5,-71.8976C21.5,-64.4934 21.5,-56.1164 21.5,-48.3483\" fill=\"none\" stroke=\"#000000\" stroke-width=\"4\"/>\n",
       "<polygon fill=\"#000000\" points=\"23.2501,-48.0871 21.5,-43.0871 19.7501,-48.0872 23.2501,-48.0871\" stroke=\"#000000\" stroke-width=\"4\"/>\n",
       "<text fill=\"#000000\" font-family=\"Times,serif\" font-size=\"14.00\" text-anchor=\"middle\" x=\"12.75\" y=\"-47.523\">1.0</text>\n",
       "</g>\n",
       "<!-- 3 -->\n",
       "<g class=\"node\" id=\"node4\">\n",
       "<title>3</title>\n",
       "<ellipse cx=\"129.5\" cy=\"-21.5\" fill=\"#ffffff\" rx=\"21.5\" ry=\"21.5\" stroke=\"#aec7e8\" stroke-width=\"4\"/>\n",
       "<text fill=\"#000000\" font-family=\"Helvetica,sans-Serif\" font-size=\"12.00\" text-anchor=\"middle\" x=\"129.5\" y=\"-17.9\">xc</text>\n",
       "</g>\n",
       "<!-- 2&#45;&gt;3 -->\n",
       "<g class=\"edge\" id=\"edge5\">\n",
       "<title>2-&gt;3</title>\n",
       "<path d=\"M129.5,-71.8976C129.5,-64.4934 129.5,-56.1164 129.5,-48.3483\" fill=\"none\" stroke=\"#000000\" stroke-width=\"4\"/>\n",
       "<polygon fill=\"#000000\" points=\"131.2501,-48.0871 129.5,-43.0871 127.7501,-48.0872 131.2501,-48.0871\" stroke=\"#000000\" stroke-width=\"4\"/>\n",
       "<text fill=\"#000000\" font-family=\"Times,serif\" font-size=\"14.00\" text-anchor=\"middle\" x=\"120.75\" y=\"-47.523\">1.0</text>\n",
       "</g>\n",
       "<!-- 2&#45;&gt;4 -->\n",
       "<g class=\"edge\" id=\"edge6\">\n",
       "<title>2-&gt;4</title>\n",
       "<path d=\"M111.1793,-81.2862C92.6039,-68.9026 63.8333,-49.7222 43.9104,-36.4403\" fill=\"none\" stroke=\"#000000\" stroke-width=\"4\"/>\n",
       "<polygon fill=\"#000000\" points=\"44.6812,-34.8509 39.5502,-33.5334 42.7397,-37.7631 44.6812,-34.8509\" stroke=\"#000000\" stroke-width=\"4\"/>\n",
       "<text fill=\"#000000\" font-family=\"Times,serif\" font-size=\"14.00\" text-anchor=\"middle\" x=\"68.7948\" y=\"-63.0632\">1.0</text>\n",
       "</g>\n",
       "<!-- 3&#45;&gt;4 -->\n",
       "<g class=\"edge\" id=\"edge7\">\n",
       "<title>3-&gt;4</title>\n",
       "<path d=\"M107.9042,-21.5C90.6865,-21.5 66.4944,-21.5 48.0864,-21.5\" fill=\"none\" stroke=\"#000000\" stroke-width=\"4\"/>\n",
       "<polygon fill=\"#000000\" points=\"48.0584,-19.7501 43.0584,-21.5 48.0584,-23.2501 48.0584,-19.7501\" stroke=\"#000000\" stroke-width=\"4\"/>\n",
       "<text fill=\"#000000\" font-family=\"Times,serif\" font-size=\"14.00\" text-anchor=\"middle\" x=\"69.2453\" y=\"-25.7\">1.0</text>\n",
       "</g>\n",
       "</g>\n",
       "</svg>"
      ],
      "text/plain": [
       "<IPython.core.display.SVG object>"
      ]
     },
     "metadata": {
      "isolated": true
     },
     "output_type": "display_data"
    },
    {
     "data": {
      "text/plain": [
       "'SG.svg'"
      ]
     },
     "execution_count": 5,
     "metadata": {},
     "output_type": "execute_result"
    }
   ],
   "source": [
    "pSG = graphviz.Digraph(name='Interaction Graph', engine='neato')\n",
    "pSG.attr('graph', size='3,3', concentrate='false', simplify='false', overlap='true',splines='false',ratio='auto')\n",
    "pSG.attr('node', pin='true', shape='circle', fixedsize='true', width='.60', color='#aec7e8', style='filled', fillcolor='#1f77b4', penwidth='4', fontname='Helvetica', fontcolor='black',fontsize='12')\n",
    "pSG.attr('edge', arrowhead='normal', arrowsize='.5', color='black', penwidth='4')\n",
    "\n",
    "for nid, d in SG.nodes(data=True):\n",
    "    nid = str(nid)\n",
    "    label = str(d['label'])\n",
    "    pos = att[d['label']]['pos']\n",
    "    fillcolor = 'white'\n",
    "    pSG.node(nid, label=label, pos=pos, fillcolor=fillcolor)\n",
    "\n",
    "for uid,vid,d in SG.edges(data=True):\n",
    "    uid = str(uid)\n",
    "    vid = str(vid)\n",
    "    label = str(d['weight'])\n",
    "    pSG.edge(uid, vid, label=label)\n",
    "    \n",
    "display(SVG(pSG.pipe(format='svg')),metadata={'isolated':True})\n",
    "# Export\n",
    "pSG._format = 'svg'\n",
    "pSG.render('SG', cleanup=True)"
   ]
  },
  {
   "cell_type": "code",
   "execution_count": 9,
   "metadata": {},
   "outputs": [
    {
     "data": {
      "image/svg+xml": [
       "<svg height=\"170pt\" viewBox=\"0.00 0.00 160.50 170.40\" width=\"161pt\" xmlns=\"http://www.w3.org/2000/svg\" xmlns:xlink=\"http://www.w3.org/1999/xlink\">\n",
       "<g class=\"graph\" id=\"graph0\" transform=\"scale(1 1) rotate(0) translate(4 166.4)\">\n",
       "<title>Effective Graph</title>\n",
       "<polygon fill=\"#ffffff\" points=\"-4,4 -4,-166.4 156.5,-166.4 156.5,4 -4,4\" stroke=\"transparent\"/>\n",
       "<!-- 0 -->\n",
       "<g class=\"node\" id=\"node1\">\n",
       "<title>0</title>\n",
       "<ellipse cx=\"78.5\" cy=\"-142.4\" fill=\"#ffffff\" rx=\"20\" ry=\"20\" stroke=\"#ff9896\" stroke-width=\"4\"/>\n",
       "<text fill=\"#000000\" font-family=\"Helvetica,sans-Serif\" font-size=\"12.00\" text-anchor=\"middle\" x=\"78.5\" y=\"-138.8\">x1</text>\n",
       "</g>\n",
       "<!-- 1 -->\n",
       "<g class=\"node\" id=\"node2\">\n",
       "<title>1</title>\n",
       "<ellipse cx=\"24.5\" cy=\"-92\" fill=\"#ffffff\" rx=\"20\" ry=\"20\" stroke=\"#ff9896\" stroke-width=\"4\"/>\n",
       "<text fill=\"#000000\" font-family=\"Helvetica,sans-Serif\" font-size=\"12.00\" text-anchor=\"middle\" x=\"24.5\" y=\"-88.4\">xa</text>\n",
       "</g>\n",
       "<!-- 0&#45;&gt;1 -->\n",
       "<g class=\"edge\" id=\"edge1\">\n",
       "<title>0-&gt;1</title>\n",
       "<path d=\"M63.7443,-128.628C57.3153,-122.6276 49.7114,-115.5306 42.9168,-109.189\" fill=\"none\" stroke=\"#000000\" stroke-width=\"4\"/>\n",
       "<polygon fill=\"#000000\" points=\"44.0873,-107.8876 39.2379,-105.7554 41.6991,-110.4463 44.0873,-107.8876\" stroke=\"#000000\" stroke-width=\"4\"/>\n",
       "<text fill=\"#000000\" font-family=\"Times,serif\" font-size=\"14.00\" text-anchor=\"middle\" x=\"41.0805\" y=\"-123.1085\">1.00</text>\n",
       "</g>\n",
       "<!-- 2 -->\n",
       "<g class=\"node\" id=\"node3\">\n",
       "<title>2</title>\n",
       "<ellipse cx=\"132.5\" cy=\"-92\" fill=\"#ffffff\" rx=\"20\" ry=\"20\" stroke=\"#ff9896\" stroke-width=\"4\"/>\n",
       "<text fill=\"#000000\" font-family=\"Helvetica,sans-Serif\" font-size=\"12.00\" text-anchor=\"middle\" x=\"132.5\" y=\"-88.4\">xb</text>\n",
       "</g>\n",
       "<!-- 0&#45;&gt;2 -->\n",
       "<g class=\"edge\" id=\"edge2\">\n",
       "<title>0-&gt;2</title>\n",
       "<path d=\"M93.2557,-128.628C99.6847,-122.6276 107.2886,-115.5306 114.0832,-109.189\" fill=\"none\" stroke=\"#a90533\" stroke-dasharray=\"5,2\" stroke-width=\"4\"/>\n",
       "<polygon fill=\"#a90533\" points=\"115.3009,-110.4463 117.7621,-105.7554 112.9127,-107.8876 115.3009,-110.4463\" stroke=\"#a90533\" stroke-width=\"4\"/>\n",
       "<text fill=\"#000000\" font-family=\"Times,serif\" font-size=\"14.00\" text-anchor=\"middle\" x=\"91.4195\" y=\"-106.3085\">0.00</text>\n",
       "</g>\n",
       "<!-- 1&#45;&gt;2 -->\n",
       "<g class=\"edge\" id=\"edge3\">\n",
       "<title>1-&gt;2</title>\n",
       "<path d=\"M44.5609,-92C62.1808,-92 87.908,-92 106.9873,-92\" fill=\"none\" stroke=\"#000000\" stroke-width=\"4\"/>\n",
       "<polygon fill=\"#000000\" points=\"107.1801,-93.7501 112.1801,-92 107.18,-90.2501 107.1801,-93.7501\" stroke=\"#000000\" stroke-width=\"4\"/>\n",
       "<text fill=\"#000000\" font-family=\"Times,serif\" font-size=\"14.00\" text-anchor=\"middle\" x=\"63.5241\" y=\"-96.2\">1.00</text>\n",
       "</g>\n",
       "<!-- 4 -->\n",
       "<g class=\"node\" id=\"node5\">\n",
       "<title>4</title>\n",
       "<ellipse cx=\"24.5\" cy=\"-20\" fill=\"#ffffff\" rx=\"20\" ry=\"20\" stroke=\"#ff9896\" stroke-width=\"4\"/>\n",
       "<text fill=\"#000000\" font-family=\"Helvetica,sans-Serif\" font-size=\"12.00\" text-anchor=\"middle\" x=\"24.5\" y=\"-16.4\">x2</text>\n",
       "</g>\n",
       "<!-- 1&#45;&gt;4 -->\n",
       "<g class=\"edge\" id=\"edge4\">\n",
       "<title>1-&gt;4</title>\n",
       "<path d=\"M24.5,-71.944C24.5,-63.743 24.5,-54.1585 24.5,-45.4711\" fill=\"none\" stroke=\"#000000\" stroke-width=\"1.5\"/>\n",
       "<polygon fill=\"#000000\" points=\"26.2501,-45.1981 24.5,-40.1982 22.7501,-45.1982 26.2501,-45.1981\" stroke=\"#000000\" stroke-width=\"1.5\"/>\n",
       "<text fill=\"#000000\" font-family=\"Times,serif\" font-size=\"14.00\" text-anchor=\"middle\" x=\"12.25\" y=\"-46.1075\">0.38</text>\n",
       "</g>\n",
       "<!-- 3 -->\n",
       "<g class=\"node\" id=\"node4\">\n",
       "<title>3</title>\n",
       "<ellipse cx=\"132.5\" cy=\"-20\" fill=\"#ffffff\" rx=\"20\" ry=\"20\" stroke=\"#ff9896\" stroke-width=\"4\"/>\n",
       "<text fill=\"#000000\" font-family=\"Helvetica,sans-Serif\" font-size=\"12.00\" text-anchor=\"middle\" x=\"132.5\" y=\"-16.4\">xc</text>\n",
       "</g>\n",
       "<!-- 2&#45;&gt;3 -->\n",
       "<g class=\"edge\" id=\"edge5\">\n",
       "<title>2-&gt;3</title>\n",
       "<path d=\"M132.5,-71.944C132.5,-63.743 132.5,-54.1585 132.5,-45.4711\" fill=\"none\" stroke=\"#000000\" stroke-width=\"4\"/>\n",
       "<polygon fill=\"#000000\" points=\"134.2501,-45.1981 132.5,-40.1982 130.7501,-45.1982 134.2501,-45.1981\" stroke=\"#000000\" stroke-width=\"4\"/>\n",
       "<text fill=\"#000000\" font-family=\"Times,serif\" font-size=\"14.00\" text-anchor=\"middle\" x=\"120.25\" y=\"-46.1075\">1.00</text>\n",
       "</g>\n",
       "<!-- 2&#45;&gt;4 -->\n",
       "<g class=\"edge\" id=\"edge6\">\n",
       "<title>2-&gt;4</title>\n",
       "<path d=\"M115.625,-80.75C96.6828,-68.1219 65.928,-47.6187 45.4601,-33.9734\" fill=\"none\" stroke=\"#000000\" stroke-width=\"3.25\"/>\n",
       "<polygon fill=\"#000000\" points=\"46.3875,-32.4885 41.2565,-31.171 44.446,-35.4006 46.3875,-32.4885\" stroke=\"#000000\" stroke-width=\"3.25\"/>\n",
       "<text fill=\"#000000\" font-family=\"Times,serif\" font-size=\"14.00\" text-anchor=\"middle\" x=\"68.2925\" y=\"-61.5617\">0.81</text>\n",
       "</g>\n",
       "<!-- 3&#45;&gt;4 -->\n",
       "<g class=\"edge\" id=\"edge7\">\n",
       "<title>3-&gt;4</title>\n",
       "<path d=\"M112.4391,-20C94.8192,-20 69.092,-20 50.0127,-20\" fill=\"none\" stroke=\"#000000\" stroke-width=\"1.5\"/>\n",
       "<polygon fill=\"#000000\" points=\"49.82,-18.2501 44.8199,-20 49.8199,-21.7501 49.82,-18.2501\" stroke=\"#000000\" stroke-width=\"1.5\"/>\n",
       "<text fill=\"#000000\" font-family=\"Times,serif\" font-size=\"14.00\" text-anchor=\"middle\" x=\"68.9759\" y=\"-24.2\">0.38</text>\n",
       "</g>\n",
       "</g>\n",
       "</svg>"
      ],
      "text/plain": [
       "<IPython.core.display.SVG object>"
      ]
     },
     "metadata": {
      "isolated": true
     },
     "output_type": "display_data"
    },
    {
     "data": {
      "text/plain": [
       "'EG.svg'"
      ]
     },
     "execution_count": 9,
     "metadata": {},
     "output_type": "execute_result"
    }
   ],
   "source": [
    "pEG = graphviz.Digraph(name='Effective Graph', engine='neato')\n",
    "pEG.attr('graph', size='3,3', concentrate='false', simplify='false', overlap='true',splines='false', ratio='auto')\n",
    "pEG.attr('node', pin='true', shape='circle', fixedsize='true', width='.55', color='#ff9896', style='filled', fillcolor='#515660', penwidth='4', fontname='Helvetica', fontcolor='black',fontsize='12')\n",
    "pEG.attr('edge', arrowhead='normal', arrowsize='.5', color='black', penwidth='4')\n",
    "\n",
    "for nid, d in EG.nodes(data=True):\n",
    "    snid = str(nid)\n",
    "    label = d['label']\n",
    "    pos = att[d['label']]['pos']\n",
    "    pEG.node(snid, label=label, pos=pos, fillcolor='white')\n",
    "\n",
    "max_penwidth = 4\n",
    "for uid,vid,d in EG.edges(data=True):\n",
    "    uid = str(uid)\n",
    "    vid = str(vid)\n",
    "    weight = '{:f}'.format(d['weight']*100)\n",
    "    penwidth = '%.2f' % ( d['weight']*max_penwidth )\n",
    "    label = \"{:.2f}\".format(d['weight'])\n",
    "    if d['weight'] > 0:\n",
    "        pEG.edge(uid, vid, label=label, weight=weight, penwidth=penwidth)\n",
    "    else:\n",
    "        pEG.edge(uid, vid, label=label, style='dashed', color='#A90533')\n",
    "    \n",
    "display(SVG(pEG.pipe(format='svg')), metadata={'isolated':True})\n",
    "# Export\n",
    "pEG._format = 'svg'\n",
    "pEG.render(\"EG\", cleanup=True)"
   ]
  },
  {
   "cell_type": "code",
   "execution_count": null,
   "metadata": {},
   "outputs": [],
   "source": []
  }
 ],
 "metadata": {
  "kernelspec": {
   "display_name": "Python 3",
   "language": "python",
   "name": "python3"
  },
  "language_info": {
   "codemirror_mode": {
    "name": "ipython",
    "version": 3
   },
   "file_extension": ".py",
   "mimetype": "text/x-python",
   "name": "python",
   "nbconvert_exporter": "python",
   "pygments_lexer": "ipython3",
   "version": "3.7.5"
  }
 },
 "nbformat": 4,
 "nbformat_minor": 2
}
