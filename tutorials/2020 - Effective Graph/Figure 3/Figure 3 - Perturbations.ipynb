{
 "cells": [
  {
   "cell_type": "markdown",
   "metadata": {},
   "source": [
    "# Effective Graph Paper\n",
    "Code to generate \"Figure 4 - Perturbations\""
   ]
  },
  {
   "cell_type": "code",
   "execution_count": 1,
   "metadata": {},
   "outputs": [],
   "source": [
    "%load_ext autoreload\n",
    "%autoreload 2\n",
    "%matplotlib inline"
   ]
  },
  {
   "cell_type": "code",
   "execution_count": 2,
   "metadata": {},
   "outputs": [],
   "source": [
    "import numpy as np\n",
    "import pandas as pd\n",
    "import matplotlib as mpl\n",
    "mpl.rcParams['mathtext.fontset'] = 'cm'\n",
    "mpl.rcParams['mathtext.rm'] = 'serif'\n",
    "import cana\n",
    "import matplotlib.pyplot as plt"
   ]
  },
  {
   "cell_type": "code",
   "execution_count": 3,
   "metadata": {},
   "outputs": [],
   "source": [
    "df = pd.read_csv('RandomNetworkPerturbationCorrelation.csv')"
   ]
  },
  {
   "cell_type": "code",
   "execution_count": 4,
   "metadata": {},
   "outputs": [],
   "source": [
    "dfg = df.groupby(['Graph', 'Step']).agg({'Correlation':['mean', 'std', 'count']})"
   ]
  },
  {
   "cell_type": "code",
   "execution_count": 7,
   "metadata": {},
   "outputs": [],
   "source": [
    "idx = pd.IndexSlice\n",
    "dfge = dfg.loc[idx['EG', :], :]\n",
    "dfgi = dfg.loc[idx['IG', :], :]"
   ]
  },
  {
   "cell_type": "code",
   "execution_count": 10,
   "metadata": {},
   "outputs": [
    {
     "name": "stdout",
     "output_type": "stream",
     "text": [
      "Int64Index([1, 2, 3, 4, 5, 6, 7, 8, 9, 10], dtype='int64', name='Step')\n",
      "           Correlation                \n",
      "                  mean       std count\n",
      "Graph Step                            \n",
      "IG    1       0.953341  0.090781  1000\n",
      "      2       0.780211  0.090402   999\n",
      "      3       0.686623  0.098863   999\n",
      "      4       0.522485  0.099830   999\n",
      "      5       0.154086  0.124481   999\n",
      "      6      -0.007987  0.104482   999\n",
      "      7       0.001269  0.101254   999\n",
      "      8      -0.005384  0.105249   999\n",
      "      9      -0.001670  0.103118   999\n",
      "      10     -0.002372  0.103652   999\n",
      "Graph  Step\n",
      "IG     1       0.953341\n",
      "       2       0.780211\n",
      "       3       0.686623\n",
      "       4       0.522485\n",
      "       5       0.154086\n",
      "       6      -0.007987\n",
      "       7       0.001269\n",
      "       8      -0.005384\n",
      "       9      -0.001670\n",
      "       10     -0.002372\n",
      "Name: (Correlation, mean), dtype: float64\n",
      "Int64Index([1, 2, 3, 4, 5, 6, 7, 8, 9, 10], dtype='int64', name='Step')\n",
      "           Correlation                \n",
      "                  mean       std count\n",
      "Graph Step                            \n",
      "EG    1       0.992522  0.037906  1000\n",
      "      2       0.793957  0.062505   999\n",
      "      3       0.674570  0.083951   999\n",
      "      4       0.497751  0.113972   999\n",
      "      5       0.317972  0.131798   999\n",
      "      6       0.300393  0.129264   999\n",
      "      7       0.313579  0.134047   999\n",
      "      8       0.322282  0.133094   999\n",
      "      9       0.326802  0.135230   999\n",
      "      10      0.327613  0.134775   999\n",
      "Graph  Step\n",
      "EG     1       0.992522\n",
      "       2       0.793957\n",
      "       3       0.674570\n",
      "       4       0.497751\n",
      "       5       0.317972\n",
      "       6       0.300393\n",
      "       7       0.313579\n",
      "       8       0.322282\n",
      "       9       0.326802\n",
      "       10      0.327613\n",
      "Name: (Correlation, mean), dtype: float64\n"
     ]
    },
    {
     "data": {
      "image/png": "[encoded data removed]",
      "text/plain": [
       "<Figure size 306x216 with 1 Axes>"
      ]
     },
     "metadata": {
      "needs_background": "light"
     },
     "output_type": "display_data"
    }
   ],
   "source": [
    "fig, ax = plt.subplots(1,1,figsize=(4.25,3), sharex=True, sharey=True)\n",
    "#\n",
    "colors = ['#1f77b4', '#d62728']\n",
    "labels = [r\"Interaction Graph\", r\"Effective Graph\"]\n",
    "lss = ['--', '-']\n",
    "for dft, color, label, ls in zip([dfgi, dfge], colors, labels, lss):\n",
    "    #corrmean = np.nanmean(corr_mat[ip], axis=(0,1))\n",
    "    #corrstd = np.nanstd(corr_mat[ip], axis=(0,1))\n",
    "    xs = dft.index.get_level_values(level=1)\n",
    "    print(xs)\n",
    "    print(dft)\n",
    "    mean = dft[('Correlation', 'mean')]\n",
    "    std = dft[('Correlation', 'std')]\n",
    "    print(mean)\n",
    "    ax.fill_between( xs, (mean - std), (mean + std) , color=color, alpha=0.1,\n",
    "            zorder=10)                 \n",
    "    ax.plot(xs, mean, c=color, label=label,\n",
    "            marker='o', ms=6, lw=3, ls=ls, zorder=5)\n",
    "    \n",
    "ax.axhline(0, c='#000000', lw=1, zorder=2)\n",
    "\n",
    "ax.set_title(\"Predictive Power\")\n",
    "ax.set_ylabel(\"Spearman's correlation\", fontsize='small')\n",
    "ax.set_xlabel(\"$n$ steps\", fontsize='small')\n",
    "ax.set_xticks(xs)\n",
    "ax.set_xticklabels(xs, fontsize='small')\n",
    "#ax.set_yticks([0.0, 0.25, 0.5, 0.75, 1.0])\n",
    "#ax.set_yticklabels([0.0, 0.25, 0.5, 0.75, 1.0], fontsize='small')\n",
    "#ax.set_xlim(0.75, 9.25)\n",
    "#ax.set_ylim(0.5, 0.9)\n",
    "ax.grid(zorder=1)\n",
    "ax.legend(loc=0, fontsize='small')\n",
    "\n",
    "plt.subplots_adjust(left=0.14, right=0.97, bottom=0.16, top=0.9, wspace=0.2, hspace=0.35)\n",
    "plt.savefig(\"Perturbations.pdf\")\n",
    "plt.show()"
   ]
  },
  {
   "cell_type": "code",
   "execution_count": null,
   "metadata": {},
   "outputs": [],
   "source": []
  }
 ],
 "metadata": {
  "kernelspec": {
   "display_name": "Python 3",
   "language": "python",
   "name": "python3"
  },
  "language_info": {
   "codemirror_mode": {
    "name": "ipython",
    "version": 3
   },
   "file_extension": ".py",
   "mimetype": "text/x-python",
   "name": "python",
   "nbconvert_exporter": "python",
   "pygments_lexer": "ipython3",
   "version": "3.7.5"
  }
 },
 "nbformat": 4,
 "nbformat_minor": 2
}
