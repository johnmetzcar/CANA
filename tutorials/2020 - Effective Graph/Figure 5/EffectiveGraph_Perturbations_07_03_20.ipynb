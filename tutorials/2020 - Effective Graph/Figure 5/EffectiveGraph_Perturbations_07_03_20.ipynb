{
 "cells": [
  {
   "cell_type": "code",
   "execution_count": 1,
   "metadata": {},
   "outputs": [],
   "source": [
    "%load_ext autoreload\n",
    "%autoreload 2\n",
    "%matplotlib inline"
   ]
  },
  {
   "cell_type": "code",
   "execution_count": 2,
   "metadata": {},
   "outputs": [],
   "source": [
    "from __future__ import division\n",
    "import os\n",
    "import graphviz\n",
    "\n",
    "import numpy as np\n",
    "import pandas as pd\n",
    "import scipy.stats as spstats\n",
    "\n",
    "import matplotlib.pyplot as plt\n",
    "import matplotlib as mpl \n",
    "mpl.rcParams['mathtext.fontset'] = 'cm' \n",
    "mpl.rcParams['mathtext.rm'] = 'serif'\n",
    "\n",
    "from cana.boolean_node import BooleanNode\n",
    "from cana.boolean_network import BooleanNetwork\n",
    "from cana.datasets.bio import THALIANA, DROSOPHILA, BUDDING_YEAST, LEUKEMIA, BREAST_CANCER\n",
    "from cana.random_boolean_network import regular_boolean_network, er_boolean_network\n",
    "from cana.utils import *"
   ]
  },
  {
   "cell_type": "code",
   "execution_count": 4,
   "metadata": {},
   "outputs": [],
   "source": [
    "T = THALIANA()\n",
    "EG = T.effective_graph(bound='mean', threshold=0.0)\n",
    "EGM = np.array(nx.to_numpy_matrix(EG))"
   ]
  },
  {
   "cell_type": "code",
   "execution_count": 9,
   "metadata": {},
   "outputs": [
    {
     "data": {
      "text/plain": [
       "array([[0., 0., 0., 0., 0., 0., 0., 0., 0., 0., 0., 0., 0., 0., 0.],\n",
       "       [0., 0., 0., 0., 0., 0., 0., 0., 0., 0., 0., 0., 0., 0., 0.],\n",
       "       [0., 0., 0., 0., 0., 0., 0., 0., 0., 0., 0., 0., 0., 0., 0.],\n",
       "       [0., 0., 0., 0., 0., 0., 0., 0., 0., 0., 0., 0., 0., 0., 0.],\n",
       "       [0., 0., 0., 0., 0., 0., 0., 0., 0., 0., 0., 0., 0., 0., 0.],\n",
       "       [0., 0., 0., 0., 0., 0., 0., 0., 0., 0., 0., 0., 0., 0., 0.],\n",
       "       [0., 0., 0., 0., 0., 0., 0., 0., 0., 0., 0., 0., 0., 0., 0.],\n",
       "       [0., 0., 0., 0., 0., 0., 0., 0., 0., 0., 0., 0., 0., 0., 0.],\n",
       "       [0., 0., 0., 0., 0., 0., 0., 0., 0., 0., 0., 0., 0., 0., 0.],\n",
       "       [0., 0., 0., 0., 0., 0., 0., 0., 0., 0., 0., 0., 0., 0., 0.]])"
      ]
     },
     "execution_count": 9,
     "metadata": {},
     "output_type": "execute_result"
    }
   ],
   "source": [
    "node = 2\n",
    "n_steps = 10\n",
    "T.partial_derative_node(node, n_traj=0, t=n_steps)\n",
    "#T.approx_dynamic_impact(n, n_steps=n_steps, mode='structural')"
   ]
  },
  {
   "cell_type": "code",
   "execution_count": 4,
   "metadata": {},
   "outputs": [
    {
     "name": "stdout",
     "output_type": "stream",
     "text": [
      "0 ['AP3']\n",
      "1 ['UFO']\n",
      "2 ['FUL']\n",
      "3 ['FT']\n"
     ]
    },
    {
     "ename": "KeyboardInterrupt",
     "evalue": "",
     "output_type": "error",
     "traceback": [
      "\u001b[0;31m---------------------------------------------------------------------------\u001b[0m",
      "\u001b[0;31mKeyboardInterrupt\u001b[0m                         Traceback (most recent call last)",
      "\u001b[0;32m<ipython-input-4-7652cb3f6c73>\u001b[0m in \u001b[0;36m<module>\u001b[0;34m\u001b[0m\n\u001b[1;32m      5\u001b[0m \u001b[0;32mfor\u001b[0m \u001b[0mn\u001b[0m \u001b[0;32min\u001b[0m \u001b[0mrange\u001b[0m\u001b[0;34m(\u001b[0m\u001b[0mT\u001b[0m\u001b[0;34m.\u001b[0m\u001b[0mNnodes\u001b[0m\u001b[0;34m)\u001b[0m\u001b[0;34m:\u001b[0m\u001b[0;34m\u001b[0m\u001b[0;34m\u001b[0m\u001b[0m\n\u001b[1;32m      6\u001b[0m     \u001b[0mprint\u001b[0m\u001b[0;34m(\u001b[0m\u001b[0mn\u001b[0m\u001b[0;34m,\u001b[0m \u001b[0mT\u001b[0m\u001b[0;34m.\u001b[0m\u001b[0mget_node_name\u001b[0m\u001b[0;34m(\u001b[0m\u001b[0;34m[\u001b[0m\u001b[0mn\u001b[0m\u001b[0;34m]\u001b[0m\u001b[0;34m)\u001b[0m\u001b[0;34m)\u001b[0m\u001b[0;34m\u001b[0m\u001b[0;34m\u001b[0m\u001b[0m\n\u001b[0;32m----> 7\u001b[0;31m     \u001b[0minfluence\u001b[0m\u001b[0;34m[\u001b[0m\u001b[0;36m0\u001b[0m\u001b[0;34m,\u001b[0m\u001b[0mn\u001b[0m\u001b[0;34m]\u001b[0m \u001b[0;34m=\u001b[0m \u001b[0mT\u001b[0m\u001b[0;34m.\u001b[0m\u001b[0mpartial_derative_node\u001b[0m\u001b[0;34m(\u001b[0m\u001b[0mn\u001b[0m\u001b[0;34m,\u001b[0m \u001b[0mn_traj\u001b[0m\u001b[0;34m=\u001b[0m\u001b[0;36m0\u001b[0m\u001b[0;34m,\u001b[0m \u001b[0mt\u001b[0m\u001b[0;34m=\u001b[0m\u001b[0mn_steps\u001b[0m\u001b[0;34m)\u001b[0m\u001b[0;34m\u001b[0m\u001b[0;34m\u001b[0m\u001b[0m\n\u001b[0m\u001b[1;32m      8\u001b[0m     influence[1,n] = T.approx_dynamic_impact(n, n_steps=n_steps, mode='effective', bound='mean', \n\u001b[1;32m      9\u001b[0m                                                   min_log_prob=np.log(10**(-5)))\n",
      "\u001b[0;32m~/Sites/CANA/cana/boolean_network.py\u001b[0m in \u001b[0;36mpartial_derative_node\u001b[0;34m(self, node, n_traj, t)\u001b[0m\n\u001b[1;32m   1141\u001b[0m                         \u001b[0mperturbed_config\u001b[0m \u001b[0;34m=\u001b[0m \u001b[0mflip_binstate_bit\u001b[0m\u001b[0;34m(\u001b[0m\u001b[0mconfig\u001b[0m\u001b[0;34m,\u001b[0m \u001b[0mnode\u001b[0m\u001b[0;34m)\u001b[0m\u001b[0;34m\u001b[0m\u001b[0;34m\u001b[0m\u001b[0m\n\u001b[1;32m   1142\u001b[0m                         \u001b[0;32mfor\u001b[0m \u001b[0mn_step\u001b[0m \u001b[0;32min\u001b[0m \u001b[0mrange\u001b[0m\u001b[0;34m(\u001b[0m\u001b[0mt\u001b[0m\u001b[0;34m)\u001b[0m\u001b[0;34m:\u001b[0m\u001b[0;34m\u001b[0m\u001b[0;34m\u001b[0m\u001b[0m\n\u001b[0;32m-> 1143\u001b[0;31m                                 \u001b[0mconfig\u001b[0m \u001b[0;34m=\u001b[0m \u001b[0mself\u001b[0m\u001b[0;34m.\u001b[0m\u001b[0mstep\u001b[0m\u001b[0;34m(\u001b[0m\u001b[0mconfig\u001b[0m\u001b[0;34m)\u001b[0m\u001b[0;34m\u001b[0m\u001b[0;34m\u001b[0m\u001b[0m\n\u001b[0m\u001b[1;32m   1144\u001b[0m                                 \u001b[0mperturbed_config\u001b[0m \u001b[0;34m=\u001b[0m \u001b[0mself\u001b[0m\u001b[0;34m.\u001b[0m\u001b[0mstep\u001b[0m\u001b[0;34m(\u001b[0m\u001b[0mperturbed_config\u001b[0m\u001b[0;34m)\u001b[0m\u001b[0;34m\u001b[0m\u001b[0;34m\u001b[0m\u001b[0m\n\u001b[1;32m   1145\u001b[0m                                 \u001b[0mpartial\u001b[0m\u001b[0;34m[\u001b[0m\u001b[0mn_step\u001b[0m\u001b[0;34m]\u001b[0m \u001b[0;34m+=\u001b[0m \u001b[0mnp\u001b[0m\u001b[0;34m.\u001b[0m\u001b[0mlogical_not\u001b[0m\u001b[0;34m(\u001b[0m\u001b[0mbinstate_compare\u001b[0m\u001b[0;34m(\u001b[0m\u001b[0mconfig\u001b[0m\u001b[0;34m,\u001b[0m \u001b[0mperturbed_config\u001b[0m\u001b[0;34m)\u001b[0m\u001b[0;34m)\u001b[0m\u001b[0;34m\u001b[0m\u001b[0;34m\u001b[0m\u001b[0m\n",
      "\u001b[0;32m~/Sites/CANA/cana/boolean_network.py\u001b[0m in \u001b[0;36mstep\u001b[0;34m(self, initial)\u001b[0m\n\u001b[1;32m    503\u001b[0m                 \u001b[0;31m# joins the results from each node output\u001b[0m\u001b[0;34m\u001b[0m\u001b[0;34m\u001b[0m\u001b[0;34m\u001b[0m\u001b[0m\n\u001b[1;32m    504\u001b[0m                 \u001b[0;32massert\u001b[0m \u001b[0mlen\u001b[0m\u001b[0;34m(\u001b[0m\u001b[0minitial\u001b[0m\u001b[0;34m)\u001b[0m \u001b[0;34m==\u001b[0m \u001b[0mself\u001b[0m\u001b[0;34m.\u001b[0m\u001b[0mNnodes\u001b[0m\u001b[0;34m\u001b[0m\u001b[0;34m\u001b[0m\u001b[0m\n\u001b[0;32m--> 505\u001b[0;31m                 \u001b[0;32mreturn\u001b[0m \u001b[0;34m''\u001b[0m\u001b[0;34m.\u001b[0m\u001b[0mjoin\u001b[0m\u001b[0;34m(\u001b[0m \u001b[0;34m[\u001b[0m \u001b[0mnode\u001b[0m\u001b[0;34m.\u001b[0m\u001b[0mstep\u001b[0m\u001b[0;34m(\u001b[0m\u001b[0mnode\u001b[0m\u001b[0;34m.\u001b[0m\u001b[0minput_mask\u001b[0m\u001b[0;34m(\u001b[0m\u001b[0minitial\u001b[0m\u001b[0;34m)\u001b[0m \u001b[0;34m)\u001b[0m \u001b[0;32mfor\u001b[0m \u001b[0mnode\u001b[0m \u001b[0;32min\u001b[0m \u001b[0mself\u001b[0m\u001b[0;34m.\u001b[0m\u001b[0mnodes\u001b[0m\u001b[0;34m]\u001b[0m \u001b[0;34m)\u001b[0m\u001b[0;34m\u001b[0m\u001b[0;34m\u001b[0m\u001b[0m\n\u001b[0m\u001b[1;32m    506\u001b[0m \u001b[0;34m\u001b[0m\u001b[0m\n\u001b[1;32m    507\u001b[0m         \u001b[0;32mdef\u001b[0m \u001b[0mtrajectory\u001b[0m\u001b[0;34m(\u001b[0m\u001b[0mself\u001b[0m\u001b[0;34m,\u001b[0m \u001b[0minitial\u001b[0m\u001b[0;34m,\u001b[0m \u001b[0mlength\u001b[0m\u001b[0;34m=\u001b[0m\u001b[0;36m2\u001b[0m\u001b[0;34m)\u001b[0m\u001b[0;34m:\u001b[0m\u001b[0;34m\u001b[0m\u001b[0;34m\u001b[0m\u001b[0m\n",
      "\u001b[0;32m~/Sites/CANA/cana/boolean_network.py\u001b[0m in \u001b[0;36m<listcomp>\u001b[0;34m(.0)\u001b[0m\n\u001b[1;32m    503\u001b[0m                 \u001b[0;31m# joins the results from each node output\u001b[0m\u001b[0;34m\u001b[0m\u001b[0;34m\u001b[0m\u001b[0;34m\u001b[0m\u001b[0m\n\u001b[1;32m    504\u001b[0m                 \u001b[0;32massert\u001b[0m \u001b[0mlen\u001b[0m\u001b[0;34m(\u001b[0m\u001b[0minitial\u001b[0m\u001b[0;34m)\u001b[0m \u001b[0;34m==\u001b[0m \u001b[0mself\u001b[0m\u001b[0;34m.\u001b[0m\u001b[0mNnodes\u001b[0m\u001b[0;34m\u001b[0m\u001b[0;34m\u001b[0m\u001b[0m\n\u001b[0;32m--> 505\u001b[0;31m                 \u001b[0;32mreturn\u001b[0m \u001b[0;34m''\u001b[0m\u001b[0;34m.\u001b[0m\u001b[0mjoin\u001b[0m\u001b[0;34m(\u001b[0m \u001b[0;34m[\u001b[0m \u001b[0mnode\u001b[0m\u001b[0;34m.\u001b[0m\u001b[0mstep\u001b[0m\u001b[0;34m(\u001b[0m\u001b[0mnode\u001b[0m\u001b[0;34m.\u001b[0m\u001b[0minput_mask\u001b[0m\u001b[0;34m(\u001b[0m\u001b[0minitial\u001b[0m\u001b[0;34m)\u001b[0m \u001b[0;34m)\u001b[0m \u001b[0;32mfor\u001b[0m \u001b[0mnode\u001b[0m \u001b[0;32min\u001b[0m \u001b[0mself\u001b[0m\u001b[0;34m.\u001b[0m\u001b[0mnodes\u001b[0m\u001b[0;34m]\u001b[0m \u001b[0;34m)\u001b[0m\u001b[0;34m\u001b[0m\u001b[0;34m\u001b[0m\u001b[0m\n\u001b[0m\u001b[1;32m    506\u001b[0m \u001b[0;34m\u001b[0m\u001b[0m\n\u001b[1;32m    507\u001b[0m         \u001b[0;32mdef\u001b[0m \u001b[0mtrajectory\u001b[0m\u001b[0;34m(\u001b[0m\u001b[0mself\u001b[0m\u001b[0;34m,\u001b[0m \u001b[0minitial\u001b[0m\u001b[0;34m,\u001b[0m \u001b[0mlength\u001b[0m\u001b[0;34m=\u001b[0m\u001b[0;36m2\u001b[0m\u001b[0;34m)\u001b[0m\u001b[0;34m:\u001b[0m\u001b[0;34m\u001b[0m\u001b[0;34m\u001b[0m\u001b[0m\n",
      "\u001b[0;32m~/Sites/CANA/cana/boolean_node.py\u001b[0m in \u001b[0;36minput_mask\u001b[0;34m(self, binstate)\u001b[0m\n\u001b[1;32m    451\u001b[0m                         \u001b[0moutput\u001b[0m \u001b[0;34m(\u001b[0m\u001b[0mstr\u001b[0m\u001b[0;34m)\u001b[0m \u001b[0;34m:\u001b[0m \u001b[0mthe\u001b[0m \u001b[0mmasked\u001b[0m \u001b[0mstate\u001b[0m\u001b[0;34m\u001b[0m\u001b[0;34m\u001b[0m\u001b[0m\n\u001b[1;32m    452\u001b[0m \t\t\"\"\"\n\u001b[0;32m--> 453\u001b[0;31m                 \u001b[0;32mreturn\u001b[0m \u001b[0;34m''\u001b[0m\u001b[0;34m.\u001b[0m\u001b[0mjoin\u001b[0m\u001b[0;34m(\u001b[0m\u001b[0mcompress\u001b[0m\u001b[0;34m(\u001b[0m\u001b[0mbinstate\u001b[0m\u001b[0;34m,\u001b[0m \u001b[0mself\u001b[0m\u001b[0;34m.\u001b[0m\u001b[0mmask\u001b[0m\u001b[0;34m)\u001b[0m\u001b[0;34m)\u001b[0m\u001b[0;34m\u001b[0m\u001b[0;34m\u001b[0m\u001b[0m\n\u001b[0m\u001b[1;32m    454\u001b[0m \u001b[0;34m\u001b[0m\u001b[0m\n\u001b[1;32m    455\u001b[0m         \u001b[0;32mdef\u001b[0m \u001b[0mconstant_step\u001b[0m\u001b[0;34m(\u001b[0m\u001b[0mself\u001b[0m\u001b[0;34m,\u001b[0m \u001b[0minput_state\u001b[0m\u001b[0;34m)\u001b[0m\u001b[0;34m:\u001b[0m\u001b[0;34m\u001b[0m\u001b[0;34m\u001b[0m\u001b[0m\n",
      "\u001b[0;31mKeyboardInterrupt\u001b[0m: "
     ]
    }
   ],
   "source": [
    "n_steps=10\n",
    "n_traj = 10**1\n",
    "\n",
    "influence = np.zeros((3, T.Nnodes, n_steps, T.Nnodes))\n",
    "for n in range(T.Nnodes):\n",
    "    print(n, T.get_node_name([n]))\n",
    "    influence[0,n] = T.partial_derative_node(n, n_traj=0, t=n_steps)\n",
    "    influence[1,n] = T.approx_dynamic_impact(n, n_steps=n_steps, mode='effective', bound='mean', \n",
    "                                                  min_log_prob=np.log(10**(-5)))\n",
    "    influence[2,n] = T.approx_dynamic_impact(n, n_steps=n_steps, mode='structural',\n",
    "                                                  min_log_prob=np.log(10**(-5)))\n",
    "    "
   ]
  },
  {
   "cell_type": "code",
   "execution_count": 16,
   "metadata": {},
   "outputs": [
    {
     "data": {
      "text/plain": [
       "array([[0., 0., 0., 0., 0., 0., 0., 0., 0., 0., 0., 0., 0., 0., 0.],\n",
       "       [0., 0., 0., 0., 0., 0., 0., 0., 0., 0., 0., 0., 0., 0., 0.],\n",
       "       [0., 0., 0., 0., 0., 0., 0., 0., 0., 0., 0., 0., 0., 0., 0.],\n",
       "       [0., 0., 0., 0., 0., 0., 0., 0., 0., 0., 0., 0., 0., 0., 0.],\n",
       "       [0., 0., 0., 0., 0., 0., 0., 0., 0., 0., 0., 0., 0., 0., 0.],\n",
       "       [0., 0., 0., 0., 0., 0., 0., 0., 0., 0., 0., 0., 0., 0., 0.],\n",
       "       [0., 0., 0., 0., 0., 0., 0., 0., 0., 0., 0., 0., 0., 0., 0.],\n",
       "       [0., 0., 0., 0., 0., 0., 0., 0., 0., 0., 0., 0., 0., 0., 0.],\n",
       "       [0., 0., 0., 0., 0., 0., 0., 0., 0., 0., 0., 0., 0., 0., 0.],\n",
       "       [0., 0., 0., 0., 0., 0., 0., 0., 0., 0., 0., 0., 0., 0., 0.]])"
      ]
     },
     "execution_count": 16,
     "metadata": {},
     "output_type": "execute_result"
    }
   ],
   "source": [
    "influence[1, 2]"
   ]
  },
  {
   "cell_type": "code",
   "execution_count": 6,
   "metadata": {},
   "outputs": [],
   "source": [
    "n_c = 2\n",
    "\n",
    "corr_mat = np.zeros((n_c, T.Nnodes, n_steps)) \n",
    "for n in range(T.Nnodes):\n",
    "    for step in range(n_steps):\n",
    "        for ic in range(n_c):\n",
    "            corr_mat[ic,n,step] = spstats.spearmanr(influence[0,n,step], influence[ic+1,n,step]).correlation"
   ]
  },
  {
   "cell_type": "code",
   "execution_count": 14,
   "metadata": {},
   "outputs": [
    {
     "name": "stdout",
     "output_type": "stream",
     "text": [
      "AP3\n",
      "eff [0.73192505 0.73192505 0.62736433 0.62736433 0.62736433 0.62736433\n",
      " 0.62736433 0.62736433 0.62736433 0.62736433]\n",
      "int [0.73192505 0.73192505 0.62736433 0.62736433 0.62736433 0.62736433\n",
      " 0.62736433 0.62736433 0.62736433 0.62736433]\n",
      "UFO\n",
      "eff [0.62736433 0.7163162  0.7163162  0.7163162  0.7163162  0.7163162\n",
      " 0.7163162  0.7163162  0.7163162  0.7163162 ]\n",
      "int [0.62736433 0.71382435 0.71382435 0.71382435 0.71382435 0.71382435\n",
      " 0.71382435 0.71382435 0.71382435 0.71382435]\n",
      "FUL\n",
      "eff [nan nan nan nan nan nan nan nan nan nan]\n",
      "int [nan nan nan nan nan nan nan nan nan nan]\n",
      "FT\n",
      "eff [1.         0.5965976  0.64044422 0.20015322 0.30758754 0.59938206\n",
      " 0.60201214 0.27501719 0.4022469  0.4022469 ]\n",
      "int [1.         0.41824289 0.41812101 0.4729152  0.28747979 0.80439967\n",
      " 0.55614074 0.49940933 0.53819469 0.53819469]\n",
      "AP1\n",
      "eff [0.85682404 0.37139646 0.52747908 0.42525552 0.61071046 0.60708056\n",
      " 0.56045817 0.72463279 0.71021819 0.71021819]\n",
      "int [0.84381593 0.32020563 0.44224576 0.39159383 0.65434647 0.49978755\n",
      " 0.72351147 0.75968705 0.76041717 0.76041717]\n",
      "EMF1\n",
      "eff [1.         0.41953507 0.55768059 0.55260958 0.57899568 0.55746859\n",
      " 0.52034218 0.52495699 0.52358821 0.52358821]\n",
      "int [0.99267389 0.45125523 0.43891633 0.47749608 0.52958038 0.60859362\n",
      " 0.59804595 0.59689697 0.59747063 0.59747063]\n",
      "LFY\n",
      "eff [0.96018005 0.1735955  0.38644753 0.7224992  0.72263857 0.57224675\n",
      " 0.53629802 0.54141303 0.55508253 0.55508253]\n",
      "int [0.94131607 0.44499298 0.49427502 0.61392802 0.63318555 0.60688488\n",
      " 0.59747063 0.59689697 0.59747063 0.59747063]\n",
      "AP2\n",
      "eff [1.         0.87865395 0.83715254 0.83521126 0.78119956 0.78881064\n",
      " 0.78881064 0.78881064 0.78881064 0.78881064]\n",
      "int [0.68138514 0.55571893 0.64447506 0.42008403 0.35877686 0.36037499\n",
      " 0.36037499 0.36037499 0.36037499 0.36037499]\n",
      "WUS\n",
      "eff [0.62736433 0.76404691 0.78270813 0.65403057 0.61008238 0.63608503\n",
      " 0.63608503 0.63906172 0.64804357 0.64804357]\n",
      "int [0.62736433 0.74783923 0.57639247 0.33234703 0.23618875 0.18695981\n",
      " 0.18695981 0.18719692 0.18791369 0.18791369]\n",
      "AG\n",
      "eff [0.92777125 0.72108112 0.64226245 0.51844157 0.51535084 0.65671177\n",
      " 0.62839249 0.58499001 0.60727433 0.60727433]\n",
      "int [0.91402573 0.620633   0.34641016 0.27053902 0.28532635 0.41247174\n",
      " 0.43410688 0.39793131 0.41641892 0.41641892]\n",
      "LUG\n",
      "eff [1.         0.87865395 0.83023977 0.81368336 0.77472244 0.7851839\n",
      " 0.7851839  0.7851839  0.7851839  0.7851839 ]\n",
      "int [1.         0.84016805 0.55571893 0.35877686 0.29748206 0.29880715\n",
      " 0.29880715 0.29880715 0.29880715 0.29880715]\n",
      "CLF\n",
      "eff [1.         0.87865395 0.83023977 0.81368336 0.77472244 0.7851839\n",
      " 0.7851839  0.7851839  0.7851839  0.7851839 ]\n",
      "int [1.         0.84016805 0.55571893 0.35877686 0.29748206 0.29880715\n",
      " 0.29880715 0.29880715 0.29880715 0.29880715]\n",
      "TFL1\n",
      "eff [0.83240219 0.38706029 0.52200166 0.54460283 0.61494359 0.52207148\n",
      " 0.56528837 0.58708147 0.58193115 0.58193115]\n",
      "int [0.97559041 0.48352582 0.4979296  0.61727979 0.65434647 0.64258399\n",
      " 0.6277666  0.59689697 0.59747063 0.59747063]\n",
      "PI\n",
      "eff [0.73192505 0.62736433 0.73192505 0.73192505 0.73192505 0.73192505\n",
      " 0.73192505 0.73192505 0.73192505 0.73192505]\n",
      "int [0.73192505 0.62736433 0.73192505 0.73192505 0.73192505 0.73192505\n",
      " 0.73192505 0.73192505 0.73192505 0.73192505]\n",
      "SEP\n",
      "eff [1.         0.88956891 0.84283251 0.74391711 0.77540566 0.73982503\n",
      " 0.70492762 0.70387473 0.70387473 0.70387473]\n",
      "int [0.98518437 0.84016805 0.6452924  0.42008403 0.41599315 0.35877686\n",
      " 0.35877686 0.29930244 0.29930244 0.29930244]\n"
     ]
    },
    {
     "ename": "IndexError",
     "evalue": "pop from empty list",
     "output_type": "error",
     "traceback": [
      "\u001b[0;31m---------------------------------------------------------------------------\u001b[0m",
      "\u001b[0;31mIndexError\u001b[0m                                Traceback (most recent call last)",
      "\u001b[0;32m<ipython-input-14-bcccadda628c>\u001b[0m in \u001b[0;36m<module>\u001b[0;34m\u001b[0m\n\u001b[1;32m      7\u001b[0m     \u001b[0mprint\u001b[0m\u001b[0;34m(\u001b[0m\u001b[0;34m'eff'\u001b[0m\u001b[0;34m,\u001b[0m\u001b[0mcorr_mat\u001b[0m\u001b[0;34m[\u001b[0m\u001b[0;36m0\u001b[0m\u001b[0;34m,\u001b[0m\u001b[0mi\u001b[0m\u001b[0;34m,\u001b[0m\u001b[0;34m:\u001b[0m\u001b[0;34m]\u001b[0m\u001b[0;34m)\u001b[0m\u001b[0;34m\u001b[0m\u001b[0;34m\u001b[0m\u001b[0m\n\u001b[1;32m      8\u001b[0m     \u001b[0mprint\u001b[0m\u001b[0;34m(\u001b[0m\u001b[0;34m'int'\u001b[0m\u001b[0;34m,\u001b[0m\u001b[0mcorr_mat\u001b[0m\u001b[0;34m[\u001b[0m\u001b[0;36m1\u001b[0m\u001b[0;34m,\u001b[0m\u001b[0mi\u001b[0m\u001b[0;34m,\u001b[0m\u001b[0;34m:\u001b[0m\u001b[0;34m]\u001b[0m\u001b[0;34m)\u001b[0m\u001b[0;34m\u001b[0m\u001b[0;34m\u001b[0m\u001b[0m\n\u001b[0;32m----> 9\u001b[0;31m     \u001b[0max\u001b[0m \u001b[0;34m=\u001b[0m \u001b[0maxesl\u001b[0m\u001b[0;34m.\u001b[0m\u001b[0mpop\u001b[0m\u001b[0;34m(\u001b[0m\u001b[0;34m)\u001b[0m\u001b[0;34m\u001b[0m\u001b[0;34m\u001b[0m\u001b[0m\n\u001b[0m\u001b[1;32m     10\u001b[0m     \u001b[0mys_eff\u001b[0m \u001b[0;34m=\u001b[0m \u001b[0mcorr_mat\u001b[0m\u001b[0;34m[\u001b[0m\u001b[0;36m0\u001b[0m\u001b[0;34m,\u001b[0m\u001b[0mi\u001b[0m\u001b[0;34m,\u001b[0m\u001b[0;34m:\u001b[0m\u001b[0;34m]\u001b[0m\u001b[0;34m\u001b[0m\u001b[0;34m\u001b[0m\u001b[0m\n\u001b[1;32m     11\u001b[0m     \u001b[0mys_int\u001b[0m \u001b[0;34m=\u001b[0m \u001b[0mcorr_mat\u001b[0m\u001b[0;34m[\u001b[0m\u001b[0;36m1\u001b[0m\u001b[0;34m,\u001b[0m\u001b[0mi\u001b[0m\u001b[0;34m,\u001b[0m\u001b[0;34m:\u001b[0m\u001b[0;34m]\u001b[0m\u001b[0;34m\u001b[0m\u001b[0;34m\u001b[0m\u001b[0m\n",
      "\u001b[0;31mIndexError\u001b[0m: pop from empty list"
     ]
    },
    {
     "data": {
      "image/png": "[encoded data removed]",
      "text/plain": [
       "<Figure size 590.4x216 with 14 Axes>"
      ]
     },
     "metadata": {
      "needs_background": "light"
     },
     "output_type": "display_data"
    }
   ],
   "source": [
    "fig, axes = plt.subplots(2,7,figsize=(8.2,3), sharex=True, sharey=True) \n",
    "axes = axes.flatten()\n",
    "axesl = axes.tolist()\n",
    "i=0\n",
    "for node in T.nodes: \n",
    "    print(node.name)\n",
    "    print('eff',corr_mat[0,i,:]) \n",
    "    print('int',corr_mat[1,i,:]) \n",
    "    ax = axesl.pop()\n",
    "    ys_eff = corr_mat[0,i,:] \n",
    "    ys_int = corr_mat[1,i,:]\n",
    "    xs = np.arange(1,len(ys_eff)+1,1)\n",
    "    #ax.fill_between( np.arange(1,n_steps+1), corrmean-corrstd, corrmean+corrstd\n",
    "\n",
    "    ax.plot(xs, ys_int, c='#1f77b4', label='Interaction Graph',\n",
    "    marker='o', ms=4, lw=1, ls='-', zorder=5) \n",
    "    ax.plot(xs, ys_eff, c='#d62728', label='Effective Graph', marker='o', ms=4, lw=1, ls='-', zorder=6)\n",
    "\n",
    "    ax.set_title(node.name, fontsize='medium') \n",
    "    ax.set_xlim(0.5,10.5)\n",
    "    ax.set_ylim(-0.05, 1.05)\n",
    "    ax.set_xticks([1,5,10])\n",
    "    ax.set_xticklabels([1,5,10], fontsize='small') \n",
    "    ax.set_yticks([0.0,0.25,0.5,0.75,1.0]) \n",
    "    ax.set_yticklabels([0.0,0.25,0.5,0.75,1.0], fontsize='small') \n",
    "    ax.grid(zorder=1)\n",
    "    #ax.set(adjustable=, aspect=10)\n",
    "    i += 1\n",
    "axes[7].set_ylabel(\"Spearman's correlation\", ha='left', fontsize='small') \n",
    "axes[10].set_xlabel(r'$n$ steps', fontsize='small')\n",
    "plt.legend(loc='lower right', bbox_to_anchor=(1.07,-0.55), ncol=2, fontsize='small')\n",
    "plt.subplots_adjust(left=0.07, right=0.99, bottom=0.17, top=0.9, wspace=0.2, hspace=0.2)\n",
    "plt.savefig(\"ThalianaPerturbations.pdf\")\n",
    "plt.show()"
   ]
  },
  {
   "cell_type": "code",
   "execution_count": 5,
   "metadata": {},
   "outputs": [
    {
     "ename": "UnicodeDecodeError",
     "evalue": "'utf-8' codec can't decode byte 0xf1 in position 75: invalid continuation byte",
     "output_type": "error",
     "traceback": [
      "\u001b[0;31m---------------------------------------------------------------------------\u001b[0m",
      "\u001b[0;31mUnicodeDecodeError\u001b[0m                        Traceback (most recent call last)",
      "\u001b[0;32m<ipython-input-5-e7e87a674c7a>\u001b[0m in \u001b[0;36m<module>\u001b[0;34m\u001b[0m\n\u001b[0;32m----> 1\u001b[0;31m \u001b[0mbionet\u001b[0m \u001b[0;34m=\u001b[0m \u001b[0mBREAST_CANCER\u001b[0m\u001b[0;34m(\u001b[0m\u001b[0;34m)\u001b[0m\u001b[0;34m\u001b[0m\u001b[0;34m\u001b[0m\u001b[0m\n\u001b[0m\u001b[1;32m      2\u001b[0m \u001b[0mN\u001b[0m \u001b[0;34m=\u001b[0m \u001b[0mbionet\u001b[0m\u001b[0;34m.\u001b[0m\u001b[0mNnodes\u001b[0m\u001b[0;34m\u001b[0m\u001b[0;34m\u001b[0m\u001b[0m\n\u001b[1;32m      3\u001b[0m \u001b[0;34m\u001b[0m\u001b[0m\n\u001b[1;32m      4\u001b[0m \u001b[0mfocusnodes\u001b[0m \u001b[0;34m=\u001b[0m \u001b[0;34m[\u001b[0m\u001b[0;36m3\u001b[0m\u001b[0;34m,\u001b[0m\u001b[0;36m4\u001b[0m\u001b[0;34m,\u001b[0m\u001b[0;36m5\u001b[0m\u001b[0;34m,\u001b[0m\u001b[0;36m6\u001b[0m\u001b[0;34m,\u001b[0m\u001b[0;36m7\u001b[0m\u001b[0;34m,\u001b[0m\u001b[0;36m8\u001b[0m\u001b[0;34m,\u001b[0m\u001b[0;36m9\u001b[0m\u001b[0;34m]\u001b[0m\u001b[0;34m\u001b[0m\u001b[0;34m\u001b[0m\u001b[0m\n\u001b[1;32m      5\u001b[0m \u001b[0;34m\u001b[0m\u001b[0m\n",
      "\u001b[0;32m~/Documents/GitHub/CANA/cana/datasets/bio.py\u001b[0m in \u001b[0;36mBREAST_CANCER\u001b[0;34m()\u001b[0m\n\u001b[1;32m     91\u001b[0m                 \u001b[0;34m(\u001b[0m\u001b[0mBooleanNetwork\u001b[0m\u001b[0;34m)\u001b[0m\u001b[0;34m\u001b[0m\u001b[0;34m\u001b[0m\u001b[0m\n\u001b[1;32m     92\u001b[0m \t\"\"\"\n\u001b[0;32m---> 93\u001b[0;31m         \u001b[0;32mreturn\u001b[0m \u001b[0mBooleanNetwork\u001b[0m\u001b[0;34m.\u001b[0m\u001b[0mfrom_file\u001b[0m\u001b[0;34m(\u001b[0m\u001b[0m_path\u001b[0m \u001b[0;34m+\u001b[0m \u001b[0;34m'/breast_cancer.txt'\u001b[0m\u001b[0;34m,\u001b[0m \u001b[0mtype\u001b[0m\u001b[0;34m=\u001b[0m\u001b[0;34m'logical'\u001b[0m\u001b[0;34m,\u001b[0m \u001b[0mname\u001b[0m\u001b[0;34m=\u001b[0m\u001b[0;34m\"Breast Cancer\"\u001b[0m\u001b[0;34m,\u001b[0m \u001b[0mkeep_constants\u001b[0m\u001b[0;34m=\u001b[0m\u001b[0;32mTrue\u001b[0m\u001b[0;34m)\u001b[0m\u001b[0;34m\u001b[0m\u001b[0;34m\u001b[0m\u001b[0m\n\u001b[0m",
      "\u001b[0;32m~/Documents/GitHub/CANA/cana/boolean_network.py\u001b[0m in \u001b[0;36mfrom_file\u001b[0;34m(self, file, type, keep_constants, **kwargs)\u001b[0m\n\u001b[1;32m    102\u001b[0m                                 \u001b[0;32mreturn\u001b[0m \u001b[0mself\u001b[0m\u001b[0;34m.\u001b[0m\u001b[0mfrom_string_cnet\u001b[0m\u001b[0;34m(\u001b[0m\u001b[0minfile\u001b[0m\u001b[0;34m.\u001b[0m\u001b[0mread\u001b[0m\u001b[0;34m(\u001b[0m\u001b[0;34m)\u001b[0m\u001b[0;34m,\u001b[0m \u001b[0mkeep_constants\u001b[0m\u001b[0;34m=\u001b[0m\u001b[0mkeep_constants\u001b[0m\u001b[0;34m,\u001b[0m \u001b[0;34m**\u001b[0m\u001b[0mkwargs\u001b[0m\u001b[0;34m)\u001b[0m\u001b[0;34m\u001b[0m\u001b[0;34m\u001b[0m\u001b[0m\n\u001b[1;32m    103\u001b[0m                         \u001b[0;32melif\u001b[0m \u001b[0mtype\u001b[0m\u001b[0;34m==\u001b[0m\u001b[0;34m'logical'\u001b[0m\u001b[0;34m:\u001b[0m\u001b[0;34m\u001b[0m\u001b[0;34m\u001b[0m\u001b[0m\n\u001b[0;32m--> 104\u001b[0;31m                                 \u001b[0;32mreturn\u001b[0m \u001b[0mself\u001b[0m\u001b[0;34m.\u001b[0m\u001b[0mfrom_string_boolean\u001b[0m\u001b[0;34m(\u001b[0m\u001b[0minfile\u001b[0m\u001b[0;34m.\u001b[0m\u001b[0mread\u001b[0m\u001b[0;34m(\u001b[0m\u001b[0;34m)\u001b[0m\u001b[0;34m,\u001b[0m \u001b[0mkeep_constants\u001b[0m\u001b[0;34m=\u001b[0m\u001b[0mkeep_constants\u001b[0m\u001b[0;34m,\u001b[0m \u001b[0;34m**\u001b[0m\u001b[0mkwargs\u001b[0m\u001b[0;34m)\u001b[0m\u001b[0;34m\u001b[0m\u001b[0;34m\u001b[0m\u001b[0m\n\u001b[0m\u001b[1;32m    105\u001b[0m \u001b[0;34m\u001b[0m\u001b[0m\n\u001b[1;32m    106\u001b[0m         \u001b[0;34m@\u001b[0m\u001b[0mclassmethod\u001b[0m\u001b[0;34m\u001b[0m\u001b[0;34m\u001b[0m\u001b[0m\n",
      "\u001b[0;32m/usr/local/Cellar/python/3.7.6_1/Frameworks/Python.framework/Versions/3.7/lib/python3.7/codecs.py\u001b[0m in \u001b[0;36mdecode\u001b[0;34m(self, input, final)\u001b[0m\n\u001b[1;32m    320\u001b[0m         \u001b[0;31m# decode input (taking the buffer into account)\u001b[0m\u001b[0;34m\u001b[0m\u001b[0;34m\u001b[0m\u001b[0;34m\u001b[0m\u001b[0m\n\u001b[1;32m    321\u001b[0m         \u001b[0mdata\u001b[0m \u001b[0;34m=\u001b[0m \u001b[0mself\u001b[0m\u001b[0;34m.\u001b[0m\u001b[0mbuffer\u001b[0m \u001b[0;34m+\u001b[0m \u001b[0minput\u001b[0m\u001b[0;34m\u001b[0m\u001b[0;34m\u001b[0m\u001b[0m\n\u001b[0;32m--> 322\u001b[0;31m         \u001b[0;34m(\u001b[0m\u001b[0mresult\u001b[0m\u001b[0;34m,\u001b[0m \u001b[0mconsumed\u001b[0m\u001b[0;34m)\u001b[0m \u001b[0;34m=\u001b[0m \u001b[0mself\u001b[0m\u001b[0;34m.\u001b[0m\u001b[0m_buffer_decode\u001b[0m\u001b[0;34m(\u001b[0m\u001b[0mdata\u001b[0m\u001b[0;34m,\u001b[0m \u001b[0mself\u001b[0m\u001b[0;34m.\u001b[0m\u001b[0merrors\u001b[0m\u001b[0;34m,\u001b[0m \u001b[0mfinal\u001b[0m\u001b[0;34m)\u001b[0m\u001b[0;34m\u001b[0m\u001b[0;34m\u001b[0m\u001b[0m\n\u001b[0m\u001b[1;32m    323\u001b[0m         \u001b[0;31m# keep undecoded input until the next call\u001b[0m\u001b[0;34m\u001b[0m\u001b[0;34m\u001b[0m\u001b[0;34m\u001b[0m\u001b[0m\n\u001b[1;32m    324\u001b[0m         \u001b[0mself\u001b[0m\u001b[0;34m.\u001b[0m\u001b[0mbuffer\u001b[0m \u001b[0;34m=\u001b[0m \u001b[0mdata\u001b[0m\u001b[0;34m[\u001b[0m\u001b[0mconsumed\u001b[0m\u001b[0;34m:\u001b[0m\u001b[0;34m]\u001b[0m\u001b[0;34m\u001b[0m\u001b[0;34m\u001b[0m\u001b[0m\n",
      "\u001b[0;31mUnicodeDecodeError\u001b[0m: 'utf-8' codec can't decode byte 0xf1 in position 75: invalid continuation byte"
     ]
    }
   ],
   "source": [
    "bionet = BREAST_CANCER()\n",
    "N = bionet.Nnodes\n",
    "\n",
    "focusnodes = [3,4,5,6,7,8,9]\n",
    "\n",
    "n_steps= 20\n",
    "n_traj = 10**5\n",
    "\n",
    "influence = np.zeros((3, 10, n_steps, N))\n",
    "    \n",
    "for inode in focusnodes:\n",
    "    print(inode, bionet.get_node_name([inode]))\n",
    "    influence[0,inode] = bionet.partial_derative_node(inode, n_traj=n_traj, t=n_steps)\n",
    "    influence[1,inode] = bionet.approx_dynamic_impact(inode, n_steps=n_steps, mode='effective', bound='mean', \n",
    "                                                  min_log_prob=np.log(10**(-5)))\n",
    "    influence[2,inode] = bionet.approx_dynamic_impact(inode, n_steps=n_steps, mode='structural',\n",
    "                                                  min_log_prob=np.log(10**(-5)))\n",
    "\n",
    "\n"
   ]
  },
  {
   "cell_type": "code",
   "execution_count": null,
   "metadata": {},
   "outputs": [],
   "source": []
  }
 ],
 "metadata": {
  "kernelspec": {
   "display_name": "Python 3",
   "language": "python",
   "name": "python3"
  },
  "language_info": {
   "codemirror_mode": {
    "name": "ipython",
    "version": 3
   },
   "file_extension": ".py",
   "mimetype": "text/x-python",
   "name": "python",
   "nbconvert_exporter": "python",
   "pygments_lexer": "ipython3",
   "version": "3.7.5"
  }
 },
 "nbformat": 4,
 "nbformat_minor": 4
}
