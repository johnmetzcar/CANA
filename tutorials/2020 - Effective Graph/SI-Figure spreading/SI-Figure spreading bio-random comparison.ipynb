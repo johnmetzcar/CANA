{
 "cells": [
  {
   "cell_type": "markdown",
   "metadata": {},
   "source": [
    "# Effective Graph Paper\n",
    "Code to generate \"SI Figure - Spreading bio-random comparison\""
   ]
  },
  {
   "cell_type": "code",
   "execution_count": 1,
   "metadata": {},
   "outputs": [],
   "source": [
    "%load_ext autoreload\n",
    "%autoreload 2\n",
    "%matplotlib inline"
   ]
  },
  {
   "cell_type": "code",
   "execution_count": 2,
   "metadata": {},
   "outputs": [],
   "source": [
    "import numpy as np\n",
    "import pandas as pd\n",
    "import matplotlib as mpl\n",
    "mpl.rcParams['mathtext.fontset'] = 'cm'\n",
    "mpl.rcParams['mathtext.rm'] = 'serif'\n",
    "import matplotlib.pyplot as plt\n",
    "import matplotlib.gridspec as gridspec"
   ]
  },
  {
   "cell_type": "code",
   "execution_count": 14,
   "metadata": {},
   "outputs": [],
   "source": [
    "dfB = pd.read_csv('../Figure 2/BioNetworkEdgeEffectiveness.csv')"
   ]
  },
  {
   "cell_type": "code",
   "execution_count": 15,
   "metadata": {},
   "outputs": [
    {
     "name": "stderr",
     "output_type": "stream",
     "text": [
      "/anaconda3/lib/python3.7/site-packages/IPython/core/interactiveshell.py:3051: DtypeWarning: Columns (0) have mixed types. Specify dtype option on import or set low_memory=False.\n",
      "  interactivity=interactivity, compiler=compiler, result=result)\n"
     ]
    }
   ],
   "source": [
    "dfBR = pd.read_csv('../Figure 2/BioNetworkRandomEnsembleEdgeEffectiveness.csv.gz', index_col=0)"
   ]
  },
  {
   "cell_type": "code",
   "execution_count": null,
   "metadata": {},
   "outputs": [],
   "source": []
  },
  {
   "cell_type": "code",
   "execution_count": 28,
   "metadata": {},
   "outputs": [
    {
     "name": "stdout",
     "output_type": "stream",
     "text": [
      "Plotting k:2\n",
      "loading files\n",
      "ploting\n",
      "Plotting k:3\n",
      "loading files\n",
      "ploting\n",
      "Plotting k:4\n",
      "loading files\n",
      "ploting\n",
      "Plotting k:5\n",
      "loading files\n",
      "ploting\n",
      "Plotting k:6\n",
      "loading files\n",
      "ploting\n",
      "Plotting k:7\n",
      "loading files\n",
      "ploting\n"
     ]
    },
    {
     "data": {
      "image/png": "[encoded data removed]",
      "text/plain": [
       "<Figure size 720x345.6 with 12 Axes>"
      ]
     },
     "metadata": {
      "needs_background": "light"
     },
     "output_type": "display_data"
    }
   ],
   "source": [
    "\"\"\"\n",
    "fig = plt.figure(constrained_layout=False, figsize=(8.5,11))\n",
    "gs = gridspec.GridSpec(ncols=4, nrows=2, figure=fig)\n",
    "#\n",
    "ax1 = fig.add_subplot(gs[0, 0])\n",
    "ax2 = fig.add_subplot(gs[1, 0])\n",
    "ax3 = fig.add_subplot(gs[0, 1])\n",
    "ax4 = fig.add_subplot(gs[1, 1])\n",
    "ax5 = fig.add_subplot(gs[0, 2])\n",
    "ax6 = fig.add_subplot(gs[1, 2])\n",
    "ax7 = fig.add_subplot(gs[0, 3])\n",
    "ax8 = fig.add_subplot(gs[1, 3])\n",
    "axes = [(ax1, ax2), (ax3, ax4), (ax5, ax6), (ax7, ax8)]\n",
    "\"\"\"\n",
    "fig, axes = plt.subplots(figsize=(10.0,4.8), ncols=6, nrows=2)\n",
    "#\n",
    "flierprops = dict(marker='o', markersize=2, markeredgecolor='black', markeredgewidth=.5, rasterized=True)\n",
    "medianprops = dict(color='black')\n",
    "path = '../Figure 2/data/'\n",
    "\n",
    "for idx, degree in enumerate([2, 3, 4, 5, 6, 7], start=0):\n",
    "#\n",
    "    print('Plotting k:{k:d}'.format(k=degree))\n",
    "    \n",
    "    print('loading files')\n",
    "    bfile = 'BioNetworkEffectivenessK{k:d}.tsv'.format(k=degree)\n",
    "    bgfile = 'BioNetworkEffectivenessGiniK{k:d}.tsv'.format(k=degree)\n",
    "    mfile = 'MatchedBioNetworkEffectivenessK{k:d}.tsv'.format(k=degree)\n",
    "    mgfile = 'MatchedBioNetworkEffectivenessGiniK{k:d}.tsv'.format(k=degree)\n",
    "    #\n",
    "    dfB = pd.read_csv(path + bfile, sep='\\t')\n",
    "    dfBG = pd.read_csv(path + bgfile, sep='\\t')\n",
    "    dfM = pd.read_csv(path + mfile, sep='\\t')\n",
    "    dfMG = pd.read_csv(path + mgfile, sep='\\t')\n",
    "    #\n",
    "    dfMg = dfM.groupby(['Boolean Network', 'Node', 'Input']).agg({'Input Effectiveness':['mean', 'std']})\n",
    "    dfMGg = dfMG.groupby(['Boolean Network', 'Node']).agg({'Input Effectiveness Gini':['mean', 'std']})\n",
    "    #\n",
    "    print('ploting')\n",
    "    axt = axes[0][idx]\n",
    "    axb = axes[1][idx]\n",
    "    #\n",
    "    res = axt.boxplot([dfB['Input Effectiveness'], dfMg[('Input Effectiveness', 'mean')]], notch=True, patch_artist=True, widths=0.3, flierprops=flierprops)\n",
    "\n",
    "    colors = ['#2ca02c', '#e377c2']\n",
    "    for box, median, color in zip(res['boxes'], res['medians'], colors):\n",
    "        box.set_facecolor(color)\n",
    "        median.set_c('k')\n",
    "        median.set_lw(2)\n",
    "\n",
    "\n",
    "    axt.set_xticks(range(1,3))\n",
    "    axt.set_xticklabels([]) #'Cell Collective\\nautomata', 'Random\\nautomata'])\n",
    "    axt.set_title(r\"Fixed $\\rho$, $k={k:d}$\".format(k=degree))\n",
    "    axt.grid()\n",
    "    axt.set_ylim(-0.04, 1.04)\n",
    "\n",
    "\n",
    "    res = axb.boxplot([dfBG['Input Effectiveness Gini'], dfMGg[('Input Effectiveness Gini', 'mean')]], notch=True, patch_artist=True, widths=0.3, flierprops=flierprops)\n",
    "\n",
    "    colors = ['#2ca02c', '#17becf']\n",
    "    for box, median, color in zip(res['boxes'], res['medians'], colors):\n",
    "        box.set_facecolor(color)\n",
    "        median.set_c('k')\n",
    "        median.set_lw(2)\n",
    "\n",
    "    if idx > 0:\n",
    "        axt.set_yticklabels([])\n",
    "        axb.set_yticklabels([])\n",
    "    axb.set_xticks(range(1,3))\n",
    "    axb.set_xticklabels(['Cell Collective\\nautomata', 'Random\\nautomata'], fontsize='small')\n",
    "    #axb.set_title(r\"Fixed bias with hard constraint and $k>1$\")\n",
    "    axb.grid()\n",
    "    axb.set_ylim(-0.04,0.84)\n",
    "\n",
    "#\n",
    "axes[0][0].set_ylabel('Edge effectiveness')\n",
    "axes[1][0].set_ylabel('Edge effectiveness Gini')\n",
    "#\n",
    "plt.subplots_adjust(left=0.06, right=0.98, bottom=0.10, top=0.92, wspace=0.1, hspace=0.1)\n",
    "plt.savefig(\"EdgeEffectivenessMultipleK.pdf\", dpi=300)\n",
    "plt.show()"
   ]
  },
  {
   "cell_type": "code",
   "execution_count": null,
   "metadata": {},
   "outputs": [],
   "source": []
  }
 ],
 "metadata": {
  "kernelspec": {
   "display_name": "Python 3",
   "language": "python",
   "name": "python3"
  },
  "language_info": {
   "codemirror_mode": {
    "name": "ipython",
    "version": 3
   },
   "file_extension": ".py",
   "mimetype": "text/x-python",
   "name": "python",
   "nbconvert_exporter": "python",
   "pygments_lexer": "ipython3",
   "version": "3.7.7"
  }
 },
 "nbformat": 4,
 "nbformat_minor": 4
}
