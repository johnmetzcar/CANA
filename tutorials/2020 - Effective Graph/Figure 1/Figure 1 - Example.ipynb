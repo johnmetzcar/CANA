{
 "cells": [
  {
   "cell_type": "markdown",
   "metadata": {},
   "source": [
    "# Effective Graph Paper\n",
    "Code to generate \"Figure 1 - Effective Graph Example\""
   ]
  },
  {
   "cell_type": "code",
   "execution_count": 1,
   "metadata": {},
   "outputs": [],
   "source": [
    "%load_ext autoreload\n",
    "%autoreload 2\n",
    "%matplotlib inline"
   ]
  },
  {
   "cell_type": "code",
   "execution_count": 24,
   "metadata": {},
   "outputs": [],
   "source": [
    "import numpy as np\n",
    "import graphviz\n",
    "import math\n",
    "import cana\n",
    "from cana.boolean_network import BooleanNetwork\n",
    "from collections import defaultdict\n",
    "import matplotlib as mpl\n",
    "mpl.rcParams['mathtext.fontset'] = 'cm'\n",
    "mpl.rcParams['mathtext.rm'] = 'serif'\n",
    "import matplotlib.pyplot as plt\n",
    "from matplotlib.colors import LinearSegmentedColormap\n",
    "from matplotlib.text import Text\n",
    "from matplotlib.patches import Circle, Rectangle, RegularPolygon\n",
    "from matplotlib.collections import PatchCollection\n",
    "from IPython.display import display, SVG\n",
    "import networkx as nx"
   ]
  },
  {
   "cell_type": "code",
   "execution_count": 37,
   "metadata": {
    "scrolled": true
   },
   "outputs": [
    {
     "name": "stdout",
     "output_type": "stream",
     "text": [
      "<BNetwork(Name='A', N=4, Nodes=['x1', 'x2', 'x3', 'x4'])>\n",
      "defaultdict(<class 'dict'>, {0: {'pos': '0.22,1.78', 'color': '#1f77b4'}, 1: {'pos': '0.72,-0.06', 'color': '#1f77b4'}, 2: {'pos': '2.06,1.28', 'color': '#1f77b4'}, 3: {'pos': '1.00,1.00', 'color': '#2ca02c'}})\n"
     ]
    }
   ],
   "source": [
    "# Graph Example\n",
    "logic = {\n",
    "    0 : {'name':r'x1', 'in':[],     'out':[1] },\n",
    "    1 : {'name':r'x2', 'in':[],     'out':[1] },\n",
    "    2 : {'name':r'x3', 'in':[],     'out':[1] },\n",
    "    3 : {'name':r'x4', 'in':[0,1,2],   'out':[0,0,0,0, 0,0,1,1]},\n",
    "}\n",
    "N = cana.boolean_network.BooleanNetwork(name='A', Nnodes=len(logic), logic=logic)\n",
    "print(N)\n",
    "# Attributes\n",
    "att = defaultdict(dict)\n",
    "# Position\n",
    "cx, cy = 1,1\n",
    "for i,deg in enumerate(np.linspace(0,360,4),start=0):\n",
    "    r = 1.1\n",
    "    deg += 135\n",
    "    x, y = cx + r * math.cos(math.radians(deg)), cy + r * math.sin(math.radians(deg))\n",
    "    att[i]['pos'] = \"{:.2f},{:.2f}\".format(x,y)\n",
    "att[3]['pos'] = \"{:.2f},{:.2f}\".format(cx,cy)\n",
    "# Color\n",
    "att[0]['color'] = '#1f77b4'\n",
    "att[1]['color'] = '#1f77b4'\n",
    "att[2]['color'] = '#1f77b4'\n",
    "att[3]['color'] = '#2ca02c'\n",
    "#\n",
    "SG = N.structural_graph()\n",
    "EG = N.effective_graph(mode='input', bound='mean', threshold=-1)\n",
    "\n",
    "# Compute TwoSymbols for Node 3\n",
    "N.nodes[3]._check_compute_canalization_variables(two_symbols=True)\n",
    "print(att)"
   ]
  },
  {
   "cell_type": "code",
   "execution_count": 38,
   "metadata": {},
   "outputs": [
    {
     "data": {
      "image/png": "[encoded data removed]",
      "text/plain": [
       "<Figure size 144x144 with 1 Axes>"
      ]
     },
     "metadata": {},
     "output_type": "display_data"
    }
   ],
   "source": [
    "# ColorBar\n",
    "interval = np.linspace(0.3, 1.0, 256)\n",
    "colors = plt.cm.Greys(interval)\n",
    "cmap = LinearSegmentedColormap.from_list('custom', colors)\n",
    "cmap.set_under('#A90533')\n",
    "norm = mpl.colors.Normalize(vmin=0, vmax=1)\n",
    "\n",
    "fig = plt.figure(figsize=(2,2))\n",
    "ax = fig.add_axes([0.1, 0.05, 0.11, 0.9])\n",
    "bounds = [0,0.2,0.4,0.6,0.8,1]\n",
    "boundaries = [-100] + np.linspace(0,1,20).tolist()\n",
    "\n",
    "cb = mpl.colorbar.ColorbarBase(ax, cmap=cmap, norm=norm, boundaries=boundaries,\n",
    "    extend='min', extendfrac=.15, ticks=bounds, spacing='uniform', orientation='vertical')\n",
    "\n",
    "\n",
    "display(fig)\n",
    "#plt.savefig('{path:s}/figure-example/colorbar.svg'.format(path=os.getcwd()),transparent=True)\n",
    "plt.close()\n"
   ]
  },
  {
   "cell_type": "code",
   "execution_count": 52,
   "metadata": {
    "scrolled": true
   },
   "outputs": [
    {
     "data": {
      "image/svg+xml": [
       "<svg height=\"180pt\" viewBox=\"0.00 0.00 180.48 180.48\" width=\"180pt\" xmlns=\"http://www.w3.org/2000/svg\" xmlns:xlink=\"http://www.w3.org/1999/xlink\">\n",
       "<g class=\"graph\" id=\"graph0\" transform=\"scale(1 1) rotate(0) translate(4 176.48)\">\n",
       "<title>Structural Graph</title>\n",
       "<polygon fill=\"#ffffff\" points=\"-4,4 -4,-176.48 176.48,-176.48 176.48,4 -4,4\" stroke=\"transparent\"/>\n",
       "<!-- 0 -->\n",
       "<g class=\"node\" id=\"node1\">\n",
       "<title>0</title>\n",
       "<ellipse cx=\"20\" cy=\"-152.48\" fill=\"#ffffff\" rx=\"20\" ry=\"20\" stroke=\"#1f77b4\" stroke-width=\"4\"/>\n",
       "</g>\n",
       "<!-- 3 -->\n",
       "<g class=\"node\" id=\"node4\">\n",
       "<title>3</title>\n",
       "<ellipse cx=\"76.16\" cy=\"-96.32\" fill=\"#ffffff\" rx=\"20\" ry=\"20\" stroke=\"#2ca02c\" stroke-width=\"4\"/>\n",
       "</g>\n",
       "<!-- 0&#45;&gt;3 -->\n",
       "<g class=\"edge\" id=\"edge1\">\n",
       "<title>0-&gt;3</title>\n",
       "<path d=\"M34.1715,-138.3085C41.4319,-131.0481 50.352,-122.128 58.1004,-114.3796\" fill=\"none\" stroke=\"#000000\" stroke-width=\"4\"/>\n",
       "<polygon fill=\"#000000\" points=\"59.4995,-115.4554 61.7977,-110.6823 57.0246,-112.9805 59.4995,-115.4554\" stroke=\"#000000\" stroke-width=\"4\"/>\n",
       "</g>\n",
       "<!-- 1 -->\n",
       "<g class=\"node\" id=\"node2\">\n",
       "<title>1</title>\n",
       "<ellipse cx=\"56\" cy=\"-20\" fill=\"#ffffff\" rx=\"20\" ry=\"20\" stroke=\"#1f77b4\" stroke-width=\"4\"/>\n",
       "</g>\n",
       "<!-- 1&#45;&gt;3 -->\n",
       "<g class=\"edge\" id=\"edge2\">\n",
       "<title>1-&gt;3</title>\n",
       "<path d=\"M61.1917,-39.6543C63.7784,-49.4468 66.9317,-61.3845 69.6759,-71.7731\" fill=\"none\" stroke=\"#000000\" stroke-width=\"4\"/>\n",
       "<polygon fill=\"#000000\" points=\"68.0169,-72.3451 70.9859,-76.7323 71.4008,-71.4512 68.0169,-72.3451\" stroke=\"#000000\" stroke-width=\"4\"/>\n",
       "</g>\n",
       "<!-- 2 -->\n",
       "<g class=\"node\" id=\"node3\">\n",
       "<title>2</title>\n",
       "<ellipse cx=\"152.48\" cy=\"-116.48\" fill=\"#ffffff\" rx=\"20\" ry=\"20\" stroke=\"#1f77b4\" stroke-width=\"4\"/>\n",
       "</g>\n",
       "<!-- 2&#45;&gt;3 -->\n",
       "<g class=\"edge\" id=\"edge3\">\n",
       "<title>2-&gt;3</title>\n",
       "<path d=\"M132.8257,-111.2883C123.0332,-108.7016 111.0955,-105.5483 100.7069,-102.8041\" fill=\"none\" stroke=\"#000000\" stroke-width=\"4\"/>\n",
       "<polygon fill=\"#000000\" points=\"101.0288,-101.0792 95.7477,-101.4941 100.1349,-104.4631 101.0288,-101.0792\" stroke=\"#000000\" stroke-width=\"4\"/>\n",
       "</g>\n",
       "</g>\n",
       "</svg>"
      ],
      "text/plain": [
       "<IPython.core.display.SVG object>"
      ]
     },
     "metadata": {
      "isolated": true
     },
     "output_type": "display_data"
    },
    {
     "data": {
      "text/plain": [
       "'SG.svg'"
      ]
     },
     "execution_count": 52,
     "metadata": {},
     "output_type": "execute_result"
    }
   ],
   "source": [
    "pSG = graphviz.Digraph(name='Structural Graph', engine='neato')\n",
    "pSG.attr('graph', size='3,3', concentrate='false', simplify='false', overlap='false',splines='false',ratio='1')\n",
    "pSG.attr('node', pin='true', shape='circle', fixedsize='true', width='.55', color='#00594c', style='filled', fillcolor='#515660', penwidth='4', fontname='Helvetica', fontcolor='black',fontsize='12')\n",
    "pSG.attr('edge', arrowhead='normal', arrowsize='.5', color='black', penwidth='4')\n",
    "\n",
    "for nid, d in SG.nodes(data=True):\n",
    "    label = ''#str(d['label'])\n",
    "    pos = att[nid]['pos']\n",
    "    color = att[nid]['color']\n",
    "    fillcolor = 'white'\n",
    "    pSG.node(str(nid), label=label, pos=pos, color=color, fillcolor=fillcolor)\n",
    "\n",
    "for uid,vid,d in SG.edges(data=True):\n",
    "    uid = str(uid)\n",
    "    vid = str(vid)\n",
    "    pSG.edge(uid, vid)\n",
    "    \n",
    "display(pSG)\n",
    "# Export\n",
    "pSG.render(\"IG\", cleanup=True)"
   ]
  },
  {
   "cell_type": "code",
   "execution_count": 54,
   "metadata": {
    "scrolled": true
   },
   "outputs": [
    {
     "data": {
      "image/svg+xml": [
       "<svg height=\"180pt\" viewBox=\"0.00 0.00 180.48 180.48\" width=\"180pt\" xmlns=\"http://www.w3.org/2000/svg\" xmlns:xlink=\"http://www.w3.org/1999/xlink\">\n",
       "<g class=\"graph\" id=\"graph0\" transform=\"scale(1 1) rotate(0) translate(4 176.48)\">\n",
       "<title>Effective Graph</title>\n",
       "<polygon fill=\"#ffffff\" points=\"-4,4 -4,-176.48 176.48,-176.48 176.48,4 -4,4\" stroke=\"transparent\"/>\n",
       "<!-- 0 -->\n",
       "<g class=\"node\" id=\"node1\">\n",
       "<title>0</title>\n",
       "<ellipse cx=\"20\" cy=\"-152.48\" fill=\"#ffffff\" rx=\"20\" ry=\"20\" stroke=\"#1f77b4\" stroke-width=\"4\"/>\n",
       "</g>\n",
       "<!-- 3 -->\n",
       "<g class=\"node\" id=\"node4\">\n",
       "<title>3</title>\n",
       "<ellipse cx=\"76.16\" cy=\"-96.32\" fill=\"#ffffff\" rx=\"20\" ry=\"20\" stroke=\"#2ca02c\" stroke-width=\"4\"/>\n",
       "</g>\n",
       "<!-- 0&#45;&gt;3 -->\n",
       "<g class=\"edge\" id=\"edge1\">\n",
       "<title>0-&gt;3</title>\n",
       "<path d=\"M34.1715,-138.3085C40.3759,-132.1041 47.7922,-124.6878 54.6536,-117.8264\" fill=\"none\" stroke=\"#000000\" stroke-width=\"2.5\"/>\n",
       "<polygon fill=\"#000000\" points=\"57.2014,-120.2283 61.7977,-110.6823 52.2517,-115.2786 57.2014,-120.2283\" stroke=\"#000000\" stroke-width=\"2.5\"/>\n",
       "</g>\n",
       "<!-- 1 -->\n",
       "<g class=\"node\" id=\"node2\">\n",
       "<title>1</title>\n",
       "<ellipse cx=\"56\" cy=\"-20\" fill=\"#ffffff\" rx=\"20\" ry=\"20\" stroke=\"#1f77b4\" stroke-width=\"4\"/>\n",
       "</g>\n",
       "<!-- 1&#45;&gt;3 -->\n",
       "<g class=\"edge\" id=\"edge2\">\n",
       "<title>1-&gt;3</title>\n",
       "<path d=\"M61.1917,-39.6543C63.3786,-47.9334 65.9706,-57.7459 68.3779,-66.8592\" fill=\"none\" stroke=\"#000000\" stroke-width=\"2.5\"/>\n",
       "<polygon fill=\"#000000\" points=\"65.048,-67.9578 70.9859,-76.7323 71.8158,-66.17 65.048,-67.9578\" stroke=\"#000000\" stroke-width=\"2.5\"/>\n",
       "</g>\n",
       "<!-- 2 -->\n",
       "<g class=\"node\" id=\"node3\">\n",
       "<title>2</title>\n",
       "<ellipse cx=\"152.48\" cy=\"-116.48\" fill=\"#ffffff\" rx=\"20\" ry=\"20\" stroke=\"#1f77b4\" stroke-width=\"4\"/>\n",
       "</g>\n",
       "<!-- 2&#45;&gt;3 -->\n",
       "<g class=\"edge\" id=\"edge3\">\n",
       "<title>2-&gt;3</title>\n",
       "<path d=\"M132.8257,-111.2883C124.5466,-109.1014 114.7341,-106.5094 105.6208,-104.1021\" fill=\"none\" stroke=\"#d62728\" stroke-dasharray=\"5,2\" stroke-width=\"4\"/>\n",
       "<polygon fill=\"#d62728\" points=\"106.31,-100.6642 95.7477,-101.4941 104.5222,-107.432 106.31,-100.6642\" stroke=\"#d62728\" stroke-width=\"4\"/>\n",
       "</g>\n",
       "</g>\n",
       "</svg>"
      ],
      "text/plain": [
       "<IPython.core.display.SVG object>"
      ]
     },
     "metadata": {
      "isolated": true
     },
     "output_type": "display_data"
    },
    {
     "data": {
      "text/plain": [
       "'EG.svg'"
      ]
     },
     "execution_count": 54,
     "metadata": {},
     "output_type": "execute_result"
    }
   ],
   "source": [
    "pEG = graphviz.Digraph(name='Effective Graph', engine='neato')\n",
    "pEG.attr('graph', size='3,3', concentrate='false', simplify='false', overlap='false',splines='false', ratio='1')\n",
    "pEG.attr('node', pin='true', shape='circle', fixedsize='true', width='.55', color='#00594c', style='filled', fillcolor='#515660', penwidth='4', fontname='Helvetica', fontcolor='black',fontsize='14')\n",
    "pEG.attr('edge', arrowhead='normal', arrowsize='1', color='black', penwidth='4')\n",
    "\n",
    "for nid, d in EG.nodes(data=True):\n",
    "    label = ''#d['label']\n",
    "    pos = att[nid]['pos']\n",
    "    color = att[nid]['color']\n",
    "    fillcolor = 'white'\n",
    "    pEG.node(str(nid), label=label, pos=pos, color=color, fillcolor=fillcolor)\n",
    "\n",
    "max_penwidth = 4\n",
    "for uid, vid, d in EG.edges(data=True):\n",
    "    uid = str(uid)\n",
    "    vid = str(vid)\n",
    "    weight = '{:f}'.format(d['weight']*100)\n",
    "    penwidth = '%.2f' % ( d['weight']*max_penwidth )\n",
    "    label = \"\"#\"{:.3f}\".format(d['weight'])\n",
    "    if d['weight'] > 0:\n",
    "        rgb = cmap(d['weight'])\n",
    "        hex = mpl.colors.rgb2hex(rgb)\n",
    "        pEG.edge(uid, vid, label=label, weight=weight, penwidth=penwidth)\n",
    "    else:\n",
    "        pEG.edge(uid, vid, label=label, style='dashed', color='#d62728')\n",
    "    \n",
    "display(pEG)\n",
    "# Export\n",
    "pEG.render(\"EG\", cleanup=True)"
   ]
  },
  {
   "cell_type": "code",
   "execution_count": 48,
   "metadata": {},
   "outputs": [],
   "source": [
    "def plot_look_up_table(nid, n):\n",
    "    # Init values from BooleanNode\n",
    "    k = n.k if n.k>=1 else 1\n",
    "    inputs = n.inputs if not n.constant else [n.name]\n",
    "    LUT = n.look_up_table().sort_index(ascending=False)\n",
    "    # Count number of F in the LUT\n",
    "    n_fs = LUT.shape[0]\n",
    "    # Schemata Cell Width and spacing\n",
    "    cwidth = 60.\n",
    "    cxspace = 0\n",
    "    cyspace = 6\n",
    "    border = 1\n",
    "    sepcxspace = 21\n",
    "    sepcyspace = 15\n",
    "    dpi = 150.\n",
    "    # Margins\n",
    "    top, right, bottom, left, hs = 120, 25, 25, 60, 25\n",
    "    # Axes Width & Height\n",
    "    ax1width = ((k*(cwidth+cxspace))+sepcxspace+(cwidth))\n",
    "    ax1height = (n_fs*(cwidth+cyspace)-cyspace)\n",
    "    # Figure Width & Height\n",
    "    fwidth = (left + ax1width + hs + right)\n",
    "    fheight = (bottom + ax1height + top)\n",
    "    # Percentages for Axes location\n",
    "    _ax1w = ((ax1width*100) / fwidth) / 100\n",
    "    _ax1h = ((ax1height*100) / fheight) / 100\n",
    "    _bottom = ((bottom*100) / fheight) / 100\n",
    "    _left = ((left*100) / fwidth) / 100\n",
    "    _hs = ((hs*100) / fwidth) / 100\n",
    "    # Init Figure\n",
    "    fig = plt.figure(figsize=(fwidth/dpi,fheight/dpi), facecolor='w', dpi=dpi)\n",
    "    ax1 = fig.add_axes((_left,_bottom,_ax1w,_ax1h), aspect=1, label='LUT')\n",
    "\n",
    "    ### LUT Plot ###\n",
    "\n",
    "    yticks = []\n",
    "    patches = []\n",
    "    x,y = 0.,0.\n",
    "    #\n",
    "    for i,r in LUT.iterrows():\n",
    "        ins = str(r['In:'])\n",
    "        out = r['Out:']\n",
    "        x = 0.\n",
    "        xticks = []\n",
    "        for input in ins:\n",
    "            if input == '0':\n",
    "                facecolor = 'white'\n",
    "                textcolor = 'black'\n",
    "            elif input == '1':\n",
    "                facecolor = 'black'\n",
    "                textcolor = 'white'      \n",
    "            text = '%s'%(input)\n",
    "            ax1.add_artist(Text(x+cwidth/2,y+cwidth/10*4, text=text, color=textcolor, va='center', ha='center',fontsize=14,family='serif'))\n",
    "            r = Rectangle((x,y), width=cwidth, height=cwidth, facecolor=facecolor, edgecolor='black')\n",
    "            patches.append(r)\n",
    "            xticks.append(x+cwidth/2)\n",
    "            x += cwidth + cxspace\n",
    "\n",
    "        x += sepcxspace\n",
    "        r = Rectangle((x,y), width=cwidth, height=cwidth, facecolor='black' if (out==1) else 'white', edgecolor='black')\n",
    "        ax1.add_artist(Text(x-(sepcxspace/2)-(cxspace/2),y+cwidth/10*5, text=':', color='black', va='center', ha='center',fontsize=14,weight='bold',family='serif'))\n",
    "        ax1.add_artist(Text(x+(cwidth/2),y+cwidth/10*4, text=out, color='white' if (out==1) else 'black', va='center', ha='center',fontsize=14,family='serif'))\n",
    "        patches.append(r)\n",
    "        xticks.append(x+cwidth/2)\n",
    "        yticks.append(y+cwidth/2)\n",
    "        y += cwidth + cyspace\n",
    "\n",
    "        #y += sepcyspace\n",
    "\n",
    "    ax1.add_collection(PatchCollection(patches,match_original=True))\n",
    "    #\n",
    "    ax1.set_yticks(yticks)\n",
    "    ax1.set_yticklabels([r\"$f_{%d}$\"%(i+1) for i in range(n_fs)[::-1]], fontsize=14)\n",
    "    ax1.set_xticks(xticks)\n",
    "    ax1.set_xticklabels(inputs + ['%s'%(n.name)], rotation=0, fontsize=14)\n",
    "    #\n",
    "    ax1.xaxis.tick_top()\n",
    "    # Remove Tick\n",
    "    ax1.tick_params(which='major',pad=7)\n",
    "    for tic in ax1.xaxis.get_major_ticks():\n",
    "        tic.tick1On = tic.tick2On = False\n",
    "    for tic in ax1.yaxis.get_major_ticks():\n",
    "        tic.tick1On = tic.tick2On = False\n",
    "    # Remove Border\n",
    "    ax1.spines['top'].set_visible(False)\n",
    "    ax1.spines['right'].set_visible(False)\n",
    "    ax1.spines['bottom'].set_visible(False)\n",
    "    ax1.spines['left'].set_visible(False)\n",
    "    # Limits\n",
    "    ax1.set_xlim(-border,ax1width+border)\n",
    "    ax1.set_ylim(-border,ax1height+border)\n",
    "    #ax1.invert_yaxis() \n",
    "\n",
    "    # FileName\n",
    "    filename = n.name\n",
    "    filename = filename.replace('/','_')\n",
    "    filename = filename.replace(',','_')\n",
    "    \n",
    "    ## Display\n",
    "    display(fig)\n",
    "    \n",
    "    ## Save to file\n",
    "    plt.savefig('LUT-{nid:d}.svg'.format(nid=nid), dpi=dpi, transparent=True)\n",
    "    plt.close()"
   ]
  },
  {
   "cell_type": "code",
   "execution_count": 49,
   "metadata": {
    "scrolled": false
   },
   "outputs": [
    {
     "name": "stderr",
     "output_type": "stream",
     "text": [
      "/anaconda3/lib/python3.7/site-packages/ipykernel_launcher.py:81: MatplotlibDeprecationWarning: \n",
      "The tick1On function was deprecated in Matplotlib 3.1 and will be removed in 3.3. Use Tick.tick1line.set_visible instead.\n",
      "/anaconda3/lib/python3.7/site-packages/ipykernel_launcher.py:81: MatplotlibDeprecationWarning: \n",
      "The tick2On function was deprecated in Matplotlib 3.1 and will be removed in 3.3. Use Tick.tick2line.set_visible instead.\n",
      "/anaconda3/lib/python3.7/site-packages/ipykernel_launcher.py:83: MatplotlibDeprecationWarning: \n",
      "The tick1On function was deprecated in Matplotlib 3.1 and will be removed in 3.3. Use Tick.tick1line.set_visible instead.\n",
      "/anaconda3/lib/python3.7/site-packages/ipykernel_launcher.py:83: MatplotlibDeprecationWarning: \n",
      "The tick2On function was deprecated in Matplotlib 3.1 and will be removed in 3.3. Use Tick.tick2line.set_visible instead.\n"
     ]
    },
    {
     "data": {
      "image/png": "[encoded data removed]",
      "text/plain": [
       "<Figure size 371x667 with 1 Axes>"
      ]
     },
     "metadata": {},
     "output_type": "display_data"
    }
   ],
   "source": [
    "nid = 3\n",
    "node = N.nodes[nid]\n",
    "plot_look_up_table(nid,N.nodes[nid])"
   ]
  },
  {
   "cell_type": "code",
   "execution_count": 50,
   "metadata": {},
   "outputs": [],
   "source": [
    "def plot_schemata(nid, n):\n",
    "    # Init values from BooleanNode\n",
    "    k = n.k if n.k>=1 else 1\n",
    "    inputs = n.inputs if not n.constant else [n.name]\n",
    "    pi0s,pi1s = n._prime_implicants\n",
    "    ts0s,ts1s = n._two_symbols\n",
    "    # Count number of PI and TS\n",
    "    n_pi = sum(len(pis) for pis in [pi0s,pi1s])\n",
    "    n_ts = sum(len(tss) for tss in [ts0s,ts1s])\n",
    "    # Schemata Cell Width and spacing\n",
    "    cwidth = 60.\n",
    "    cxspace = 0\n",
    "    cyspace = 6\n",
    "    border = 1\n",
    "    sepcxspace = 21\n",
    "    sepcyspace = 15\n",
    "    dpi = 150.\n",
    "    # Margins\n",
    "    top, right, bottom, left, hs = 160, 25, 25, 60, 90\n",
    "    # Axes Width & Height\n",
    "    ax1width = ((k*(cwidth+cxspace))+sepcxspace+(cwidth))\n",
    "    ax1height = (n_pi*(cwidth+cyspace)+sepcyspace-cyspace)\n",
    "    ax2width = ((k*(cwidth+cxspace))+sepcxspace+(cwidth))\n",
    "    ax2height = (n_ts*(cwidth+cyspace)+sepcyspace-cyspace)\n",
    "    # Figure Width & Height\n",
    "    fwidth = (left + ax1width + hs + ax2width + right)\n",
    "    fheight = (bottom + max(ax1height,ax2height) + top)\n",
    "    # Percentages for Axes location\n",
    "    _ax1w = ((ax1width*100) / fwidth) / 100\n",
    "    _ax2w = ((ax2width*100) / fwidth) / 100\n",
    "    _ax1h = ((ax1height*100) / fheight) / 100\n",
    "    _ax2h = ((ax2height*100) / fheight) / 100\n",
    "    _bottom = ((bottom*100) / fheight) / 100\n",
    "    _left = ((left*100) / fwidth) / 100\n",
    "    _hs = ((hs*100) / fwidth) / 100\n",
    "    # Init Figure\n",
    "    fig = plt.figure(figsize=(fwidth/dpi,fheight/dpi), facecolor='w', dpi=dpi)\n",
    "    ax1 = fig.add_axes((_left,_bottom,_ax1w,_ax1h), aspect=1, label='PI')\n",
    "\n",
    "    ### PI Plot ###\n",
    "\n",
    "    yticks = []\n",
    "    patches = []\n",
    "    x,y = 0.,0.\n",
    "    #\n",
    "    for out,pis in zip([1,0],[pi1s,pi0s]):\n",
    "        for pi in pis:\n",
    "            x = 0.\n",
    "            xticks = []\n",
    "            for input in pi:\n",
    "                if input == '0':\n",
    "                    facecolor = 'white'\n",
    "                    textcolor = 'black'\n",
    "                elif input == '1':\n",
    "                    facecolor = 'black'\n",
    "                    textcolor = 'white'\n",
    "                elif input == '2':\n",
    "                    facecolor = '#cccccc'\n",
    "                    textcolor = 'black'            \n",
    "                text = '%s'%(input) if (input!='2') else '#'\n",
    "                ax1.add_artist(Text(x+cwidth/2,y+cwidth/10*4, text=text, color=textcolor, va='center', ha='center',fontsize=14,family='serif'))\n",
    "                r = Rectangle((x,y), width=cwidth, height=cwidth, facecolor=facecolor, edgecolor='black')\n",
    "                patches.append(r)\n",
    "                xticks.append(x+cwidth/2)\n",
    "                x += cwidth + cxspace\n",
    "\n",
    "            x += sepcxspace\n",
    "            r = Rectangle((x,y), width=cwidth, height=cwidth, facecolor='black' if (out==1) else 'white', edgecolor='black')\n",
    "            ax1.add_artist(Text(x-(sepcxspace/2)-(cxspace/2),y+cwidth/10*4, text=':', color='black', va='center', ha='center',fontsize=14,weight='bold',family='serif'))\n",
    "            ax1.add_artist(Text(x+(cwidth/2),y+cwidth/10*4, text=out, color='white' if (out==1) else 'black', va='center', ha='center',fontsize=14,family='serif'))\n",
    "            patches.append(r)\n",
    "            xticks.append(x+cwidth/2)\n",
    "            yticks.append(y+cwidth/2)\n",
    "            y += cwidth + cyspace\n",
    "        y += sepcyspace\n",
    "\n",
    "    ax1.add_collection(PatchCollection(patches,match_original=True))\n",
    "    #\n",
    "    ax1.set_yticks(yticks)\n",
    "    ax1.set_yticklabels([r\"$f^{'}_{%d}$\"%(i+1) for i in range(n_pi)[::-1]], fontsize=14)\n",
    "    ax1.set_xticks(xticks)\n",
    "    ax1.set_xticklabels(inputs + ['%s'%(n.name)], rotation=0, fontsize=14)\n",
    "    #\n",
    "    ax1.xaxis.tick_top()\n",
    "    # Remove Tick\n",
    "    ax1.tick_params(which='major',pad=7)\n",
    "    for tic in ax1.xaxis.get_major_ticks():\n",
    "        tic.tick1On = tic.tick2On = False\n",
    "    for tic in ax1.yaxis.get_major_ticks():\n",
    "        tic.tick1On = tic.tick2On = False\n",
    "    # Remove Border\n",
    "    ax1.spines['top'].set_visible(False)\n",
    "    ax1.spines['right'].set_visible(False)\n",
    "    ax1.spines['bottom'].set_visible(False)\n",
    "    ax1.spines['left'].set_visible(False)\n",
    "    # Limits\n",
    "    ax1.set_xlim(-border,ax1width+border)\n",
    "    ax1.set_ylim(-border,ax1height+border)\n",
    "\n",
    "\n",
    "    # FileName\n",
    "    filename = n.name.replace('/','_')\n",
    "    filename = filename.replace(',','_')\n",
    "    \n",
    "    ## Display ##\n",
    "    display(fig)\n",
    "    \n",
    "    ## Save to file\n",
    "    plt.savefig('SCH-{nid:d}.svg'.format(nid=nid), dpi=dpi, transparent=True)\n",
    "    plt.close()"
   ]
  },
  {
   "cell_type": "code",
   "execution_count": 51,
   "metadata": {},
   "outputs": [
    {
     "name": "stderr",
     "output_type": "stream",
     "text": [
      "/anaconda3/lib/python3.7/site-packages/ipykernel_launcher.py:88: MatplotlibDeprecationWarning: \n",
      "The tick1On function was deprecated in Matplotlib 3.1 and will be removed in 3.3. Use Tick.tick1line.set_visible instead.\n",
      "/anaconda3/lib/python3.7/site-packages/ipykernel_launcher.py:88: MatplotlibDeprecationWarning: \n",
      "The tick2On function was deprecated in Matplotlib 3.1 and will be removed in 3.3. Use Tick.tick2line.set_visible instead.\n",
      "/anaconda3/lib/python3.7/site-packages/ipykernel_launcher.py:90: MatplotlibDeprecationWarning: \n",
      "The tick1On function was deprecated in Matplotlib 3.1 and will be removed in 3.3. Use Tick.tick1line.set_visible instead.\n",
      "/anaconda3/lib/python3.7/site-packages/ipykernel_launcher.py:90: MatplotlibDeprecationWarning: \n",
      "The tick2On function was deprecated in Matplotlib 3.1 and will be removed in 3.3. Use Tick.tick2line.set_visible instead.\n"
     ]
    },
    {
     "data": {
      "image/png": "[encoded data removed]",
      "text/plain": [
       "<Figure size 697x392 with 1 Axes>"
      ]
     },
     "metadata": {},
     "output_type": "display_data"
    }
   ],
   "source": [
    "nid = 3\n",
    "node = N.nodes[nid]\n",
    "plot_schemata(nid, N.nodes[nid])"
   ]
  },
  {
   "cell_type": "code",
   "execution_count": null,
   "metadata": {},
   "outputs": [],
   "source": []
  }
 ],
 "metadata": {
  "kernelspec": {
   "display_name": "Python 3",
   "language": "python",
   "name": "python3"
  },
  "language_info": {
   "codemirror_mode": {
    "name": "ipython",
    "version": 3
   },
   "file_extension": ".py",
   "mimetype": "text/x-python",
   "name": "python",
   "nbconvert_exporter": "python",
   "pygments_lexer": "ipython3",
   "version": "3.7.5"
  }
 },
 "nbformat": 4,
 "nbformat_minor": 2
}
