{
 "cells": [
  {
   "cell_type": "markdown",
   "metadata": {},
   "source": [
    "# Effective Graph Paper\n",
    "Code to generate \"Table 2 - Effectiveness of outgoing edges of drug variables in the Breast Cancer model\""
   ]
  },
  {
   "cell_type": "code",
   "execution_count": 1,
   "metadata": {},
   "outputs": [],
   "source": [
    "import pandas as pd\n",
    "pd.options.display.float_format = '{:.2g}'.format\n",
    "import cana\n",
    "import networkx as nx\n",
    "from cana.datasets.bio import BREAST_CANCER"
   ]
  },
  {
   "cell_type": "code",
   "execution_count": 2,
   "metadata": {},
   "outputs": [],
   "source": [
    "BC = BREAST_CANCER()"
   ]
  },
  {
   "cell_type": "code",
   "execution_count": 4,
   "metadata": {},
   "outputs": [],
   "source": [
    "#SG = T.structural_graph()\n",
    "EG = BC.effective_graph(mode='input', bound='mean', threshold=-1)"
   ]
  },
  {
   "cell_type": "code",
   "execution_count": 17,
   "metadata": {},
   "outputs": [
    {
     "data": {
      "text/html": [
       "<div>\n",
       "<style scoped>\n",
       "    .dataframe tbody tr th:only-of-type {\n",
       "        vertical-align: middle;\n",
       "    }\n",
       "\n",
       "    .dataframe tbody tr th {\n",
       "        vertical-align: top;\n",
       "    }\n",
       "\n",
       "    .dataframe thead th {\n",
       "        text-align: right;\n",
       "    }\n",
       "</style>\n",
       "<table border=\"1\" class=\"dataframe\">\n",
       "  <thead>\n",
       "    <tr style=\"text-align: right;\">\n",
       "      <th></th>\n",
       "      <th>k^{out}</th>\n",
       "      <th>k_e^{out}</th>\n",
       "      <th>k_e^{out} / k^{out}</th>\n",
       "    </tr>\n",
       "    <tr>\n",
       "      <th>node</th>\n",
       "      <th></th>\n",
       "      <th></th>\n",
       "      <th></th>\n",
       "    </tr>\n",
       "  </thead>\n",
       "  <tbody>\n",
       "    <tr>\n",
       "      <th>Everolimus</th>\n",
       "      <td>4</td>\n",
       "      <td>3.2</td>\n",
       "      <td>0.81</td>\n",
       "    </tr>\n",
       "    <tr>\n",
       "      <th>Palbociclib</th>\n",
       "      <td>2</td>\n",
       "      <td>2</td>\n",
       "      <td>1</td>\n",
       "    </tr>\n",
       "    <tr>\n",
       "      <th>Alpelisib</th>\n",
       "      <td>3</td>\n",
       "      <td>1.9</td>\n",
       "      <td>0.64</td>\n",
       "    </tr>\n",
       "    <tr>\n",
       "      <th>Fulvestrant</th>\n",
       "      <td>3</td>\n",
       "      <td>1.8</td>\n",
       "      <td>0.6</td>\n",
       "    </tr>\n",
       "    <tr>\n",
       "      <th>Neratinib</th>\n",
       "      <td>3</td>\n",
       "      <td>1.6</td>\n",
       "      <td>0.54</td>\n",
       "    </tr>\n",
       "    <tr>\n",
       "      <th>Trametinib</th>\n",
       "      <td>3</td>\n",
       "      <td>1.5</td>\n",
       "      <td>0.49</td>\n",
       "    </tr>\n",
       "    <tr>\n",
       "      <th>Ipatasertib</th>\n",
       "      <td>2</td>\n",
       "      <td>1.3</td>\n",
       "      <td>0.65</td>\n",
       "    </tr>\n",
       "  </tbody>\n",
       "</table>\n",
       "</div>"
      ],
      "text/plain": [
       "             k^{out}  k_e^{out}  k_e^{out} / k^{out}\n",
       "node                                                \n",
       "Everolimus         4        3.2                 0.81\n",
       "Palbociclib        2          2                    1\n",
       "Alpelisib          3        1.9                 0.64\n",
       "Fulvestrant        3        1.8                  0.6\n",
       "Neratinib          3        1.6                 0.54\n",
       "Trametinib         3        1.5                 0.49\n",
       "Ipatasertib        2        1.3                 0.65"
      ]
     },
     "metadata": {},
     "output_type": "display_data"
    }
   ],
   "source": [
    "bound = 'upper'\n",
    "df = pd.DataFrame({\n",
    "        'node':[n.name for n in BC.nodes],\n",
    "        'k':[n.k for n in BC.nodes],\n",
    "        'k_r':[n.input_redundancy(mode='node',bound=bound,norm=False) for n in BC.nodes],\n",
    "        'k_e':[n.effective_connectivity(mode='node',bound=bound,norm=False) for n in BC.nodes],\n",
    "        'k_r*':[n.input_redundancy(mode='node',bound=bound,norm=True) for n in BC.nodes],\n",
    "        'k_e*':[n.effective_connectivity(mode='node',bound=bound,norm=True) for n in BC.nodes],\n",
    "        'k^{out}':[v for n,v in EG.out_degree()],\n",
    "        'k_e^{out}':[v for n,v in EG.out_degree(weight='weight')],\n",
    "    })\n",
    "df = df[['node','k^{out}','k_e^{out}']]\n",
    "drugs = [3, 4, 5, 6, 7, 8, 9]\n",
    "df = df.loc[drugs, :].set_index('node')\n",
    "df['k_e^{out} / k^{out}'] = df['k_e^{out}'] / df['k^{out}']\n",
    "df.sort_values(['k_e^{out}','k_e^{out} / k^{out}'],ascending=[False, False],inplace=True)\n",
    "display(df)"
   ]
  },
  {
   "cell_type": "code",
   "execution_count": 18,
   "metadata": {},
   "outputs": [
    {
     "name": "stdout",
     "output_type": "stream",
     "text": [
      "\\begin{tabular}{lrrr}\n",
      "\\toprule\n",
      "{} &  k^{out} &  k_e^{out} &  k_e^{out} / k^{out} \\\\\n",
      "node        &          &            &                      \\\\\n",
      "\\midrule\n",
      "Everolimus  &        4 &        3.2 &                 0.81 \\\\\n",
      "Palbociclib &        2 &          2 &                    1 \\\\\n",
      "Alpelisib   &        3 &        1.9 &                 0.64 \\\\\n",
      "Fulvestrant &        3 &        1.8 &                  0.6 \\\\\n",
      "Neratinib   &        3 &        1.6 &                 0.54 \\\\\n",
      "Trametinib  &        3 &        1.5 &                 0.49 \\\\\n",
      "Ipatasertib &        2 &        1.3 &                 0.65 \\\\\n",
      "\\bottomrule\n",
      "\\end{tabular}\n",
      "\n"
     ]
    }
   ],
   "source": [
    "# to Latex\n",
    "print(df.to_latex(escape=False))"
   ]
  },
  {
   "cell_type": "code",
   "execution_count": null,
   "metadata": {},
   "outputs": [],
   "source": []
  }
 ],
 "metadata": {
  "kernelspec": {
   "display_name": "Python 3",
   "language": "python",
   "name": "python3"
  },
  "language_info": {
   "codemirror_mode": {
    "name": "ipython",
    "version": 3
   },
   "file_extension": ".py",
   "mimetype": "text/x-python",
   "name": "python",
   "nbconvert_exporter": "python",
   "pygments_lexer": "ipython3",
   "version": "3.7.5"
  }
 },
 "nbformat": 4,
 "nbformat_minor": 4
}
