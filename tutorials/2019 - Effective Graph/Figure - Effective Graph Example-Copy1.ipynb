{
 "cells": [
  {
   "cell_type": "markdown",
   "metadata": {},
   "source": [
    "# Effective Graph Paper\n",
    "Code to generate \"effective_graph example\" figure "
   ]
  },
  {
   "cell_type": "code",
   "execution_count": 15,
   "metadata": {},
   "outputs": [
    {
     "name": "stdout",
     "output_type": "stream",
     "text": [
      "The autoreload extension is already loaded. To reload it, use:\n",
      "  %reload_ext autoreload\n"
     ]
    }
   ],
   "source": [
    "%load_ext autoreload\n",
    "%autoreload 2\n",
    "%matplotlib inline"
   ]
  },
  {
   "cell_type": "code",
   "execution_count": 16,
   "metadata": {},
   "outputs": [],
   "source": [
    "import os\n",
    "import numpy as np\n",
    "import pandas as pd\n",
    "from IPython.display import Image, display\n",
    "import graphviz\n",
    "import cana\n",
    "import math\n",
    "from cana.boolean_network import BooleanNetwork\n",
    "from cana.drawing.canalizing_map import draw_canalizing_map_graphviz\n",
    "import matplotlib as mpl\n",
    "mpl.rcParams['mathtext.fontset'] = 'cm'\n",
    "mpl.rcParams['mathtext.rm'] = 'serif'\n",
    "import matplotlib.pyplot as plt\n",
    "from matplotlib.colors import LinearSegmentedColormap\n",
    "from matplotlib.text import Text\n",
    "from matplotlib.patches import Circle, Rectangle, RegularPolygon\n",
    "from matplotlib.collections import PatchCollection\n",
    "from IPython.display import display, Image, Latex, SVG, HTML\n",
    "import networkx as nx\n",
    "from copy import copy"
   ]
  },
  {
   "cell_type": "code",
   "execution_count": null,
   "metadata": {},
   "outputs": [],
   "source": []
  },
  {
   "cell_type": "code",
   "execution_count": 17,
   "metadata": {
    "scrolled": false
   },
   "outputs": [
    {
     "name": "stdout",
     "output_type": "stream",
     "text": [
      "<BNetwork(Name='A', N=4, Nodes=['$x_1$', '$x_2$', '$x_3$', '$x_4$'])>\n",
      "{0: '0.15,1.85', 1: '0.69,-0.16', 2: '2.16,1.31', 3: '1.00,1.00'}\n"
     ]
    }
   ],
   "source": [
    "# Graph Example\n",
    "logic = {\n",
    "    0 : {'name':r'$x_1$', 'in':[],     'out':[1] },\n",
    "    1 : {'name':r'$x_2$', 'in':[],     'out':[1] },\n",
    "    2 : {'name':r'$x_3$', 'in':[],     'out':[1] },\n",
    "    #3 : {'name':r'$x_3$', 'in':[],     'out':[1] },\n",
    "    #4 : {'name':r'$x_3$', 'in':[0,1,2,3],   'out':[1,1,0,0, 0,0,0,0, 1,1,0,0, 0,0,0,0]},\n",
    "    3 : {'name':r'$x_4$', 'in':[0,1,2],   'out':[0,0,0,0, 0,0,1,1]},\n",
    "}\n",
    "N = cana.boolean_network.BooleanNetwork(name='A', Nnodes=len(logic), logic=logic)\n",
    "print(N)\n",
    "\n",
    "\"\"\"\n",
    "for i,node in enumerate(N.nodes,start=0):\n",
    "    #print(\"Node:\",node)\n",
    "    print(\"r_ji: {}\".format(node.input_redundancy(mode='input',bound='mean')))\n",
    "    print(\"e_ji: {}\".format(node.effective_connectivity(mode='input',bound='mean')))\n",
    "    print(\"s_ji: {}\".format(node.input_symmetry(mode='input',bound='mean')))\n",
    "    print(\"\")\n",
    "    print(\"k_r: {:.3f}\".format(node.input_redundancy(mode='node',bound='upper')))\n",
    "    print(\"k_e: {:.3f}\".format(node.effective_connectivity(mode='node',bound='upper')))\n",
    "    print(\"k_s: {:.3f}\".format(node.input_symmetry(mode='node',bound='upper')))\n",
    "    print(\"LUT\")\n",
    "    print(node.look_up_table())\n",
    "\"\"\"\n",
    "pos = {}\n",
    "cx,cy = 1,1\n",
    "for i,deg in enumerate(np.linspace(0,360,4),start=0):\n",
    "    r = 1.2\n",
    "    deg += 135\n",
    "    x, y = cx+r*math.cos(math.radians(deg)), cy+r*math.sin(math.radians(deg))\n",
    "    pos[i] = \"{:.2f},{:.2f}\".format(x,y)\n",
    "pos[3] = \"{:.2f},{:.2f}\".format(cx,cy)\n",
    "print(pos)\n",
    "SG = N.structural_graph()\n",
    "EG = N.effective_graph(mode='input', bound='mean')\n",
    "nx.set_node_attributes(SG, name='pos', values=pos)\n",
    "nx.set_node_attributes(EG, name='pos', values=pos)"
   ]
  },
  {
   "cell_type": "code",
   "execution_count": 19,
   "metadata": {},
   "outputs": [
    {
     "data": {
      "image/png": "[encoded data removed]",
      "text/plain": [
       "<Figure size 144x144 with 1 Axes>"
      ]
     },
     "metadata": {},
     "output_type": "display_data"
    }
   ],
   "source": [
    "# ColorBar\n",
    "interval = np.linspace(0.3, 1.0, 256)\n",
    "colors = plt.cm.Greys(interval)\n",
    "cmap = LinearSegmentedColormap.from_list('custom', colors)\n",
    "cmap.set_under('#A90533')\n",
    "norm = mpl.colors.Normalize(vmin=0, vmax=1)\n",
    "\n",
    "fig = plt.figure(figsize=(2,2))\n",
    "ax = fig.add_axes([0.1, 0.05, 0.11, 0.9])\n",
    "bounds = [0,0.2,0.4,0.6,0.8,1]\n",
    "boundaries = [-100] + np.linspace(0,1,20).tolist()\n",
    "\n",
    "cb = mpl.colorbar.ColorbarBase(ax, cmap=cmap, norm=norm, boundaries=boundaries,\n",
    "    extend='min', extendfrac=.15, ticks=bounds, spacing='uniform', orientation='vertical')\n",
    "\n",
    "\n",
    "display(fig)\n",
    "#plt.savefig('{path:s}/figure-example/colorbar.svg'.format(path=os.getcwd()),transparent=True)\n",
    "plt.close()\n"
   ]
  },
  {
   "cell_type": "code",
   "execution_count": 21,
   "metadata": {
    "scrolled": true
   },
   "outputs": [
    {
     "name": "stdout",
     "output_type": "stream",
     "text": [
      "0 {'label': '$x_1$', 'pos': '0.15,1.85'}\n",
      "1 {'label': '$x_2$', 'pos': '0.69,-0.16'}\n",
      "2 {'label': '$x_3$', 'pos': '2.16,1.31'}\n",
      "3 {'label': '$x_4$', 'pos': '1.00,1.00'}\n"
     ]
    },
    {
     "data": {
      "image/svg+xml": [
       "<svg height=\"193pt\" viewBox=\"0.00 0.00 192.72 192.72\" width=\"193pt\" xmlns=\"http://www.w3.org/2000/svg\" xmlns:xlink=\"http://www.w3.org/1999/xlink\">\n",
       "<g class=\"graph\" id=\"graph0\" transform=\"scale(1 1) rotate(0) translate(4 188.72)\">\n",
       "<title>Structural Graph</title>\n",
       "<polygon fill=\"#ffffff\" points=\"-4,4 -4,-188.72 188.72,-188.72 188.72,4 -4,4\" stroke=\"transparent\"/>\n",
       "<!-- 0 -->\n",
       "<g class=\"node\" id=\"node1\">\n",
       "<title>0</title>\n",
       "<ellipse cx=\"20\" cy=\"-164.72\" fill=\"#ffffff\" rx=\"20\" ry=\"20\" stroke=\"#00594c\" stroke-width=\"4\"/>\n",
       "</g>\n",
       "<!-- 3 -->\n",
       "<g class=\"node\" id=\"node4\">\n",
       "<title>3</title>\n",
       "<ellipse cx=\"81.2\" cy=\"-103.52\" fill=\"#ffffff\" rx=\"20\" ry=\"20\" stroke=\"#00594c\" stroke-width=\"4\"/>\n",
       "</g>\n",
       "<!-- 0&#45;&gt;3 -->\n",
       "<g class=\"edge\" id=\"edge1\">\n",
       "<title>0-&gt;3</title>\n",
       "<path d=\"M34.1943,-150.5257C42.7219,-141.9981 53.6628,-131.0572 62.8432,-121.8768\" fill=\"none\" stroke=\"#000000\" stroke-width=\"4\"/>\n",
       "<polygon fill=\"#000000\" points=\"64.3595,-122.8353 66.6577,-118.0623 61.8847,-120.3605 64.3595,-122.8353\" stroke=\"#000000\" stroke-width=\"4\"/>\n",
       "</g>\n",
       "<!-- 1 -->\n",
       "<g class=\"node\" id=\"node2\">\n",
       "<title>1</title>\n",
       "<ellipse cx=\"58.88\" cy=\"-20\" fill=\"#ffffff\" rx=\"20\" ry=\"20\" stroke=\"#00594c\" stroke-width=\"4\"/>\n",
       "</g>\n",
       "<!-- 1&#45;&gt;3 -->\n",
       "<g class=\"edge\" id=\"edge2\">\n",
       "<title>1-&gt;3</title>\n",
       "<path d=\"M64.0568,-39.3711C67.2173,-51.1977 71.2868,-66.4256 74.6678,-79.0768\" fill=\"none\" stroke=\"#000000\" stroke-width=\"4\"/>\n",
       "<polygon fill=\"#000000\" points=\"72.9924,-79.586 75.974,-83.9646 76.3737,-78.6823 72.9924,-79.586\" stroke=\"#000000\" stroke-width=\"4\"/>\n",
       "</g>\n",
       "<!-- 2 -->\n",
       "<g class=\"node\" id=\"node3\">\n",
       "<title>2</title>\n",
       "<ellipse cx=\"164.72\" cy=\"-125.84\" fill=\"#ffffff\" rx=\"20\" ry=\"20\" stroke=\"#00594c\" stroke-width=\"4\"/>\n",
       "</g>\n",
       "<!-- 2&#45;&gt;3 -->\n",
       "<g class=\"edge\" id=\"edge3\">\n",
       "<title>2-&gt;3</title>\n",
       "<path d=\"M145.3489,-120.6632C133.5223,-117.5027 118.2944,-113.4331 105.6432,-110.0522\" fill=\"none\" stroke=\"#000000\" stroke-width=\"4\"/>\n",
       "<polygon fill=\"#000000\" points=\"106.0377,-108.3463 100.7554,-108.746 105.134,-111.7276 106.0377,-108.3463\" stroke=\"#000000\" stroke-width=\"4\"/>\n",
       "</g>\n",
       "</g>\n",
       "</svg>"
      ],
      "text/plain": [
       "<IPython.core.display.SVG object>"
      ]
     },
     "metadata": {
      "isolated": true
     },
     "output_type": "display_data"
    },
    {
     "data": {
      "text/plain": [
       "'/Users/rionbr/Sites/CANA/tutorials/2019 - Effective Graph/figure-example/SG.svg'"
      ]
     },
     "execution_count": 21,
     "metadata": {},
     "output_type": "execute_result"
    }
   ],
   "source": [
    "S = graphviz.Digraph(name='Structural Graph', engine='neato')\n",
    "S.attr('graph', size='3,3', concentrate='false', simplify='false', overlap='false',splines='false',ratio='1')\n",
    "S.attr('node', pin='true', shape='circle', fixedsize='true', width='.55', color='#00594c', style='filled', fillcolor='#515660', penwidth='4', fontname='Helvetica', fontcolor='black',fontsize='12')\n",
    "S.attr('edge', arrowhead='normal', arrowsize='.5', color='black', penwidth='4')\n",
    "\n",
    "for nid,d in SG.nodes(data=True):\n",
    "    print(nid,d)\n",
    "    nid = str(nid)\n",
    "    label = '' #str(d['label'])\n",
    "    pos = d['pos']\n",
    "    fillcolor = 'white'\n",
    "    S.node(nid, label=label, pos=pos, fillcolor=fillcolor)\n",
    "\n",
    "max_penwidth = 4\n",
    "for uid,vid,d in SG.edges(data=True):\n",
    "    uid = str(uid)\n",
    "    vid = str(vid)\n",
    "    weight = '{:f}'.format(d['weight']*100)\n",
    "    penwidth_scaled = '{:.2f}'.format( d['weight']*max_penwidth )\n",
    "    S.edge(uid, vid, weight=weight, penwidth=penwidth_scaled)\n",
    "    \n",
    "display(SVG(S.pipe(format='svg')),metadata={'isolated':True})\n",
    "# Export\n",
    "S._format = 'svg'\n",
    "efile = u\"{path:s}/figure-example/SG\".format(path=os.getcwd())\n",
    "S.render(efile, cleanup=True)"
   ]
  },
  {
   "cell_type": "code",
   "execution_count": 22,
   "metadata": {
    "scrolled": true
   },
   "outputs": [
    {
     "data": {
      "image/svg+xml": [
       "<svg height=\"193pt\" viewBox=\"0.00 0.00 192.72 192.72\" width=\"193pt\" xmlns=\"http://www.w3.org/2000/svg\" xmlns:xlink=\"http://www.w3.org/1999/xlink\">\n",
       "<g class=\"graph\" id=\"graph0\" transform=\"scale(1 1) rotate(0) translate(4 188.72)\">\n",
       "<title>Effective Graph</title>\n",
       "<polygon fill=\"#ffffff\" points=\"-4,4 -4,-188.72 188.72,-188.72 188.72,4 -4,4\" stroke=\"transparent\"/>\n",
       "<!-- 0 -->\n",
       "<g class=\"node\" id=\"node1\">\n",
       "<title>0</title>\n",
       "<ellipse cx=\"20\" cy=\"-164.72\" fill=\"#ffffff\" rx=\"20\" ry=\"20\" stroke=\"#00594c\" stroke-width=\"4\"/>\n",
       "</g>\n",
       "<!-- 3 -->\n",
       "<g class=\"node\" id=\"node4\">\n",
       "<title>3</title>\n",
       "<ellipse cx=\"81.2\" cy=\"-103.52\" fill=\"#ffffff\" rx=\"20\" ry=\"20\" stroke=\"#00594c\" stroke-width=\"4\"/>\n",
       "</g>\n",
       "<!-- 0&#45;&gt;3 -->\n",
       "<g class=\"edge\" id=\"edge1\">\n",
       "<title>0-&gt;3</title>\n",
       "<path d=\"M34.1943,-150.5257C42.7219,-141.9981 53.6628,-131.0572 62.8432,-121.8768\" fill=\"none\" stroke=\"#000000\" stroke-width=\"2.5\"/>\n",
       "<polygon fill=\"#000000\" points=\"64.3595,-122.8353 66.6577,-118.0623 61.8847,-120.3605 64.3595,-122.8353\" stroke=\"#000000\" stroke-width=\"2.5\"/>\n",
       "</g>\n",
       "<!-- 1 -->\n",
       "<g class=\"node\" id=\"node2\">\n",
       "<title>1</title>\n",
       "<ellipse cx=\"58.88\" cy=\"-20\" fill=\"#ffffff\" rx=\"20\" ry=\"20\" stroke=\"#00594c\" stroke-width=\"4\"/>\n",
       "</g>\n",
       "<!-- 1&#45;&gt;3 -->\n",
       "<g class=\"edge\" id=\"edge2\">\n",
       "<title>1-&gt;3</title>\n",
       "<path d=\"M64.0568,-39.3711C67.2173,-51.1977 71.2868,-66.4256 74.6678,-79.0768\" fill=\"none\" stroke=\"#000000\" stroke-width=\"2.5\"/>\n",
       "<polygon fill=\"#000000\" points=\"72.9924,-79.586 75.974,-83.9646 76.3737,-78.6823 72.9924,-79.586\" stroke=\"#000000\" stroke-width=\"2.5\"/>\n",
       "</g>\n",
       "<!-- 2 -->\n",
       "<g class=\"node\" id=\"node3\">\n",
       "<title>2</title>\n",
       "<ellipse cx=\"164.72\" cy=\"-125.84\" fill=\"#ffffff\" rx=\"20\" ry=\"20\" stroke=\"#00594c\" stroke-width=\"4\"/>\n",
       "</g>\n",
       "</g>\n",
       "</svg>"
      ],
      "text/plain": [
       "<IPython.core.display.SVG object>"
      ]
     },
     "metadata": {
      "isolated": true
     },
     "output_type": "display_data"
    },
    {
     "data": {
      "text/plain": [
       "'/Users/rionbr/Sites/CANA/tutorials/2019 - Effective Graph/figure-example/EG.svg'"
      ]
     },
     "execution_count": 22,
     "metadata": {},
     "output_type": "execute_result"
    }
   ],
   "source": [
    "E = graphviz.Digraph(name='Effective Graph', engine='neato')\n",
    "E.attr('graph', size='3,3', concentrate='false', simplify='false', overlap='false',splines='false', ratio='1')\n",
    "E.attr('node', pin='true', shape='circle', fixedsize='true', width='.55', color='#00594c', style='filled', fillcolor='#515660', penwidth='4', fontname='Helvetica', fontcolor='black',fontsize='12')\n",
    "E.attr('edge', arrowhead='normal', arrowsize='.5', color='black', penwidth='4')\n",
    "\n",
    "for nid,d in EG.nodes(data=True):\n",
    "    nid = str(nid)\n",
    "    label = '' #str(d['label'])\n",
    "    pos = d['pos']\n",
    "    fillcolor = 'white'\n",
    "    E.node(nid, label=label, pos=pos, fillcolor=fillcolor)\n",
    "\n",
    "max_penwidth = 4\n",
    "for uid,vid,d in EG.edges(data=True):\n",
    "    uid = str(uid)\n",
    "    vid = str(vid)\n",
    "    weight = '{:f}'.format(d['weight']*100)\n",
    "    penwidth = '%.2f' % ( d['weight']*max_penwidth )\n",
    "    if d['weight'] > 0:\n",
    "        rgb = cmap(d['weight'])\n",
    "        hex = mpl.colors.rgb2hex(rgb)\n",
    "        E.edge(uid,vid, weight=weight, penwidth=penwidth)\n",
    "    else:\n",
    "        print\n",
    "        E.edge(uid,vid, style='dashed', color='#A90533')\n",
    "    \n",
    "display(SVG(E.pipe(format='svg')),metadata={'isolated':True})\n",
    "# Export\n",
    "E._format = 'svg'\n",
    "efile = u\"{path:s}/figure-example/EG\".format(path=os.getcwd())\n",
    "E.render(efile, cleanup=True)"
   ]
  },
  {
   "cell_type": "code",
   "execution_count": 99,
   "metadata": {},
   "outputs": [],
   "source": [
    "def plot_look_up_table(nid, n):\n",
    "    # Init values from BooleanNode\n",
    "    k = n.k if n.k>=1 else 1\n",
    "    inputs = n.inputs if not n.constant else [n.name]\n",
    "    LUT = n.look_up_table().sort_index(ascending=False)\n",
    "    # Count number of F in the LUT\n",
    "    n_fs = LUT.shape[0]\n",
    "    # Schemata Cell Width and spacing\n",
    "    cwidth = 60.\n",
    "    cxspace = 0\n",
    "    cyspace = 6\n",
    "    border = 1\n",
    "    sepcxspace = 21\n",
    "    sepcyspace = 15\n",
    "    dpi = 150.\n",
    "    # Margins\n",
    "    top, right, bottom, left, hs = 120, 25, 25, 60, 25\n",
    "    # Axes Width & Height\n",
    "    ax1width = ((k*(cwidth+cxspace))+sepcxspace+(cwidth))\n",
    "    ax1height = (n_fs*(cwidth+cyspace)-cyspace)\n",
    "    # Figure Width & Height\n",
    "    fwidth = (left + ax1width + hs + right)\n",
    "    fheight = (bottom + ax1height + top)\n",
    "    # Percentages for Axes location\n",
    "    _ax1w = ((ax1width*100) / fwidth) / 100\n",
    "    _ax1h = ((ax1height*100) / fheight) / 100\n",
    "    _bottom = ((bottom*100) / fheight) / 100\n",
    "    _left = ((left*100) / fwidth) / 100\n",
    "    _hs = ((hs*100) / fwidth) / 100\n",
    "    # Init Figure\n",
    "    fig = plt.figure(figsize=(fwidth/dpi,fheight/dpi), facecolor='w', dpi=dpi)\n",
    "    ax1 = fig.add_axes((_left,_bottom,_ax1w,_ax1h), aspect=1, label='LUT')\n",
    "\n",
    "    ### LUT Plot ###\n",
    "\n",
    "    yticks = []\n",
    "    patches = []\n",
    "    x,y = 0.,0.\n",
    "    #\n",
    "    for i,r in LUT.iterrows():\n",
    "        ins = str(r['In:'])\n",
    "        out = r['Out:']\n",
    "        x = 0.\n",
    "        xticks = []\n",
    "        for input in ins:\n",
    "            if input == '0':\n",
    "                facecolor = 'white'\n",
    "                textcolor = 'black'\n",
    "            elif input == '1':\n",
    "                facecolor = 'black'\n",
    "                textcolor = 'white'      \n",
    "            text = '%s'%(input)\n",
    "            ax1.add_artist(Text(x+cwidth/2,y+cwidth/10*4, text=text, color=textcolor, va='center', ha='center',fontsize=14,family='serif'))\n",
    "            r = Rectangle((x,y), width=cwidth, height=cwidth, facecolor=facecolor, edgecolor='black')\n",
    "            patches.append(r)\n",
    "            xticks.append(x+cwidth/2)\n",
    "            x += cwidth + cxspace\n",
    "\n",
    "        x += sepcxspace\n",
    "        r = Rectangle((x,y), width=cwidth, height=cwidth, facecolor='black' if (out==1) else 'white', edgecolor='black')\n",
    "        ax1.add_artist(Text(x-(sepcxspace/2)-(cxspace/2),y+cwidth/10*5, text=':', color='black', va='center', ha='center',fontsize=14,weight='bold',family='serif'))\n",
    "        ax1.add_artist(Text(x+(cwidth/2),y+cwidth/10*4, text=out, color='white' if (out==1) else 'black', va='center', ha='center',fontsize=14,family='serif'))\n",
    "        patches.append(r)\n",
    "        xticks.append(x+cwidth/2)\n",
    "        yticks.append(y+cwidth/2)\n",
    "        y += cwidth + cyspace\n",
    "\n",
    "        #y += sepcyspace\n",
    "\n",
    "    ax1.add_collection(PatchCollection(patches,match_original=True))\n",
    "    #\n",
    "    ax1.set_yticks(yticks)\n",
    "    ax1.set_yticklabels([r\"$f_{%d}$\"%(i+1) for i in range(n_fs)[::-1]], fontsize=14)\n",
    "    ax1.set_xticks(xticks)\n",
    "    ax1.set_xticklabels(inputs + ['%s'%(n.name)], rotation=0, fontsize=14)\n",
    "    #\n",
    "    ax1.xaxis.tick_top()\n",
    "    # Remove Tick\n",
    "    ax1.tick_params(which='major',pad=7)\n",
    "    for tic in ax1.xaxis.get_major_ticks():\n",
    "        tic.tick1On = tic.tick2On = False\n",
    "    for tic in ax1.yaxis.get_major_ticks():\n",
    "        tic.tick1On = tic.tick2On = False\n",
    "    # Remove Border\n",
    "    ax1.spines['top'].set_visible(False)\n",
    "    ax1.spines['right'].set_visible(False)\n",
    "    ax1.spines['bottom'].set_visible(False)\n",
    "    ax1.spines['left'].set_visible(False)\n",
    "    # Limits\n",
    "    ax1.set_xlim(-border,ax1width+border)\n",
    "    ax1.set_ylim(-border,ax1height+border)\n",
    "    #ax1.invert_yaxis() \n",
    "\n",
    "    # FileName\n",
    "    filename = n.name\n",
    "    filename = filename.replace('/','_')\n",
    "    filename = filename.replace(',','_')\n",
    "    \n",
    "    ## Display\n",
    "    display(fig)\n",
    "    \n",
    "    ## Save to file\n",
    "    plt.savefig('{path:s}/figure-example/LUT-{nid:d}.svg'.format(path=os.getcwd(), nid=nid),\n",
    "                dpi=dpi, transparent=True)\n",
    "    \n",
    "    plt.close()"
   ]
  },
  {
   "cell_type": "code",
   "execution_count": 100,
   "metadata": {
    "scrolled": false
   },
   "outputs": [
    {
     "name": "stdout",
     "output_type": "stream",
     "text": [
      "3 <BNode(name='$x_4$', k=3, inputs=[$x_1$,$x_2$,$x_3$], state=0, outputs='[0,0,0,0,0,0,1,1]' constant=False)>\n"
     ]
    },
    {
     "data": {
      "image/png": "[encoded data removed]",
      "text/plain": [
       "<Figure size 371x667 with 1 Axes>"
      ]
     },
     "metadata": {},
     "output_type": "display_data"
    }
   ],
   "source": [
    "nid = 3\n",
    "node = N.nodes[nid]\n",
    "print(nid,node)\n",
    "plot_look_up_table(nid,N.nodes[nid])"
   ]
  },
  {
   "cell_type": "code",
   "execution_count": 101,
   "metadata": {},
   "outputs": [],
   "source": [
    "def plot_schemata(nid, n):\n",
    "    # Init values from BooleanNode\n",
    "    k = n.k if n.k>=1 else 1\n",
    "    inputs = n.inputs if not n.constant else [n.name]\n",
    "    pi0s,pi1s = n._prime_implicants\n",
    "    ts0s,ts1s = n._two_symbols\n",
    "    # Count number of PI and TS\n",
    "    n_pi = sum(len(pis) for pis in [pi0s,pi1s])\n",
    "    n_ts = sum(len(tss) for tss in [ts0s,ts1s])\n",
    "    # Schemata Cell Width and spacing\n",
    "    cwidth = 60.\n",
    "    cxspace = 0\n",
    "    cyspace = 6\n",
    "    border = 1\n",
    "    sepcxspace = 21\n",
    "    sepcyspace = 15\n",
    "    dpi = 150.\n",
    "    # Margins\n",
    "    top, right, bottom, left, hs = 160, 25, 25, 60, 90\n",
    "    # Axes Width & Height\n",
    "    ax1width = ((k*(cwidth+cxspace))+sepcxspace+(cwidth))\n",
    "    ax1height = (n_pi*(cwidth+cyspace)+sepcyspace-cyspace)\n",
    "    ax2width = ((k*(cwidth+cxspace))+sepcxspace+(cwidth))\n",
    "    ax2height = (n_ts*(cwidth+cyspace)+sepcyspace-cyspace)\n",
    "    # Figure Width & Height\n",
    "    fwidth = (left + ax1width + hs + ax2width + right)\n",
    "    fheight = (bottom + max(ax1height,ax2height) + top)\n",
    "    # Percentages for Axes location\n",
    "    _ax1w = ((ax1width*100) / fwidth) / 100\n",
    "    _ax2w = ((ax2width*100) / fwidth) / 100\n",
    "    _ax1h = ((ax1height*100) / fheight) / 100\n",
    "    _ax2h = ((ax2height*100) / fheight) / 100\n",
    "    _bottom = ((bottom*100) / fheight) / 100\n",
    "    _left = ((left*100) / fwidth) / 100\n",
    "    _hs = ((hs*100) / fwidth) / 100\n",
    "    # Init Figure\n",
    "    fig = plt.figure(figsize=(fwidth/dpi,fheight/dpi), facecolor='w', dpi=dpi)\n",
    "    ax1 = fig.add_axes((_left,_bottom,_ax1w,_ax1h), aspect=1, label='PI')\n",
    "\n",
    "    ### PI Plot ###\n",
    "\n",
    "    yticks = []\n",
    "    patches = []\n",
    "    x,y = 0.,0.\n",
    "    #\n",
    "    for out,pis in zip([1,0],[pi1s,pi0s]):\n",
    "        for pi in pis:\n",
    "            x = 0.\n",
    "            xticks = []\n",
    "            for input in pi:\n",
    "                if input == '0':\n",
    "                    facecolor = 'white'\n",
    "                    textcolor = 'black'\n",
    "                elif input == '1':\n",
    "                    facecolor = 'black'\n",
    "                    textcolor = 'white'\n",
    "                elif input == '2':\n",
    "                    facecolor = '#cccccc'\n",
    "                    textcolor = 'black'            \n",
    "                text = '%s'%(input) if (input!='2') else '#'\n",
    "                ax1.add_artist(Text(x+cwidth/2,y+cwidth/10*4, text=text, color=textcolor, va='center', ha='center',fontsize=14,family='serif'))\n",
    "                r = Rectangle((x,y), width=cwidth, height=cwidth, facecolor=facecolor, edgecolor='black')\n",
    "                patches.append(r)\n",
    "                xticks.append(x+cwidth/2)\n",
    "                x += cwidth + cxspace\n",
    "\n",
    "            x += sepcxspace\n",
    "            r = Rectangle((x,y), width=cwidth, height=cwidth, facecolor='black' if (out==1) else 'white', edgecolor='black')\n",
    "            ax1.add_artist(Text(x-(sepcxspace/2)-(cxspace/2),y+cwidth/10*4, text=':', color='black', va='center', ha='center',fontsize=14,weight='bold',family='serif'))\n",
    "            ax1.add_artist(Text(x+(cwidth/2),y+cwidth/10*4, text=out, color='white' if (out==1) else 'black', va='center', ha='center',fontsize=14,family='serif'))\n",
    "            patches.append(r)\n",
    "            xticks.append(x+cwidth/2)\n",
    "            yticks.append(y+cwidth/2)\n",
    "            y += cwidth + cyspace\n",
    "        y += sepcyspace\n",
    "\n",
    "    ax1.add_collection(PatchCollection(patches,match_original=True))\n",
    "    #\n",
    "    ax1.set_yticks(yticks)\n",
    "    ax1.set_yticklabels([r\"$f^{'}_{%d}$\"%(i+1) for i in range(n_pi)[::-1]], fontsize=14)\n",
    "    ax1.set_xticks(xticks)\n",
    "    ax1.set_xticklabels(inputs + ['%s'%(n.name)], rotation=0, fontsize=14)\n",
    "    #\n",
    "    ax1.xaxis.tick_top()\n",
    "    # Remove Tick\n",
    "    ax1.tick_params(which='major',pad=7)\n",
    "    for tic in ax1.xaxis.get_major_ticks():\n",
    "        tic.tick1On = tic.tick2On = False\n",
    "    for tic in ax1.yaxis.get_major_ticks():\n",
    "        tic.tick1On = tic.tick2On = False\n",
    "    # Remove Border\n",
    "    ax1.spines['top'].set_visible(False)\n",
    "    ax1.spines['right'].set_visible(False)\n",
    "    ax1.spines['bottom'].set_visible(False)\n",
    "    ax1.spines['left'].set_visible(False)\n",
    "    # Limits\n",
    "    ax1.set_xlim(-border,ax1width+border)\n",
    "    ax1.set_ylim(-border,ax1height+border)\n",
    "\n",
    "\n",
    "    # FileName\n",
    "    filename = n.name.replace('/','_')\n",
    "    filename = filename.replace(',','_')\n",
    "    \n",
    "    ## Display ##\n",
    "    display(fig)\n",
    "    \n",
    "    ## Save to file\n",
    "    plt.savefig('{path:s}/figure-example/SCH-{nid:d}.svg'.format(path=os.getcwd(), nid=nid),\n",
    "                dpi=dpi, transparent=True)\n",
    "    \n",
    "    plt.close()"
   ]
  },
  {
   "cell_type": "code",
   "execution_count": 102,
   "metadata": {},
   "outputs": [
    {
     "name": "stdout",
     "output_type": "stream",
     "text": [
      "3 <BNode(name='$x_4$', k=3, inputs=[$x_1$,$x_2$,$x_3$], state=0, outputs='[0,0,0,0,0,0,1,1]' constant=False)>\n"
     ]
    },
    {
     "data": {
      "image/png": "[encoded data removed]",
      "text/plain": [
       "<Figure size 697x392 with 1 Axes>"
      ]
     },
     "metadata": {},
     "output_type": "display_data"
    }
   ],
   "source": [
    "nid = 3\n",
    "node = N.nodes[nid]\n",
    "print(nid,node)\n",
    "plot_schemata(nid,N.nodes[nid])"
   ]
  }
 ],
 "metadata": {
  "kernelspec": {
   "display_name": "Python 3",
   "language": "python",
   "name": "python3"
  },
  "language_info": {
   "codemirror_mode": {
    "name": "ipython",
    "version": 3
   },
   "file_extension": ".py",
   "mimetype": "text/x-python",
   "name": "python",
   "nbconvert_exporter": "python",
   "pygments_lexer": "ipython3",
   "version": "3.7.5"
  }
 },
 "nbformat": 4,
 "nbformat_minor": 2
}
