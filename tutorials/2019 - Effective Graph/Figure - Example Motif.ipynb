{
 "cells": [
  {
   "cell_type": "markdown",
   "metadata": {},
   "source": [
    "# Effective Graph Paper\n",
    "Code to generate \"example_motifs\" figure "
   ]
  },
  {
   "cell_type": "code",
   "execution_count": 2,
   "metadata": {},
   "outputs": [],
   "source": [
    "%load_ext autoreload\n",
    "%autoreload 2\n",
    "%matplotlib inline"
   ]
  },
  {
   "cell_type": "code",
   "execution_count": 3,
   "metadata": {},
   "outputs": [],
   "source": [
    "import os\n",
    "import numpy as np\n",
    "import pandas as pd\n",
    "from IPython.display import Image, display\n",
    "import graphviz\n",
    "import cana\n",
    "from cana.boolean_network import BooleanNetwork\n",
    "import matplotlib as mpl\n",
    "mpl.rcParams['mathtext.fontset'] = 'cm'\n",
    "mpl.rcParams['mathtext.rm'] = 'serif'\n",
    "import matplotlib.pyplot as plt\n",
    "from matplotlib.text import Text\n",
    "from matplotlib.patches import Circle, Rectangle, RegularPolygon\n",
    "from matplotlib.collections import PatchCollection\n",
    "from IPython.display import display, Image, Latex, SVG, HTML\n",
    "import networkx as nx"
   ]
  },
  {
   "cell_type": "code",
   "execution_count": 4,
   "metadata": {},
   "outputs": [],
   "source": [
    "def plot_look_up_table(net, nid, n):\n",
    "    # Init values from BooleanNode\n",
    "    k = n.k if n.k>=1 else 1\n",
    "    inputs = n.inputs if not n.constant else [n.name]\n",
    "    LUT = n.look_up_table().sort_index(ascending=False)\n",
    "    # Count number of F in the LUT\n",
    "    n_fs = LUT.shape[0]\n",
    "    # Schemata Cell Width and spacing\n",
    "    cwidth = 60.\n",
    "    cxspace = 0\n",
    "    cyspace = 6\n",
    "    border = 1\n",
    "    sepcxspace = 21\n",
    "    sepcyspace = 15\n",
    "    dpi = 150.\n",
    "    # Margins\n",
    "    top, right, bottom, left, hs = 120, 25, 25, 60, 25\n",
    "    # Axes Width & Height\n",
    "    ax1width = ((k*(cwidth+cxspace))+sepcxspace+(cwidth))\n",
    "    ax1height = (n_fs*(cwidth+cyspace)-cyspace)\n",
    "    # Figure Width & Height\n",
    "    fwidth = (left + ax1width + hs + right)\n",
    "    fheight = (bottom + ax1height + top)\n",
    "    # Percentages for Axes location\n",
    "    _ax1w = ((ax1width*100) / fwidth) / 100\n",
    "    _ax1h = ((ax1height*100) / fheight) / 100\n",
    "    _bottom = ((bottom*100) / fheight) / 100\n",
    "    _left = ((left*100) / fwidth) / 100\n",
    "    _hs = ((hs*100) / fwidth) / 100\n",
    "    # Init Figure\n",
    "    fig = plt.figure(figsize=(fwidth/dpi,fheight/dpi), facecolor='w', dpi=dpi)\n",
    "    ax1 = fig.add_axes((_left,_bottom,_ax1w,_ax1h), aspect=1, label='LUT')\n",
    "\n",
    "    ### LUT Plot ###\n",
    "\n",
    "    yticks = []\n",
    "    patches = []\n",
    "    x,y = 0.,0.\n",
    "    #\n",
    "    for i,r in LUT.iterrows():\n",
    "        ins = str(r['In:'])\n",
    "        out = r['Out:']\n",
    "        x = 0.\n",
    "        xticks = []\n",
    "        for input in ins:\n",
    "            if input == '0':\n",
    "                facecolor = 'white'\n",
    "                textcolor = 'black'\n",
    "            elif input == '1':\n",
    "                facecolor = 'black'\n",
    "                textcolor = 'white'      \n",
    "            text = '%s'%(input)\n",
    "            ax1.add_artist(Text(x+cwidth/2,y+cwidth/10*4, text=text, color=textcolor, va='center', ha='center',fontsize=14,family='serif'))\n",
    "            r = Rectangle((x,y), width=cwidth, height=cwidth, facecolor=facecolor, edgecolor='black')\n",
    "            patches.append(r)\n",
    "            xticks.append(x+cwidth/2)\n",
    "            x += cwidth + cxspace\n",
    "\n",
    "        x += sepcxspace\n",
    "        r = Rectangle((x,y), width=cwidth, height=cwidth, facecolor='black' if (out==1) else 'white', edgecolor='black')\n",
    "        ax1.add_artist(Text(x-(sepcxspace/2)-(cxspace/2),y+cwidth/10*5, text=':', color='black', va='center', ha='center',fontsize=14,weight='bold',family='serif'))\n",
    "        ax1.add_artist(Text(x+(cwidth/2),y+cwidth/10*4, text=out, color='white' if (out==1) else 'black', va='center', ha='center',fontsize=14,family='serif'))\n",
    "        patches.append(r)\n",
    "        xticks.append(x+cwidth/2)\n",
    "        yticks.append(y+cwidth/2)\n",
    "        y += cwidth + cyspace\n",
    "\n",
    "        #y += sepcyspace\n",
    "\n",
    "    ax1.add_collection(PatchCollection(patches,match_original=True))\n",
    "    #\n",
    "    ax1.set_yticks(yticks)\n",
    "    ax1.set_yticklabels([r\"$f_{%d}$\"%(i+1) for i in range(n_fs)[::-1]], fontsize=14)\n",
    "    ax1.set_xticks(xticks)\n",
    "    ax1.set_xticklabels(inputs + ['%s'%(n.name)], rotation=0, fontsize=14)\n",
    "    #\n",
    "    ax1.xaxis.tick_top()\n",
    "    # Remove Tick\n",
    "    ax1.tick_params(which='major',pad=7)\n",
    "    for tic in ax1.xaxis.get_major_ticks():\n",
    "        tic.tick1On = tic.tick2On = False\n",
    "    for tic in ax1.yaxis.get_major_ticks():\n",
    "        tic.tick1On = tic.tick2On = False\n",
    "    # Remove Border\n",
    "    ax1.spines['top'].set_visible(False)\n",
    "    ax1.spines['right'].set_visible(False)\n",
    "    ax1.spines['bottom'].set_visible(False)\n",
    "    ax1.spines['left'].set_visible(False)\n",
    "    # Limits\n",
    "    ax1.set_xlim(-border,ax1width+border)\n",
    "    ax1.set_ylim(-border,ax1height+border)\n",
    "    #ax1.invert_yaxis() \n",
    "\n",
    "    # FileName\n",
    "    filename = n.name\n",
    "    filename = filename.replace('/','_')\n",
    "    filename = filename.replace(',','_')\n",
    "    \n",
    "    ## Display\n",
    "    display(fig)\n",
    "    \n",
    "    ## Save to file\n",
    "    plt.savefig('{path:s}/figure-motif/LUT-{net:s}-{nid:d}.svg'.format(path=os.getcwd(), net=net, nid=nid),\n",
    "                dpi=dpi, transparent=True)\n",
    "    \n",
    "    plt.close()"
   ]
  },
  {
   "cell_type": "code",
   "execution_count": 5,
   "metadata": {},
   "outputs": [
    {
     "name": "stdout",
     "output_type": "stream",
     "text": [
      "<BNetwork(Name='A', N=4, Nodes=['$x_1$', '$x_2$', '$x_3$', '$x_4$'])>\n",
      "<BNode(name='$x_1$', k=0, inputs=[], state=0, outputs='[1]' constant=True)>\n",
      "<BNode(name='$x_2$', k=2, inputs=[$x_1$,$x_4$], state=0, outputs='[1,1,0,0]' constant=False)>\n",
      "<BNode(name='$x_3$', k=1, inputs=[$x_2$], state=0, outputs='[1,0]' constant=False)>\n",
      "<BNode(name='$x_4$', k=1, inputs=[$x_3$], state=0, outputs='[1,0]' constant=False)>\n"
     ]
    }
   ],
   "source": [
    "# Graph A\n",
    "logic = {\n",
    "    0 : {'name':r'$x_1$', 'in':[],    'out':[1]       },\n",
    "    1 : {'name':r'$x_2$', 'in':[0,3], 'out':[1,1,0,0] },\n",
    "    2 : {'name':r'$x_3$', 'in':[1],   'out':[1,0]     },\n",
    "    3 : {'name':r'$x_4$', 'in':[2],   'out':[1,0]     }\n",
    "}\n",
    "N = cana.boolean_network.BooleanNetwork(name='A', Nnodes=4, logic=logic)\n",
    "print(N)\n",
    "for node in N.nodes:\n",
    "    print(node)"
   ]
  },
  {
   "cell_type": "code",
   "execution_count": 10,
   "metadata": {},
   "outputs": [
    {
     "data": {
      "image/svg+xml": [
       "<svg height=\"192pt\" viewBox=\"0.00 0.00 134.40 192.00\" width=\"134pt\" xmlns=\"http://www.w3.org/2000/svg\" xmlns:xlink=\"http://www.w3.org/1999/xlink\">\n",
       "<g class=\"graph\" id=\"graph0\" transform=\"scale(1 1) rotate(0) translate(4 188)\">\n",
       "<title>Structural Graph</title>\n",
       "<polygon fill=\"white\" points=\"-4,4 -4,-188 130.4,-188 130.4,4 -4,4\" stroke=\"none\"/>\n",
       "<!-- 1 -->\n",
       "<g class=\"node\" id=\"node1\"><title>1</title>\n",
       "<ellipse cx=\"63.2\" cy=\"-164\" fill=\"white\" rx=\"20\" ry=\"20\" stroke=\"#00594c\" stroke-width=\"4\"/>\n",
       "</g>\n",
       "<!-- 2 -->\n",
       "<g class=\"node\" id=\"node2\"><title>2</title>\n",
       "<ellipse cx=\"63.2\" cy=\"-92\" fill=\"white\" rx=\"20\" ry=\"20\" stroke=\"#00594c\" stroke-width=\"4\"/>\n",
       "</g>\n",
       "<!-- 1&#45;&gt;2 -->\n",
       "<g class=\"edge\" id=\"edge1\"><title>1-&gt;2</title>\n",
       "<path d=\"M63.2,-143.944C63.2,-135.743 63.2,-126.159 63.2,-117.471\" fill=\"none\" stroke=\"black\" stroke-width=\"4\"/>\n",
       "<polygon fill=\"black\" points=\"64.9501,-117.198 63.2,-112.198 61.4501,-117.198 64.9501,-117.198\" stroke=\"black\" stroke-width=\"4\"/>\n",
       "</g>\n",
       "<!-- 3 -->\n",
       "<g class=\"node\" id=\"node3\"><title>3</title>\n",
       "<ellipse cx=\"106.4\" cy=\"-20\" fill=\"white\" rx=\"20\" ry=\"20\" stroke=\"#00594c\" stroke-width=\"4\"/>\n",
       "</g>\n",
       "<!-- 2&#45;&gt;3 -->\n",
       "<g class=\"edge\" id=\"edge2\"><title>2-&gt;3</title>\n",
       "<path d=\"M73.6575,-74.5708C79.6006,-64.6656 87.0935,-52.1775 93.4111,-41.6481\" fill=\"none\" stroke=\"black\" stroke-width=\"4\"/>\n",
       "<polygon fill=\"black\" points=\"94.9669,-42.4565 96.0388,-37.2687 91.9656,-40.6558 94.9669,-42.4565\" stroke=\"black\" stroke-width=\"4\"/>\n",
       "</g>\n",
       "<!-- 4 -->\n",
       "<g class=\"node\" id=\"node4\"><title>4</title>\n",
       "<ellipse cx=\"20\" cy=\"-20\" fill=\"white\" rx=\"20\" ry=\"20\" stroke=\"#00594c\" stroke-width=\"4\"/>\n",
       "</g>\n",
       "<!-- 3&#45;&gt;4 -->\n",
       "<g class=\"edge\" id=\"edge3\"><title>3-&gt;4</title>\n",
       "<path d=\"M86.3609,-20C74.1265,-20 58.3735,-20 45.2861,-20\" fill=\"none\" stroke=\"black\" stroke-width=\"4\"/>\n",
       "<polygon fill=\"black\" points=\"45.2297,-18.2501 40.2297,-20 45.2296,-21.7501 45.2297,-18.2501\" stroke=\"black\" stroke-width=\"4\"/>\n",
       "</g>\n",
       "<!-- 4&#45;&gt;2 -->\n",
       "<g class=\"edge\" id=\"edge4\"><title>4-&gt;2</title>\n",
       "<path d=\"M30.4575,-37.4292C36.4006,-47.3344 43.8935,-59.8225 50.2111,-70.3519\" fill=\"none\" stroke=\"#a90533\" stroke-dasharray=\"5,2\" stroke-width=\"4\"/>\n",
       "<polygon fill=\"#a90533\" points=\"48.7656,-71.3442 52.8388,-74.7313 51.7669,-69.5435 48.7656,-71.3442\" stroke=\"#a90533\" stroke-width=\"4\"/>\n",
       "</g>\n",
       "</g>\n",
       "</svg>"
      ],
      "text/plain": [
       "<IPython.core.display.SVG object>"
      ]
     },
     "metadata": {
      "isolated": true
     },
     "output_type": "display_data"
    },
    {
     "data": {
      "text/plain": [
       "'/Users/rionbr/Sites/CANA/experiments/2018 - Paper/figure-motif/SG-A.svg'"
      ]
     },
     "execution_count": 10,
     "metadata": {},
     "output_type": "execute_result"
    }
   ],
   "source": [
    "# Manually Draw the Structural Graph\n",
    "S = graphviz.Digraph(name='Structural Graph', engine='neato')\n",
    "S.attr('graph', size='3,3', concentrate='false', simplify='false', overlap='false',splines='false')\n",
    "S.attr('node', pin='true', shape='circle', fixedsize='true', width='.55', color='#00594c', style='filled', fillcolor='#515660', penwidth='4', fontname='Helvetica', fontcolor='black',fontsize='12')\n",
    "S.attr('edge', arrowhead='normal', arrowsize='.5', color='black', penwidth='4')\n",
    "   \n",
    "S.node('1', label='', pos='2,3', fillcolor='white')\n",
    "S.node('2', label='', pos='2,2', fillcolor='white')\n",
    "S.node('3', label='', pos='2.6,1', fillcolor='white')\n",
    "S.node('4', label='', pos='1.4,1', fillcolor='white')\n",
    "\n",
    "S.edge('1','2')\n",
    "S.edge('2','3')\n",
    "S.edge('3','4')\n",
    "S.edge('4','2', style='dashed', color='#A90533')\n",
    "    \n",
    "display(SVG(S.pipe(format='svg')),metadata={'isolated':True})\n",
    "# Export\n",
    "S._format = 'svg'\n",
    "efile = u\"{path:s}/figure-motif/SG-A\".format(path=os.getcwd())\n",
    "S.render(efile, cleanup=True)"
   ]
  },
  {
   "cell_type": "code",
   "execution_count": 6,
   "metadata": {
    "scrolled": false
   },
   "outputs": [
    {
     "data": {
      "image/png": "[encoded data removed]",
      "text/plain": [
       "<Figure size 311x403 with 1 Axes>"
      ]
     },
     "metadata": {},
     "output_type": "display_data"
    },
    {
     "data": {
      "image/png": "[encoded data removed]",
      "text/plain": [
       "<Figure size 251x271 with 1 Axes>"
      ]
     },
     "metadata": {},
     "output_type": "display_data"
    },
    {
     "data": {
      "image/png": "[encoded data removed]",
      "text/plain": [
       "<Figure size 251x271 with 1 Axes>"
      ]
     },
     "metadata": {},
     "output_type": "display_data"
    }
   ],
   "source": [
    "for i,node in enumerate(N.nodes[1:],start=0):\n",
    "    plot_look_up_table('A',i,node)"
   ]
  },
  {
   "cell_type": "code",
   "execution_count": 7,
   "metadata": {},
   "outputs": [
    {
     "name": "stdout",
     "output_type": "stream",
     "text": [
      "<BNetwork(Name='B', N=3, Nodes=['$x_5$', '$x_6$', '$x_7$'])>\n",
      "<BNode(name='$x_5$', k=0, inputs=[], state=0, outputs='[1]' constant=True)>\n",
      "<BNode(name='$x_6$', k=1, inputs=[$x_5$], state=0, outputs='[0,1]' constant=False)>\n",
      "<BNode(name='$x_7$', k=2, inputs=[$x_5$,$x_6$], state=0, outputs='[0,1,1,1]' constant=False)>\n"
     ]
    }
   ],
   "source": [
    "# Graph B\n",
    "logic = {\n",
    "    0 : {'name':r'$x_5$', 'in':[],    'out':[1]       },\n",
    "    1 : {'name':r'$x_6$', 'in':[0],   'out':[0,1] },\n",
    "    2 : {'name':r'$x_7$', 'in':[0,1], 'out':[0,1,1,1]     },\n",
    "}\n",
    "N = cana.boolean_network.BooleanNetwork(name='B', Nnodes=3, logic=logic)\n",
    "print(N)\n",
    "for node in N.nodes:\n",
    "    print(node)"
   ]
  },
  {
   "cell_type": "code",
   "execution_count": 8,
   "metadata": {},
   "outputs": [
    {
     "data": {
      "image/svg+xml": [
       "<svg height=\"120pt\" viewBox=\"0.00 0.00 134.40 120.00\" width=\"134pt\" xmlns=\"http://www.w3.org/2000/svg\" xmlns:xlink=\"http://www.w3.org/1999/xlink\">\n",
       "<g class=\"graph\" id=\"graph0\" transform=\"scale(1 1) rotate(0) translate(4 116)\">\n",
       "<title>Structural Graph</title>\n",
       "<polygon fill=\"white\" points=\"-4,4 -4,-116 130.4,-116 130.4,4 -4,4\" stroke=\"none\"/>\n",
       "<!-- 5 -->\n",
       "<g class=\"node\" id=\"node1\"><title>5</title>\n",
       "<ellipse cx=\"63.2\" cy=\"-92\" fill=\"white\" rx=\"20\" ry=\"20\" stroke=\"#00594c\" stroke-width=\"4\"/>\n",
       "</g>\n",
       "<!-- 6 -->\n",
       "<g class=\"node\" id=\"node2\"><title>6</title>\n",
       "<ellipse cx=\"106.4\" cy=\"-20\" fill=\"white\" rx=\"20\" ry=\"20\" stroke=\"#00594c\" stroke-width=\"4\"/>\n",
       "</g>\n",
       "<!-- 5&#45;&gt;6 -->\n",
       "<g class=\"edge\" id=\"edge1\"><title>5-&gt;6</title>\n",
       "<path d=\"M73.6575,-74.5708C79.6006,-64.6656 87.0935,-52.1775 93.4111,-41.6481\" fill=\"none\" stroke=\"#a90533\" stroke-dasharray=\"5,2\" stroke-width=\"4\"/>\n",
       "<polygon fill=\"#a90533\" points=\"94.9669,-42.4565 96.0388,-37.2687 91.9656,-40.6558 94.9669,-42.4565\" stroke=\"#a90533\" stroke-width=\"4\"/>\n",
       "</g>\n",
       "<!-- 7 -->\n",
       "<g class=\"node\" id=\"node3\"><title>7</title>\n",
       "<ellipse cx=\"20\" cy=\"-20\" fill=\"white\" rx=\"20\" ry=\"20\" stroke=\"#00594c\" stroke-width=\"4\"/>\n",
       "</g>\n",
       "<!-- 5&#45;&gt;7 -->\n",
       "<g class=\"edge\" id=\"edge2\"><title>5-&gt;7</title>\n",
       "<path d=\"M52.7425,-74.5708C46.7994,-64.6656 39.3065,-52.1775 32.9889,-41.6481\" fill=\"none\" stroke=\"black\" stroke-width=\"4\"/>\n",
       "<polygon fill=\"black\" points=\"34.4344,-40.6558 30.3612,-37.2687 31.4331,-42.4565 34.4344,-40.6558\" stroke=\"black\" stroke-width=\"4\"/>\n",
       "</g>\n",
       "<!-- 6&#45;&gt;7 -->\n",
       "<g class=\"edge\" id=\"edge3\"><title>6-&gt;7</title>\n",
       "<path d=\"M86.3609,-20C74.1265,-20 58.3735,-20 45.2861,-20\" fill=\"none\" stroke=\"black\" stroke-width=\"4\"/>\n",
       "<polygon fill=\"black\" points=\"45.2297,-18.2501 40.2297,-20 45.2296,-21.7501 45.2297,-18.2501\" stroke=\"black\" stroke-width=\"4\"/>\n",
       "</g>\n",
       "</g>\n",
       "</svg>"
      ],
      "text/plain": [
       "<IPython.core.display.SVG object>"
      ]
     },
     "metadata": {
      "isolated": true
     },
     "output_type": "display_data"
    },
    {
     "data": {
      "text/plain": [
       "'/Users/rionbr/Sites/CANA/experiments/2018 - Paper/figure-motif/SG-B.svg'"
      ]
     },
     "execution_count": 8,
     "metadata": {},
     "output_type": "execute_result"
    }
   ],
   "source": [
    "# Manually Draw the Structural Graph\n",
    "S = graphviz.Digraph(name='Structural Graph', engine='neato')\n",
    "S.attr('graph', size='3,3', concentrate='false', simplify='false', overlap='false',splines='false')\n",
    "S.attr('node', pin='true', shape='circle', fixedsize='true', width='.55', color='#00594c', style='filled', fillcolor='#515660', penwidth='4', fontname='Helvetica', fontcolor='black',fontsize='12')\n",
    "S.attr('edge', arrowhead='normal', arrowsize='.5', color='black', penwidth='4')\n",
    "   \n",
    "S.node('5', label='', pos='2,2', fillcolor='white')\n",
    "S.node('6', label='', pos='2.6,1', fillcolor='white')\n",
    "S.node('7', label='', pos='1.4,1', fillcolor='white')\n",
    "\n",
    "S.edge('5','6', style='dashed', color='#A90533')\n",
    "S.edge('5','7')\n",
    "S.edge('6','7')\n",
    "    \n",
    "display(SVG(S.pipe(format='svg')),metadata={'isolated':True})\n",
    "# Export\n",
    "S._format = 'svg'\n",
    "efile = u\"{path:s}/figure-motif/SG-B\".format(path=os.getcwd())\n",
    "S.render(efile, cleanup=True)"
   ]
  },
  {
   "cell_type": "code",
   "execution_count": 9,
   "metadata": {},
   "outputs": [
    {
     "data": {
      "image/png": "[encoded data removed]",
      "text/plain": [
       "<Figure size 251x271 with 1 Axes>"
      ]
     },
     "metadata": {},
     "output_type": "display_data"
    },
    {
     "data": {
      "image/png": "[encoded data removed]",
      "text/plain": [
       "<Figure size 311x403 with 1 Axes>"
      ]
     },
     "metadata": {},
     "output_type": "display_data"
    }
   ],
   "source": [
    "for i,node in enumerate(N.nodes[1:],start=0):\n",
    "    plot_look_up_table('B',i+5,node)"
   ]
  },
  {
   "cell_type": "code",
   "execution_count": null,
   "metadata": {},
   "outputs": [],
   "source": []
  },
  {
   "cell_type": "code",
   "execution_count": null,
   "metadata": {},
   "outputs": [],
   "source": []
  }
 ],
 "metadata": {
  "kernelspec": {
   "display_name": "Python 3",
   "language": "python",
   "name": "python3"
  },
  "language_info": {
   "codemirror_mode": {
    "name": "ipython",
    "version": 3
   },
   "file_extension": ".py",
   "mimetype": "text/x-python",
   "name": "python",
   "nbconvert_exporter": "python",
   "pygments_lexer": "ipython3",
   "version": "3.7.5"
  }
 },
 "nbformat": 4,
 "nbformat_minor": 2
}
