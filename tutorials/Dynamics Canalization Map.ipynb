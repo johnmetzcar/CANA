{
 "cells": [
  {
   "cell_type": "markdown",
   "metadata": {},
   "source": [
    "# Tutorial - Dynamics Canalization Map (DCM)\n"
   ]
  },
  {
   "cell_type": "code",
   "execution_count": 10,
   "metadata": {},
   "outputs": [
    {
     "name": "stdout",
     "output_type": "stream",
     "text": [
      "The autoreload extension is already loaded. To reload it, use:\n",
      "  %reload_ext autoreload\n"
     ]
    }
   ],
   "source": [
    "%load_ext autoreload\n",
    "%autoreload 2\n",
    "%matplotlib inline"
   ]
  },
  {
   "cell_type": "code",
   "execution_count": 12,
   "metadata": {},
   "outputs": [
    {
     "name": "stdout",
     "output_type": "stream",
     "text": [
      "3.6.10\n"
     ]
    }
   ],
   "source": [
    "import os\n",
    "from cana.datasets.bio import THALIANA\n",
    "from cana.drawing.canalizing_map import draw_canalizing_map_graphviz\n",
    "from cana.datasets.regan_networks import load_all_regan_pi3k_models\n",
    "# from cana.datasets import regan_networks\n",
    "from IPython.display import display\n",
    "\n",
    "from platform import python_version\n",
    "\n",
    "print(python_version())"
   ]
  },
  {
   "cell_type": "code",
   "execution_count": null,
   "metadata": {},
   "outputs": [],
   "source": [
    "N = THALIANA()\n",
    "regan_models = []\n",
    "regan_models = load_all_regan_pi3k_models()\n",
    "# N = BooleanNetwork.from_file('/Regan2012Apoptosis.txt',type='logical', keep_constrants=True)\n",
    "for N in regan_models:\n",
    "    print(N.name)"
   ]
  },
  {
   "cell_type": "code",
   "execution_count": null,
   "metadata": {},
   "outputs": [],
   "source": [
    "# Request the CM for one node (note that the node doesn't know the name of its inputs)\n",
    "CM = N.nodes[2].canalizing_map()\n",
    "# Draw using the graphviz interface.\n",
    "gCM = draw_canalizing_map_graphviz(CM)\n",
    "# Display\n",
    "display(gCM)"
   ]
  },
  {
   "cell_type": "code",
   "execution_count": null,
   "metadata": {
    "scrolled": false
   },
   "outputs": [],
   "source": [
    "# Request the DCM to the Network\n",
    "DCM = N.dynamics_canalization_map(simplify=True)\n",
    "# Draws using the graphviz interface.\n",
    "gDCM = draw_canalizing_map_graphviz(DCM)\n",
    "# Display\n",
    "display(gDCM)"
   ]
  },
  {
   "cell_type": "code",
   "execution_count": null,
   "metadata": {},
   "outputs": [],
   "source": []
  }
 ],
 "metadata": {
  "kernelspec": {
   "display_name": "Python 3",
   "language": "python",
   "name": "python3"
  },
  "language_info": {
   "codemirror_mode": {
    "name": "ipython",
    "version": 3
   },
   "file_extension": ".py",
   "mimetype": "text/x-python",
   "name": "python",
   "nbconvert_exporter": "python",
   "pygments_lexer": "ipython3",
   "version": "3.6.10"
  }
 },
 "nbformat": 4,
 "nbformat_minor": 2
}